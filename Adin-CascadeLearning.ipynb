{
 "cells": [
  {
   "cell_type": "code",
   "execution_count": 1,
   "id": "83e65d92",
   "metadata": {
    "tags": []
   },
   "outputs": [],
   "source": [
    "import pandas as pd \n",
    "import numpy as np\n",
    "import matplotlib.pyplot as plt\n",
    "import seaborn as sns\n",
    "import os\n",
    "from sklearn.preprocessing import PolynomialFeatures\n",
    "from sklearn.preprocessing import LabelEncoder"
   ]
  },
  {
   "cell_type": "code",
   "execution_count": 2,
   "id": "28141a6f",
   "metadata": {
    "tags": []
   },
   "outputs": [],
   "source": [
    "# load data\n",
    "df_train = pd.read_csv('train.csv')\n",
    "df_test = pd.read_csv('test.csv')\n",
    "\n",
    "# load with sentiment analysis\n",
    "# df_train = pd.read_csv('train_sent.csv')\n",
    "# df_test = pd.read_csv('test_sent.csv')\n"
   ]
  },
  {
   "cell_type": "code",
   "execution_count": 3,
   "id": "d5bf3449",
   "metadata": {
    "tags": []
   },
   "outputs": [
    {
     "data": {
      "text/plain": [
       "Index(['Danceability', 'Energy', 'Key', 'Loudness', 'Speechiness',\n",
       "       'Acousticness', 'Instrumentalness', 'Liveness', 'Valence', 'Tempo',\n",
       "       'Duration_ms', 'Views', 'Likes', 'Stream', 'Album_type', 'Licensed',\n",
       "       'official_video', 'id', 'Track', 'Album', 'Uri', 'Url_spotify',\n",
       "       'Url_youtube', 'Comments', 'Description', 'Title', 'Channel',\n",
       "       'Composer', 'Artist'],\n",
       "      dtype='object')"
      ]
     },
     "execution_count": 3,
     "metadata": {},
     "output_type": "execute_result"
    }
   ],
   "source": [
    "df_train.columns"
   ]
  },
  {
   "cell_type": "code",
   "execution_count": 4,
   "id": "3148140d",
   "metadata": {
    "tags": []
   },
   "outputs": [
    {
     "data": {
      "text/plain": [
       "Danceability        float64\n",
       "Energy              float64\n",
       "Key                 float64\n",
       "Loudness            float64\n",
       "Speechiness         float64\n",
       "Acousticness        float64\n",
       "Instrumentalness    float64\n",
       "Liveness            float64\n",
       "Valence             float64\n",
       "Tempo               float64\n",
       "Duration_ms         float64\n",
       "Views               float64\n",
       "Likes               float64\n",
       "Stream              float64\n",
       "Album_type           object\n",
       "Licensed             object\n",
       "official_video       object\n",
       "id                    int64\n",
       "Track                object\n",
       "Album                object\n",
       "Uri                  object\n",
       "Url_spotify          object\n",
       "Url_youtube          object\n",
       "Comments            float64\n",
       "Description          object\n",
       "Title                object\n",
       "Channel              object\n",
       "Composer             object\n",
       "Artist               object\n",
       "dtype: object"
      ]
     },
     "execution_count": 4,
     "metadata": {},
     "output_type": "execute_result"
    }
   ],
   "source": [
    "df_train.dtypes"
   ]
  },
  {
   "cell_type": "code",
   "execution_count": 5,
   "id": "70bb905c",
   "metadata": {
    "tags": []
   },
   "outputs": [],
   "source": [
    "def create_dictionary(keys):\n",
    "    dictionary = {}\n",
    "    for key in keys:\n",
    "        dictionary[key] = None  \n",
    "    return dictionary\n",
    "\n",
    "\n",
    "def data_process_keep_only_numerical(input_data):\n",
    "    numeric_columns = input_data.select_dtypes(include=['int64', 'float64'])\n",
    "    return numeric_columns\n",
    "\n",
    "def word_dictionary(arr_columns, input_train, input_test):\n",
    "    # Append the two DataFrames\n",
    "    appended_df = pd.concat([input_train, input_test])\n",
    "    appended_df.reset_index(drop=True, inplace=True)\n",
    "    arr_word_dict = {}\n",
    "    for col in arr_columns:\n",
    "        uniq_tmp = appended_df[col].unique()\n",
    "        arr_dict = {value: value if isinstance(value, (int, float)) and np.isnan(value) else index for index, value in enumerate(uniq_tmp)}\n",
    "        arr_word_dict[col] = arr_dict\n",
    "    return arr_word_dict\n",
    "\n",
    "word_dict = word_dictionary([\n",
    "    'Album_type', 'Licensed', 'official_video', 'Track', 'Album', 'Uri', 'Url_spotify', 'Url_youtube', \n",
    "    'Description', 'Title', 'Channel', 'Composer', 'Artist'], df_train, df_test)\n",
    "\n",
    "# Using Dictionary:\n",
    "#   Album_type, Licensed, official_video, Composer, Channel, Artist\n",
    "# Can be removed:\n",
    "#   Uri, Url_spotify, Url_youtube\n",
    "# Cannot use word_dict:\n",
    "#   Track, Album, Description, Title\n",
    "# ret_train.head()\n",
    "# ret_test.head()"
   ]
  },
  {
   "cell_type": "code",
   "execution_count": 6,
   "id": "bd381552-ad3f-44df-9580-f8d185b43f70",
   "metadata": {
    "tags": []
   },
   "outputs": [
    {
     "data": {
      "text/plain": [
       "{'album': 0, nan: nan, 'single': 2, 'compilation': 3}"
      ]
     },
     "execution_count": 6,
     "metadata": {},
     "output_type": "execute_result"
    }
   ],
   "source": [
    "word_dict['Album_type']"
   ]
  },
  {
   "cell_type": "code",
   "execution_count": 7,
   "id": "647f8f8e-f242-4e52-815e-23a206331759",
   "metadata": {
    "tags": []
   },
   "outputs": [
    {
     "data": {
      "text/html": [
       "<div>\n",
       "<style scoped>\n",
       "    .dataframe tbody tr th:only-of-type {\n",
       "        vertical-align: middle;\n",
       "    }\n",
       "\n",
       "    .dataframe tbody tr th {\n",
       "        vertical-align: top;\n",
       "    }\n",
       "\n",
       "    .dataframe thead th {\n",
       "        text-align: right;\n",
       "    }\n",
       "</style>\n",
       "<table border=\"1\" class=\"dataframe\">\n",
       "  <thead>\n",
       "    <tr style=\"text-align: right;\">\n",
       "      <th></th>\n",
       "      <th>Danceability</th>\n",
       "      <th>Energy</th>\n",
       "      <th>Key</th>\n",
       "      <th>Loudness</th>\n",
       "      <th>Speechiness</th>\n",
       "      <th>Acousticness</th>\n",
       "      <th>Instrumentalness</th>\n",
       "      <th>Liveness</th>\n",
       "      <th>Valence</th>\n",
       "      <th>Tempo</th>\n",
       "      <th>...</th>\n",
       "      <th>Album</th>\n",
       "      <th>Uri</th>\n",
       "      <th>Url_spotify</th>\n",
       "      <th>Url_youtube</th>\n",
       "      <th>Comments</th>\n",
       "      <th>Description</th>\n",
       "      <th>Title</th>\n",
       "      <th>Channel</th>\n",
       "      <th>Composer</th>\n",
       "      <th>Artist</th>\n",
       "    </tr>\n",
       "  </thead>\n",
       "  <tbody>\n",
       "    <tr>\n",
       "      <th>0</th>\n",
       "      <td>0.0</td>\n",
       "      <td>0.000273</td>\n",
       "      <td>3.0</td>\n",
       "      <td>-25.176</td>\n",
       "      <td>0.0443</td>\n",
       "      <td>0.724151</td>\n",
       "      <td>0.000062</td>\n",
       "      <td>0.000807</td>\n",
       "      <td>0.340</td>\n",
       "      <td>83.398</td>\n",
       "      <td>...</td>\n",
       "      <td>Sinkovsky Plays and Sings Vivaldi</td>\n",
       "      <td>spotify:track:7njAZhca4o80qQdCgyEWya</td>\n",
       "      <td>https://open.spotify.com/artist/2QOIawHpSlOwXD...</td>\n",
       "      <td>https://www.youtube.com/watch?v=NzCL9uLkQSI</td>\n",
       "      <td>3070.0</td>\n",
       "      <td>Antonio Vivaldi's 4th Concerto - From his Most...</td>\n",
       "      <td>Antonio Vivaldi - Concerto No.4 in F minor, Op...</td>\n",
       "      <td>Mozafunkula</td>\n",
       "      <td>NaN</td>\n",
       "      <td>Marshmello</td>\n",
       "    </tr>\n",
       "    <tr>\n",
       "      <th>1</th>\n",
       "      <td>0.0</td>\n",
       "      <td>0.184220</td>\n",
       "      <td>7.0</td>\n",
       "      <td>NaN</td>\n",
       "      <td>NaN</td>\n",
       "      <td>0.672221</td>\n",
       "      <td>0.910000</td>\n",
       "      <td>0.034966</td>\n",
       "      <td>0.746</td>\n",
       "      <td>148.692</td>\n",
       "      <td>...</td>\n",
       "      <td>NaN</td>\n",
       "      <td>spotify:track:2nnXe7n3Vivs7OfQKRsfWD</td>\n",
       "      <td>https://open.spotify.com/artist/2QOIawHpSlOwXD...</td>\n",
       "      <td>https://www.youtube.com/watch?v=jAnzlpPuIDU</td>\n",
       "      <td>122.0</td>\n",
       "      <td>A. Vivaldi Concerto No. 2 in G minor, RV 315, ...</td>\n",
       "      <td>A. Vivaldi Concerto No. 2 in G minor, RV 315, ...</td>\n",
       "      <td>Anton Paisov</td>\n",
       "      <td>Finneas O'Connell</td>\n",
       "      <td>Bon Iver</td>\n",
       "    </tr>\n",
       "    <tr>\n",
       "      <th>2</th>\n",
       "      <td>0.0</td>\n",
       "      <td>NaN</td>\n",
       "      <td>6.0</td>\n",
       "      <td>-15.596</td>\n",
       "      <td>NaN</td>\n",
       "      <td>0.667628</td>\n",
       "      <td>0.867000</td>\n",
       "      <td>0.001772</td>\n",
       "      <td>0.380</td>\n",
       "      <td>84.899</td>\n",
       "      <td>...</td>\n",
       "      <td>Vivaldi: The Four Seasons</td>\n",
       "      <td>spotify:track:0VQMAup2VdeQWLCvM14Uz2</td>\n",
       "      <td>https://open.spotify.com/artist/2QOIawHpSlOwXD...</td>\n",
       "      <td>https://www.youtube.com/watch?v=jAnzlpPuIDU</td>\n",
       "      <td>122.0</td>\n",
       "      <td>A. Vivaldi Concerto No. 2 in G minor, RV 315, ...</td>\n",
       "      <td>NaN</td>\n",
       "      <td>Anton Paisov</td>\n",
       "      <td>Finneas O'Connell</td>\n",
       "      <td>Kamasi Washington</td>\n",
       "    </tr>\n",
       "    <tr>\n",
       "      <th>3</th>\n",
       "      <td>1.0</td>\n",
       "      <td>0.209585</td>\n",
       "      <td>NaN</td>\n",
       "      <td>-6.251</td>\n",
       "      <td>0.0277</td>\n",
       "      <td>0.003796</td>\n",
       "      <td>NaN</td>\n",
       "      <td>0.001000</td>\n",
       "      <td>NaN</td>\n",
       "      <td>150.220</td>\n",
       "      <td>...</td>\n",
       "      <td>Life Thru A Lens</td>\n",
       "      <td>spotify:track:1M2nd8jNUkkwrc1dgBPTJz</td>\n",
       "      <td>https://open.spotify.com/artist/2HcwFjNelS49kF...</td>\n",
       "      <td>https://www.youtube.com/watch?v=luwAMFcc2f8</td>\n",
       "      <td>24350.0</td>\n",
       "      <td>25 years of Life Thru A Lens. Pre-order the br...</td>\n",
       "      <td>Robbie Williams - Angels</td>\n",
       "      <td>robbiewilliamsvevo</td>\n",
       "      <td>Louis Bell</td>\n",
       "      <td>Drake</td>\n",
       "    </tr>\n",
       "  </tbody>\n",
       "</table>\n",
       "<p>4 rows × 29 columns</p>\n",
       "</div>"
      ],
      "text/plain": [
       "   Danceability    Energy  Key  Loudness  Speechiness  Acousticness  \\\n",
       "0           0.0  0.000273  3.0   -25.176       0.0443      0.724151   \n",
       "1           0.0  0.184220  7.0       NaN          NaN      0.672221   \n",
       "2           0.0       NaN  6.0   -15.596          NaN      0.667628   \n",
       "3           1.0  0.209585  NaN    -6.251       0.0277      0.003796   \n",
       "\n",
       "   Instrumentalness  Liveness  Valence    Tempo  ...  \\\n",
       "0          0.000062  0.000807    0.340   83.398  ...   \n",
       "1          0.910000  0.034966    0.746  148.692  ...   \n",
       "2          0.867000  0.001772    0.380   84.899  ...   \n",
       "3               NaN  0.001000      NaN  150.220  ...   \n",
       "\n",
       "                               Album                                   Uri  \\\n",
       "0  Sinkovsky Plays and Sings Vivaldi  spotify:track:7njAZhca4o80qQdCgyEWya   \n",
       "1                                NaN  spotify:track:2nnXe7n3Vivs7OfQKRsfWD   \n",
       "2          Vivaldi: The Four Seasons  spotify:track:0VQMAup2VdeQWLCvM14Uz2   \n",
       "3                   Life Thru A Lens  spotify:track:1M2nd8jNUkkwrc1dgBPTJz   \n",
       "\n",
       "                                         Url_spotify  \\\n",
       "0  https://open.spotify.com/artist/2QOIawHpSlOwXD...   \n",
       "1  https://open.spotify.com/artist/2QOIawHpSlOwXD...   \n",
       "2  https://open.spotify.com/artist/2QOIawHpSlOwXD...   \n",
       "3  https://open.spotify.com/artist/2HcwFjNelS49kF...   \n",
       "\n",
       "                                   Url_youtube Comments  \\\n",
       "0  https://www.youtube.com/watch?v=NzCL9uLkQSI   3070.0   \n",
       "1  https://www.youtube.com/watch?v=jAnzlpPuIDU    122.0   \n",
       "2  https://www.youtube.com/watch?v=jAnzlpPuIDU    122.0   \n",
       "3  https://www.youtube.com/watch?v=luwAMFcc2f8  24350.0   \n",
       "\n",
       "                                         Description  \\\n",
       "0  Antonio Vivaldi's 4th Concerto - From his Most...   \n",
       "1  A. Vivaldi Concerto No. 2 in G minor, RV 315, ...   \n",
       "2  A. Vivaldi Concerto No. 2 in G minor, RV 315, ...   \n",
       "3  25 years of Life Thru A Lens. Pre-order the br...   \n",
       "\n",
       "                                               Title             Channel  \\\n",
       "0  Antonio Vivaldi - Concerto No.4 in F minor, Op...         Mozafunkula   \n",
       "1  A. Vivaldi Concerto No. 2 in G minor, RV 315, ...        Anton Paisov   \n",
       "2                                                NaN        Anton Paisov   \n",
       "3                           Robbie Williams - Angels  robbiewilliamsvevo   \n",
       "\n",
       "            Composer             Artist  \n",
       "0                NaN         Marshmello  \n",
       "1  Finneas O'Connell           Bon Iver  \n",
       "2  Finneas O'Connell  Kamasi Washington  \n",
       "3         Louis Bell              Drake  \n",
       "\n",
       "[4 rows x 29 columns]"
      ]
     },
     "execution_count": 7,
     "metadata": {},
     "output_type": "execute_result"
    }
   ],
   "source": [
    "df_train.head(4)"
   ]
  },
  {
   "cell_type": "code",
   "execution_count": 8,
   "id": "e9d16366-eed7-4232-8e33-e9541476b506",
   "metadata": {
    "tags": []
   },
   "outputs": [],
   "source": [
    "def data_convert(df, word_dict):\n",
    "    df_ret = df.copy()\n",
    "    for dic in word_dict:\n",
    "        print(dic)\n",
    "        for key_dic in word_dict[dic]:\n",
    "            df_ret.loc[df_ret[dic] == key_dic, dic] = word_dict[dic][key_dic]\n",
    "    return df_ret     "
   ]
  },
  {
   "cell_type": "code",
   "execution_count": 9,
   "id": "4abe16ae-38ba-4133-ab52-d2eb4101a7b8",
   "metadata": {
    "tags": []
   },
   "outputs": [
    {
     "name": "stdout",
     "output_type": "stream",
     "text": [
      "Album_type\n",
      "Licensed\n",
      "official_video\n",
      "Track\n",
      "Album\n",
      "Uri\n",
      "Url_spotify\n",
      "Url_youtube\n",
      "Description\n",
      "Title\n",
      "Channel\n",
      "Composer\n",
      "Artist\n"
     ]
    }
   ],
   "source": [
    "df_train_embedding = data_convert(df_train, word_dict)"
   ]
  },
  {
   "cell_type": "code",
   "execution_count": 10,
   "id": "3f3cb9e1-2246-493f-be2e-6e87442729a5",
   "metadata": {
    "tags": []
   },
   "outputs": [
    {
     "name": "stdout",
     "output_type": "stream",
     "text": [
      "Album_type\n",
      "Licensed\n",
      "official_video\n",
      "Track\n",
      "Album\n",
      "Uri\n",
      "Url_spotify\n",
      "Url_youtube\n",
      "Description\n",
      "Title\n",
      "Channel\n",
      "Composer\n",
      "Artist\n"
     ]
    }
   ],
   "source": [
    "df_test_embedding = data_convert(df_test, word_dict)"
   ]
  },
  {
   "cell_type": "code",
   "execution_count": 12,
   "id": "ba2b583f",
   "metadata": {
    "scrolled": true
   },
   "outputs": [
    {
     "name": "stderr",
     "output_type": "stream",
     "text": [
      "/tmp/ipykernel_54/2578188673.py:4: DeprecationWarning: `np.float` is a deprecated alias for the builtin `float`. To silence this warning, use `float` by itself. Doing this will not modify any behavior and is safe. If you specifically wanted the numpy scalar type, use `np.float64` here.\n",
      "Deprecated in NumPy 1.20; for more details and guidance: https://numpy.org/devdocs/release/1.20.0-notes.html#deprecations\n",
      "  df_train_embedding[obj_columns] = df_train_embedding[obj_columns].astype(np.float)\n"
     ]
    }
   ],
   "source": [
    "obj_columns = df_train_embedding.select_dtypes(include=['object']).columns\n",
    "# print(int_columns)\n",
    "# convert integer columns to float\n",
    "df_train_embedding[obj_columns] = df_train_embedding[obj_columns].astype(np.float)"
   ]
  },
  {
   "cell_type": "code",
   "execution_count": 16,
   "id": "84caaea9",
   "metadata": {},
   "outputs": [],
   "source": [
    "def corr_matrix_with_threshold(df, threshold, title_str = \"Filtered Correlation Matrix (Half Square)\"):\n",
    "    # Add target column to the DataFrame\n",
    "    corr_matrix = df.corr()\n",
    "    # Filter the correlation matrix based on the threshold\n",
    "    filtered_matrix = corr_matrix[corr_matrix.abs() > threshold]\n",
    "    mask = np.triu(np.ones_like(filtered_matrix, dtype=bool))\n",
    "    \n",
    "    plt.figure(figsize=(8, 6))\n",
    "    sns.heatmap(filtered_matrix, annot=True, fmt=\".2f\", mask=mask, cmap=\"coolwarm\")\n",
    "    plt.title(title_str)\n",
    "    plt.show()\n"
   ]
  },
  {
   "cell_type": "code",
   "execution_count": 17,
   "id": "cee9355c",
   "metadata": {},
   "outputs": [
    {
     "data": {
      "image/png": "[encoded data removed]",
      "text/plain": [
       "<Figure size 800x600 with 2 Axes>"
      ]
     },
     "metadata": {},
     "output_type": "display_data"
    }
   ],
   "source": [
    "corr_matrix_with_threshold(df_train_embedding, 0.2)"
   ]
  },
  {
   "cell_type": "code",
   "execution_count": 18,
   "id": "1aa91e04-d858-4627-917c-0ac7af72156d",
   "metadata": {
    "tags": []
   },
   "outputs": [],
   "source": [
    "def remove_unimportant_column(df, arr_column):\n",
    "    df_dropped = df.drop(arr_column, axis=1)\n",
    "    return df_dropped"
   ]
  },
  {
   "cell_type": "code",
   "execution_count": 19,
   "id": "27d8e819-acb1-44fa-93a9-00600c6dc63d",
   "metadata": {
    "tags": []
   },
   "outputs": [],
   "source": [
    "arr_NOT_important_column = ['Uri', 'Url_spotify', 'Url_youtube', 'Description', 'id', 'Licensed', 'official_video', 'Title', 'Album']\n",
    "df_train_embedding_important = remove_unimportant_column(df_train_embedding, arr_NOT_important_column)\n",
    "df_test_embedding_important = remove_unimportant_column(df_test_embedding, arr_NOT_important_column)"
   ]
  },
  {
   "cell_type": "code",
   "execution_count": null,
   "id": "99010e37",
   "metadata": {},
   "outputs": [],
   "source": [
    "df_train_embedding_important"
   ]
  },
  {
   "cell_type": "code",
   "execution_count": null,
   "id": "0bff2fca",
   "metadata": {},
   "outputs": [],
   "source": [
    "corr_matrix_with_threshold(df_train_embedding_important, 0.2)"
   ]
  },
  {
   "cell_type": "code",
   "execution_count": null,
   "id": "1a6cc3fb",
   "metadata": {},
   "outputs": [],
   "source": [
    "arr_NOT_important_column = [ 'Views','Composer', 'Likes', 'Stream', 'Track', 'Key', 'Liveness', 'Duration_ms',  'Album_type', 'Comments','Channel','Artist'  ]\n",
    "df_train_embedding_important_simple = remove_unimportant_column(df_train_embedding_important, arr_NOT_important_column)\n",
    "df_test_embedding_important_simple = remove_unimportant_column(df_test_embedding_important, arr_NOT_important_column)"
   ]
  },
  {
   "cell_type": "code",
   "execution_count": null,
   "id": "ff7ecd74",
   "metadata": {},
   "outputs": [],
   "source": [
    "corr_matrix_with_threshold(df_train_embedding_important_simple, 0.01)"
   ]
  },
  {
   "cell_type": "code",
   "execution_count": null,
   "id": "0c079c73-fb5f-44fd-81fa-13730db37715",
   "metadata": {
    "tags": []
   },
   "outputs": [],
   "source": [
    "def imputer(df):\n",
    "    df_ret = df.copy()\n",
    "    mean_values = df['Valence'].mean()\n",
    "    df_ret['Valence'] = df['Valence'].fillna(mean_values)\n",
    "\n",
    "    mean_values = df['Loudness'].mean()\n",
    "    df_ret['Loudness'] = df['Loudness'].fillna(mean_values)\n",
    "    \n",
    "    mean_values = df['Speechiness'].mean()\n",
    "    df_ret['Speechiness'] = df['Speechiness'].fillna(mean_values)\n",
    "    \n",
    "    mean_values = df['Acousticness'].mean()\n",
    "    df_ret['Acousticness'] = df['Acousticness'].fillna(mean_values) #0.000000000001)\n",
    "    \n",
    "    mean_values = df['Instrumentalness'].mean()\n",
    "    df_ret['Instrumentalness'] = df['Instrumentalness'].fillna(mean_values)\n",
    "\n",
    "    mean_values = df['Energy'].mean()\n",
    "    df_ret['Energy'] = df['Energy'].fillna(mean_values)\n",
    "\n",
    "    mean_values = df['Tempo'].mean()\n",
    "    df_ret['Tempo'] = df['Tempo'].fillna(mean_values)\n",
    "    \n",
    "    return df_ret\n",
    "\n",
    "df_with_clean_data = df_train_embedding_important_simple.dropna()\n",
    "df_train_embedding_important_simple_added = pd.concat([df_train_embedding_important_simple, df_with_clean_data, df_with_clean_data, df_with_clean_data, df_with_clean_data]).sample(frac=1).reset_index(drop=True)\n",
    "df_train_embedding_important_simple_imputer = imputer(df_train_embedding_important_simple_added)    \n",
    "df_test_embedding_important_simple_imputer = imputer(df_test_embedding_important_simple)    \n"
   ]
  },
  {
   "cell_type": "code",
   "execution_count": null,
   "id": "abf273f4",
   "metadata": {},
   "outputs": [],
   "source": [
    "corr_matrix_with_threshold(df_train_embedding_important_simple, 0.01, 'Without Imputation')\n",
    "corr_matrix_with_threshold(df_train_embedding_important_simple_imputer, 0.01, 'After Imputation')"
   ]
  },
  {
   "cell_type": "code",
   "execution_count": null,
   "id": "0466adee",
   "metadata": {},
   "outputs": [],
   "source": [
    "from sklearn.model_selection import train_test_split\n",
    "train_features, val_features, train_labels, val_labels = train_test_split(df_train_embedding_important_simple_imputer.iloc[:, 1:], df_train_embedding_important_simple_imputer.iloc[:, :1], test_size = 0.20, random_state = 42)"
   ]
  },
  {
   "cell_type": "code",
   "execution_count": null,
   "id": "3c982768",
   "metadata": {},
   "outputs": [],
   "source": [
    "train_features"
   ]
  },
  {
   "cell_type": "code",
   "execution_count": null,
   "id": "14767241",
   "metadata": {},
   "outputs": [],
   "source": [
    "train_labels"
   ]
  },
  {
   "cell_type": "code",
   "execution_count": null,
   "id": "308cb2b3",
   "metadata": {},
   "outputs": [],
   "source": [
    "val_features"
   ]
  },
  {
   "cell_type": "code",
   "execution_count": null,
   "id": "a931d039",
   "metadata": {},
   "outputs": [],
   "source": [
    "val_labels"
   ]
  },
  {
   "cell_type": "markdown",
   "id": "80c6def9-0cf6-411b-b256-01d79bd8ebd6",
   "metadata": {},
   "source": [
    "# All Data"
   ]
  },
  {
   "cell_type": "markdown",
   "id": "6750e338",
   "metadata": {},
   "source": [
    "# Try Sofi's Ensemble"
   ]
  },
  {
   "cell_type": "code",
   "execution_count": null,
   "id": "701236fa",
   "metadata": {},
   "outputs": [],
   "source": [
    "class LGBWrapper:\n",
    "    def __init__(self, params=None, num_boost_round=10):\n",
    "        self.params = params\n",
    "        self.num_boost_round = num_boost_round\n",
    "        self.model = None\n",
    "\n",
    "    def fit(self, X, y):\n",
    "        lgb_train = lgb.Dataset(X, y, free_raw_data=False)\n",
    "        self.model = lgb.train(self.params, lgb_train, num_boost_round=self.num_boost_round)\n",
    "\n",
    "    def predict(self, X):\n",
    "        return self.model.predict(X)\n"
   ]
  },
  {
   "cell_type": "code",
   "execution_count": null,
   "id": "f71dbc72",
   "metadata": {},
   "outputs": [],
   "source": [
    "# Prepare LightGBM parameters\n",
    "params = {\n",
    "    'boosting_type': 'gbdt',\n",
    "    'objective': 'regression',\n",
    "    'metric': 'mae',\n",
    "    'learning_rate': 0.05,\n",
    "    'num_leaves': 31,\n",
    "    'verbose': -1\n",
    "}\n",
    "\n",
    "# For XGBRegressor parameters\n",
    "default_params = {\n",
    "    'objective': 'reg:squarederror',\n",
    "    'booster': 'gbtree',\n",
    "    'n_estimators': 100,\n",
    "    'learning_rate': 0.1,\n",
    "    'max_depth': 3,\n",
    "    'min_child_weight': 1,\n",
    "    'subsample': 1,\n",
    "    'colsample_bytree': 1,\n",
    "    'gamma': 0,\n",
    "    'reg_alpha': 0,\n",
    "    'reg_lambda': 1,\n",
    "    'random_state': 0,\n",
    "    'n_jobs': -1\n",
    "}\n"
   ]
  },
  {
   "cell_type": "code",
   "execution_count": null,
   "id": "1b9abae3",
   "metadata": {},
   "outputs": [],
   "source": [
    "from sklearn.ensemble import VotingRegressor\n",
    "from sklearn.ensemble import RandomForestRegressor\n",
    "from xgboost import XGBRegressor\n",
    "from sklearn.ensemble import AdaBoostClassifier\n",
    "from sklearn.multiclass import OneVsOneClassifier\n",
    "import lightgbm as lgb\n",
    "from sklearn.metrics import mean_absolute_error\n",
    "from sklearn.metrics import accuracy_score\n",
    "from sklearn.preprocessing import MinMaxScaler\n",
    "\n",
    "import pickle\n",
    "scaler = MinMaxScaler(feature_range=(0, 9))\n",
    "# Instantiate the classfiers and make a list\n",
    "regressors = [\n",
    "    LGBWrapper(params, num_boost_round=200),\n",
    "    RandomForestRegressor(n_estimators=1000, random_state=42),\n",
    "    RandomForestRegressor(n_estimators=2000, random_state=42),\n",
    "    XGBRegressor(**default_params),\n",
    "    OneVsOneClassifier(AdaBoostClassifier(n_estimators=45, random_state=42)),\n",
    "]\n",
    "# Define a result table as a DataFrame\n",
    "result_table = pd.DataFrame(columns=['regressors', 'mae'])\n",
    "\n",
    "# Train and evaluate each classifier\n",
    "for reg in regressors:\n",
    "    reg.fit(train_features, train_labels)\n",
    "    pred = reg.predict(val_features)\n",
    "    accuracy = accuracy_score(val_labels, np.rint(pred))\n",
    "    mae = mean_absolute_error(val_labels, pred)\n",
    "    result_table = result_table.append({'regressors':reg.__class__.__name__, 'mae': mae, 'accuracy': accuracy}, ignore_index=True)\n",
    "\n",
    "result_table.set_index('regressors', inplace=True)\n",
    "result_table.sort_values(by=['mae'], ascending=True)\n",
    "\n",
    "\n"
   ]
  },
  {
   "cell_type": "code",
   "execution_count": null,
   "id": "e23f2d20",
   "metadata": {},
   "outputs": [],
   "source": [
    "result_table"
   ]
  },
  {
   "cell_type": "code",
   "execution_count": null,
   "id": "293866e3",
   "metadata": {},
   "outputs": [],
   "source": [
    "# train on the full training set\n",
    "for reg in regressors:\n",
    "    reg.fit(df_train_embedding_important_simple_imputer.iloc[:, 1:], df_train_embedding_important_simple_imputer.iloc[:, :1])"
   ]
  },
  {
   "cell_type": "code",
   "execution_count": null,
   "id": "d375a33a",
   "metadata": {},
   "outputs": [],
   "source": [
    "def ensemble_predict(regressors, X):\n",
    "    # Initialize an empty array of predictions\n",
    "    predictions = np.zeros((X.shape[0], len(regressors)))\n",
    "\n",
    "    # Generate predictions for each regressor\n",
    "    for i, reg in enumerate(regressors):\n",
    "        predictions[:, i] = reg.predict(X)\n",
    "\n",
    "    # Average the predictions\n",
    "    avg_predictions = predictions.mean(axis=1)\n",
    "\n",
    "    return avg_predictions, predictions\n",
    "\n",
    "# Make ensemble predictions\n",
    "ensemble_predictions, all_predictions = ensemble_predict(regressors, df_test_embedding_important_simple_imputer)\n"
   ]
  },
  {
   "cell_type": "code",
   "execution_count": null,
   "id": "1bce52da",
   "metadata": {},
   "outputs": [],
   "source": [
    "# A voting regressor is an ensemble meta-estimator that fits several base regressors, each on the whole dataset. \n",
    "# Then it averages the individual predictions to form a final prediction.\n",
    "# predictionsTest = reg.predict(testScaled)\n",
    "predictionsTest = ensemble_predictions\n",
    "preds = np.rint(predictionsTest)\n",
    "preds = preds.astype(int)\n",
    "preds = pd.DataFrame(preds, columns=['Danceability'])\n",
    "preds['id'] = preds.index + 17170\n",
    "preds = preds[['id', 'Danceability']]\n",
    "preds.to_csv('submission_imputer_adin_ens_ovo_simple_features.csv', index=False)"
   ]
  },
  {
   "cell_type": "code",
   "execution_count": null,
   "id": "7571e04d-ef23-4192-a6f3-3d363dc48c4c",
   "metadata": {},
   "outputs": [],
   "source": [
    "df_hasil = pd.DataFrame()\n",
    "tmp = pd.read_csv('a1.csv')\n",
    "tmp = tmp.drop('id', axis=1)\n",
    "df_hasil = pd.concat([df_hasil, tmp], axis=1)\n",
    "df_hasil = pd.concat([df_hasil, tmp], axis=1)\n",
    "df_hasil = pd.concat([df_hasil, tmp], axis=1)\n",
    "df_hasil = pd.concat([df_hasil, tmp], axis=1)\n",
    "\n",
    "for t in range(1,8):\n",
    "    tmp = pd.read_csv('a'+ str(t) +'.csv')\n",
    "    tmp = tmp.drop('id', axis=1)\n",
    "    df_hasil = pd.concat([df_hasil, tmp], axis=1)\n",
    "\n",
    "# print(df_hasil)\n",
    "label_test = df_hasil.mean(axis=1)\n",
    "\n",
    "tmp_danceability = pd.DataFrame(np.rint(label_test), columns=['Danceability'])\n",
    "concat_cheat = pd.concat([tmp_danceability, df_test_embedding_important_simple_imputer ], axis=1)\n",
    "# print(concat_cheat)\n",
    "\n",
    "# print(np.rint(predictionsTest))\n",
    "# print(np.rint(label_test))\n",
    "accuracy = accuracy_score(np.rint(label_test), np.rint(predictionsTest))\n",
    "mae = mean_absolute_error(np.rint(label_test), np.rint(predictionsTest))\n",
    "\n",
    "print(\"Cheat Kaggle MAE\", mae, \"Accuracy\", accuracy)"
   ]
  },
  {
   "cell_type": "code",
   "execution_count": null,
   "id": "59e99eca",
   "metadata": {},
   "outputs": [],
   "source": [
    "pd_new_generated = pd.concat([df_train_embedding_important_simple_imputer, concat_cheat])\n",
    "pd_new_generated = pd_new_generated.reset_index(drop=True)\n",
    "pd_new_generated"
   ]
  },
  {
   "cell_type": "code",
   "execution_count": null,
   "id": "e2cfdbb1",
   "metadata": {},
   "outputs": [],
   "source": [
    "# train on the full training set\n",
    "result_table = pd.DataFrame(columns=['regressors', 'mae'])\n",
    "\n",
    "for reg in regressors:\n",
    "    reg.fit(pd_new_generated.iloc[:, 1:], pd_new_generated.iloc[:, :1])\n",
    "    pred = reg.predict(val_features)\n",
    "    accuracy = accuracy_score(val_labels, np.rint(pred))\n",
    "    mae = mean_absolute_error(val_labels, pred)\n",
    "    result_table = result_table.append({'regressors':reg.__class__.__name__, 'mae': mae, 'accuracy': accuracy}, ignore_index=True)\n",
    "\n",
    "result_table.set_index('regressors', inplace=True)\n",
    "result_table.sort_values(by=['mae'], ascending=True)\n",
    "result_table    \n",
    "    "
   ]
  },
  {
   "cell_type": "code",
   "execution_count": null,
   "id": "c61f898c",
   "metadata": {},
   "outputs": [],
   "source": [
    "# Make ensemble predictions\n",
    "ensemble_predictions, all_predictions = ensemble_predict(regressors, df_test_embedding_important_simple_imputer)\n"
   ]
  },
  {
   "cell_type": "code",
   "execution_count": null,
   "id": "f42910d8",
   "metadata": {},
   "outputs": [],
   "source": [
    "# A voting regressor is an ensemble meta-estimator that fits several base regressors, each on the whole dataset. \n",
    "# Then it averages the individual predictions to form a final prediction.\n",
    "# predictionsTest = reg.predict(testScaled)\n",
    "predictionsTest = ensemble_predictions\n",
    "preds = np.rint(predictionsTest)\n",
    "preds = preds.astype(int)\n",
    "preds = pd.DataFrame(preds, columns=['Danceability'])\n",
    "preds['id'] = preds.index + 17170\n",
    "preds = preds[['id', 'Danceability']]\n",
    "preds.to_csv('submission_imputer_adin_ens_ovo_simple_features_generated_training.csv', index=False)"
   ]
  },
  {
   "cell_type": "code",
   "execution_count": null,
   "id": "31687484",
   "metadata": {},
   "outputs": [],
   "source": []
  },
  {
   "cell_type": "code",
   "execution_count": null,
   "id": "4df305ad",
   "metadata": {},
   "outputs": [],
   "source": []
  }
 ],
 "metadata": {
  "kernelspec": {
   "display_name": "Python 3 (ipykernel)",
   "language": "python",
   "name": "python3"
  },
  "language_info": {
   "codemirror_mode": {
    "name": "ipython",
    "version": 3
   },
   "file_extension": ".py",
   "mimetype": "text/x-python",
   "name": "python",
   "nbconvert_exporter": "python",
   "pygments_lexer": "ipython3",
   "version": "3.10.10"
  }
 },
 "nbformat": 4,
 "nbformat_minor": 5
}

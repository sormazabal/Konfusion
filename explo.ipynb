{
 "cells": [
  {
   "cell_type": "code",
   "execution_count": 1,
   "metadata": {},
   "outputs": [],
   "source": [
    "import pandas as pd \n",
    "import numpy as np\n",
    "import matplotlib.pyplot as plt\n",
    "import seaborn as sns\n",
    "import os\n"
   ]
  },
  {
   "cell_type": "code",
   "execution_count": 2,
   "metadata": {},
   "outputs": [],
   "source": [
    "# load data\n",
    "train = pd.read_csv('train.csv')\n",
    "test = pd.read_csv('test.csv')"
   ]
  },
  {
   "cell_type": "code",
   "execution_count": 5,
   "metadata": {},
   "outputs": [
    {
     "name": "stdout",
     "output_type": "stream",
     "text": [
      "(17170, 29)\n"
     ]
    }
   ],
   "source": [
    "#data exploration\n",
    "\n",
    "print(train.shape)"
   ]
  },
  {
   "cell_type": "code",
   "execution_count": 4,
   "metadata": {},
   "outputs": [
    {
     "data": {
      "text/plain": [
       "Danceability           0\n",
       "Energy              2555\n",
       "Key                 2602\n",
       "Loudness            2569\n",
       "Speechiness         2515\n",
       "Acousticness        2577\n",
       "Instrumentalness    2601\n",
       "Liveness            2535\n",
       "Valence             2574\n",
       "Tempo               2562\n",
       "Duration_ms         2603\n",
       "Views               2596\n",
       "Likes               2579\n",
       "Stream              2568\n",
       "Album_type          2560\n",
       "Licensed            2593\n",
       "official_video      2615\n",
       "id                     0\n",
       "Track               2562\n",
       "Album               2585\n",
       "Uri                 2564\n",
       "Url_spotify         2591\n",
       "Url_youtube         2529\n",
       "Comments            2581\n",
       "Description         2604\n",
       "Title               2623\n",
       "Channel             2558\n",
       "Composer            2558\n",
       "Artist              2566\n",
       "dtype: int64"
      ]
     },
     "execution_count": 4,
     "metadata": {},
     "output_type": "execute_result"
    }
   ],
   "source": [
    "# check missing values\n",
    "train.isnull().sum()"
   ]
  },
  {
   "cell_type": "code",
   "execution_count": 6,
   "metadata": {},
   "outputs": [
    {
     "data": {
      "text/plain": [
       "Index(['Danceability', 'Energy', 'Key', 'Loudness', 'Speechiness',\n",
       "       'Acousticness', 'Instrumentalness', 'Liveness', 'Valence', 'Tempo',\n",
       "       'Duration_ms', 'Views', 'Likes', 'Stream', 'id', 'Comments'],\n",
       "      dtype='object')"
      ]
     },
     "execution_count": 6,
     "metadata": {},
     "output_type": "execute_result"
    }
   ],
   "source": [
    "# grab numeric columns\n",
    "numeric_cols = train.select_dtypes(include=[np.number])\n",
    "numeric_cols.columns"
   ]
  },
  {
   "cell_type": "code",
   "execution_count": 11,
   "metadata": {},
   "outputs": [
    {
     "data": {
      "text/html": [
       "<div>\n",
       "<style scoped>\n",
       "    .dataframe tbody tr th:only-of-type {\n",
       "        vertical-align: middle;\n",
       "    }\n",
       "\n",
       "    .dataframe tbody tr th {\n",
       "        vertical-align: top;\n",
       "    }\n",
       "\n",
       "    .dataframe thead th {\n",
       "        text-align: right;\n",
       "    }\n",
       "</style>\n",
       "<table border=\"1\" class=\"dataframe\">\n",
       "  <thead>\n",
       "    <tr style=\"text-align: right;\">\n",
       "      <th></th>\n",
       "      <th>Danceability</th>\n",
       "      <th>Energy</th>\n",
       "      <th>Key</th>\n",
       "      <th>Loudness</th>\n",
       "      <th>Speechiness</th>\n",
       "      <th>Acousticness</th>\n",
       "      <th>Instrumentalness</th>\n",
       "      <th>Liveness</th>\n",
       "      <th>Valence</th>\n",
       "      <th>Tempo</th>\n",
       "      <th>Duration_ms</th>\n",
       "      <th>Views</th>\n",
       "      <th>Likes</th>\n",
       "      <th>Stream</th>\n",
       "      <th>id</th>\n",
       "      <th>Comments</th>\n",
       "    </tr>\n",
       "  </thead>\n",
       "  <tbody>\n",
       "    <tr>\n",
       "      <th>count</th>\n",
       "      <td>1.717000e+04</td>\n",
       "      <td>1.461500e+04</td>\n",
       "      <td>1.456800e+04</td>\n",
       "      <td>1.460100e+04</td>\n",
       "      <td>1.465500e+04</td>\n",
       "      <td>1.459300e+04</td>\n",
       "      <td>1.456900e+04</td>\n",
       "      <td>1.463500e+04</td>\n",
       "      <td>1.459600e+04</td>\n",
       "      <td>1.460800e+04</td>\n",
       "      <td>1.456700e+04</td>\n",
       "      <td>1.457400e+04</td>\n",
       "      <td>1.459100e+04</td>\n",
       "      <td>1.460200e+04</td>\n",
       "      <td>1.717000e+04</td>\n",
       "      <td>1.458900e+04</td>\n",
       "    </tr>\n",
       "    <tr>\n",
       "      <th>mean</th>\n",
       "      <td>1.407015e-16</td>\n",
       "      <td>4.910353e-17</td>\n",
       "      <td>-7.121035e-17</td>\n",
       "      <td>3.017167e-17</td>\n",
       "      <td>9.987841e-17</td>\n",
       "      <td>-4.382159e-18</td>\n",
       "      <td>4.291836e-17</td>\n",
       "      <td>1.675007e-17</td>\n",
       "      <td>-2.039719e-16</td>\n",
       "      <td>-4.027447e-16</td>\n",
       "      <td>-3.902205e-17</td>\n",
       "      <td>-2.047674e-17</td>\n",
       "      <td>7.791573e-18</td>\n",
       "      <td>7.785703e-18</td>\n",
       "      <td>-5.296999e-17</td>\n",
       "      <td>3.652800e-18</td>\n",
       "    </tr>\n",
       "    <tr>\n",
       "      <th>std</th>\n",
       "      <td>1.000000e+00</td>\n",
       "      <td>1.000000e+00</td>\n",
       "      <td>1.000000e+00</td>\n",
       "      <td>1.000000e+00</td>\n",
       "      <td>1.000000e+00</td>\n",
       "      <td>1.000000e+00</td>\n",
       "      <td>1.000000e+00</td>\n",
       "      <td>1.000000e+00</td>\n",
       "      <td>1.000000e+00</td>\n",
       "      <td>1.000000e+00</td>\n",
       "      <td>1.000000e+00</td>\n",
       "      <td>1.000000e+00</td>\n",
       "      <td>1.000000e+00</td>\n",
       "      <td>1.000000e+00</td>\n",
       "      <td>1.000000e+00</td>\n",
       "      <td>1.000000e+00</td>\n",
       "    </tr>\n",
       "    <tr>\n",
       "      <th>min</th>\n",
       "      <td>-1.604076e+00</td>\n",
       "      <td>-1.383862e+00</td>\n",
       "      <td>-1.513343e+00</td>\n",
       "      <td>-8.520174e+00</td>\n",
       "      <td>-9.262022e-01</td>\n",
       "      <td>-5.184296e-01</td>\n",
       "      <td>-2.870221e-01</td>\n",
       "      <td>-2.937631e-01</td>\n",
       "      <td>-2.147065e+00</td>\n",
       "      <td>-4.076754e+00</td>\n",
       "      <td>-1.583332e+00</td>\n",
       "      <td>-3.483113e-01</td>\n",
       "      <td>-3.756938e-01</td>\n",
       "      <td>-5.337183e-01</td>\n",
       "      <td>-1.731899e+00</td>\n",
       "      <td>-1.311444e-01</td>\n",
       "    </tr>\n",
       "    <tr>\n",
       "      <th>25%</th>\n",
       "      <td>-9.045260e-01</td>\n",
       "      <td>-8.308034e-01</td>\n",
       "      <td>-9.348039e-01</td>\n",
       "      <td>-2.408375e-01</td>\n",
       "      <td>-5.759473e-01</td>\n",
       "      <td>-5.179873e-01</td>\n",
       "      <td>-2.870221e-01</td>\n",
       "      <td>-2.865123e-01</td>\n",
       "      <td>-7.751432e-01</td>\n",
       "      <td>-8.055499e-01</td>\n",
       "      <td>-3.592203e-01</td>\n",
       "      <td>-3.404994e-01</td>\n",
       "      <td>-3.626498e-01</td>\n",
       "      <td>-4.664001e-01</td>\n",
       "      <td>-8.659497e-01</td>\n",
       "      <td>-1.286524e-01</td>\n",
       "    </tr>\n",
       "    <tr>\n",
       "      <th>50%</th>\n",
       "      <td>1.447991e-01</td>\n",
       "      <td>-1.665998e-01</td>\n",
       "      <td>-6.699580e-02</td>\n",
       "      <td>2.398996e-01</td>\n",
       "      <td>-4.275013e-01</td>\n",
       "      <td>-4.869742e-01</td>\n",
       "      <td>-2.870109e-01</td>\n",
       "      <td>-2.771905e-01</td>\n",
       "      <td>2.106158e-02</td>\n",
       "      <td>-3.176511e-02</td>\n",
       "      <td>-8.914017e-02</td>\n",
       "      <td>-2.917641e-01</td>\n",
       "      <td>-3.039037e-01</td>\n",
       "      <td>-3.455393e-01</td>\n",
       "      <td>0.000000e+00</td>\n",
       "      <td>-1.163468e-01</td>\n",
       "    </tr>\n",
       "    <tr>\n",
       "      <th>75%</th>\n",
       "      <td>8.443492e-01</td>\n",
       "      <td>7.022444e-01</td>\n",
       "      <td>8.008123e-01</td>\n",
       "      <td>5.816788e-01</td>\n",
       "      <td>1.022472e-01</td>\n",
       "      <td>-5.569442e-02</td>\n",
       "      <td>-2.849739e-01</td>\n",
       "      <td>-1.850756e-01</td>\n",
       "      <td>8.009339e-01</td>\n",
       "      <td>6.422480e-01</td>\n",
       "      <td>2.202002e-01</td>\n",
       "      <td>-8.665525e-02</td>\n",
       "      <td>-8.156320e-02</td>\n",
       "      <td>-1.403551e-02</td>\n",
       "      <td>8.659497e-01</td>\n",
       "      <td>-6.759094e-02</td>\n",
       "    </tr>\n",
       "    <tr>\n",
       "      <th>max</th>\n",
       "      <td>1.543899e+00</td>\n",
       "      <td>2.736748e+00</td>\n",
       "      <td>1.379351e+00</td>\n",
       "      <td>1.847715e+00</td>\n",
       "      <td>8.426865e+00</td>\n",
       "      <td>3.941961e+00</td>\n",
       "      <td>4.937858e+00</td>\n",
       "      <td>8.412272e+00</td>\n",
       "      <td>1.907454e+00</td>\n",
       "      <td>4.127195e+00</td>\n",
       "      <td>3.597261e+01</td>\n",
       "      <td>2.252802e+01</td>\n",
       "      <td>2.288269e+01</td>\n",
       "      <td>1.347356e+01</td>\n",
       "      <td>1.731899e+00</td>\n",
       "      <td>7.492123e+01</td>\n",
       "    </tr>\n",
       "  </tbody>\n",
       "</table>\n",
       "</div>"
      ],
      "text/plain": [
       "       Danceability        Energy           Key      Loudness   Speechiness  \\\n",
       "count  1.717000e+04  1.461500e+04  1.456800e+04  1.460100e+04  1.465500e+04   \n",
       "mean   1.407015e-16  4.910353e-17 -7.121035e-17  3.017167e-17  9.987841e-17   \n",
       "std    1.000000e+00  1.000000e+00  1.000000e+00  1.000000e+00  1.000000e+00   \n",
       "min   -1.604076e+00 -1.383862e+00 -1.513343e+00 -8.520174e+00 -9.262022e-01   \n",
       "25%   -9.045260e-01 -8.308034e-01 -9.348039e-01 -2.408375e-01 -5.759473e-01   \n",
       "50%    1.447991e-01 -1.665998e-01 -6.699580e-02  2.398996e-01 -4.275013e-01   \n",
       "75%    8.443492e-01  7.022444e-01  8.008123e-01  5.816788e-01  1.022472e-01   \n",
       "max    1.543899e+00  2.736748e+00  1.379351e+00  1.847715e+00  8.426865e+00   \n",
       "\n",
       "       Acousticness  Instrumentalness      Liveness       Valence  \\\n",
       "count  1.459300e+04      1.456900e+04  1.463500e+04  1.459600e+04   \n",
       "mean  -4.382159e-18      4.291836e-17  1.675007e-17 -2.039719e-16   \n",
       "std    1.000000e+00      1.000000e+00  1.000000e+00  1.000000e+00   \n",
       "min   -5.184296e-01     -2.870221e-01 -2.937631e-01 -2.147065e+00   \n",
       "25%   -5.179873e-01     -2.870221e-01 -2.865123e-01 -7.751432e-01   \n",
       "50%   -4.869742e-01     -2.870109e-01 -2.771905e-01  2.106158e-02   \n",
       "75%   -5.569442e-02     -2.849739e-01 -1.850756e-01  8.009339e-01   \n",
       "max    3.941961e+00      4.937858e+00  8.412272e+00  1.907454e+00   \n",
       "\n",
       "              Tempo   Duration_ms         Views         Likes        Stream  \\\n",
       "count  1.460800e+04  1.456700e+04  1.457400e+04  1.459100e+04  1.460200e+04   \n",
       "mean  -4.027447e-16 -3.902205e-17 -2.047674e-17  7.791573e-18  7.785703e-18   \n",
       "std    1.000000e+00  1.000000e+00  1.000000e+00  1.000000e+00  1.000000e+00   \n",
       "min   -4.076754e+00 -1.583332e+00 -3.483113e-01 -3.756938e-01 -5.337183e-01   \n",
       "25%   -8.055499e-01 -3.592203e-01 -3.404994e-01 -3.626498e-01 -4.664001e-01   \n",
       "50%   -3.176511e-02 -8.914017e-02 -2.917641e-01 -3.039037e-01 -3.455393e-01   \n",
       "75%    6.422480e-01  2.202002e-01 -8.665525e-02 -8.156320e-02 -1.403551e-02   \n",
       "max    4.127195e+00  3.597261e+01  2.252802e+01  2.288269e+01  1.347356e+01   \n",
       "\n",
       "                 id      Comments  \n",
       "count  1.717000e+04  1.458900e+04  \n",
       "mean  -5.296999e-17  3.652800e-18  \n",
       "std    1.000000e+00  1.000000e+00  \n",
       "min   -1.731899e+00 -1.311444e-01  \n",
       "25%   -8.659497e-01 -1.286524e-01  \n",
       "50%    0.000000e+00 -1.163468e-01  \n",
       "75%    8.659497e-01 -6.759094e-02  \n",
       "max    1.731899e+00  7.492123e+01  "
      ]
     },
     "execution_count": 11,
     "metadata": {},
     "output_type": "execute_result"
    }
   ],
   "source": [
    "# normalize numeric columns\n",
    "numeric_cols_norm = (numeric_cols - numeric_cols.mean()) / numeric_cols.std()\n",
    "numeric_cols_norm.describe()\n"
   ]
  },
  {
   "cell_type": "code",
   "execution_count": 13,
   "metadata": {},
   "outputs": [
    {
     "data": {
      "text/plain": [
       "<AxesSubplot:>"
      ]
     },
     "execution_count": 13,
     "metadata": {},
     "output_type": "execute_result"
    },
    {
     "data": {
      "image/png": "[encoded data removed]",
      "text/plain": [
       "<Figure size 1200x1000 with 2 Axes>"
      ]
     },
     "metadata": {},
     "output_type": "display_data"
    }
   ],
   "source": [
    "# check correlation\n",
    "corr = numeric_cols_norm.corr()\n",
    "\n",
    "# plot correlation\n",
    "plt.figure(figsize=(12,10))\n",
    "sns.heatmap(corr, vmax=0.8, square=True)\n",
    "\n"
   ]
  },
  {
   "cell_type": "code",
   "execution_count": null,
   "metadata": {},
   "outputs": [],
   "source": [
    "#replace normalized numeric columns\n",
    "train[numeric_cols_norm.columns] = numeric_cols_norm\n"
   ]
  }
 ],
 "metadata": {
  "kernelspec": {
   "display_name": "fintech2",
   "language": "python",
   "name": "python3"
  },
  "language_info": {
   "codemirror_mode": {
    "name": "ipython",
    "version": 3
   },
   "file_extension": ".py",
   "mimetype": "text/x-python",
   "name": "python",
   "nbconvert_exporter": "python",
   "pygments_lexer": "ipython3",
   "version": "3.8.15"
  },
  "orig_nbformat": 4
 },
 "nbformat": 4,
 "nbformat_minor": 2
}

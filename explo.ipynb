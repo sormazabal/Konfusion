{
 "cells": [
  {
   "cell_type": "code",
   "execution_count": 1,
   "metadata": {},
   "outputs": [],
   "source": [
    "import pandas as pd \n",
    "import numpy as np\n",
    "import matplotlib.pyplot as plt\n",
    "import seaborn as sns\n",
    "import os\n"
   ]
  },
  {
   "cell_type": "code",
   "execution_count": 2,
   "metadata": {},
   "outputs": [],
   "source": [
    "# load data\n",
    "train = pd.read_csv('train.csv')\n",
    "test = pd.read_csv('test.csv')\n"
   ]
  },
  {
   "cell_type": "code",
   "execution_count": 3,
   "metadata": {},
   "outputs": [
    {
     "data": {
      "text/plain": [
       "Index(['Danceability', 'Energy', 'Key', 'Loudness', 'Speechiness',\n",
       "       'Acousticness', 'Instrumentalness', 'Liveness', 'Valence', 'Tempo',\n",
       "       'Duration_ms', 'Views', 'Likes', 'Stream', 'Album_type', 'Licensed',\n",
       "       'official_video', 'id', 'Track', 'Album', 'Uri', 'Url_spotify',\n",
       "       'Url_youtube', 'Comments', 'Description', 'Title', 'Channel',\n",
       "       'Composer', 'Artist'],\n",
       "      dtype='object')"
      ]
     },
     "execution_count": 3,
     "metadata": {},
     "output_type": "execute_result"
    }
   ],
   "source": [
    "train.columns"
   ]
  },
  {
   "cell_type": "code",
   "execution_count": 4,
   "metadata": {},
   "outputs": [
    {
     "data": {
      "text/html": [
       "<div>\n",
       "<style scoped>\n",
       "    .dataframe tbody tr th:only-of-type {\n",
       "        vertical-align: middle;\n",
       "    }\n",
       "\n",
       "    .dataframe tbody tr th {\n",
       "        vertical-align: top;\n",
       "    }\n",
       "\n",
       "    .dataframe thead th {\n",
       "        text-align: right;\n",
       "    }\n",
       "</style>\n",
       "<table border=\"1\" class=\"dataframe\">\n",
       "  <thead>\n",
       "    <tr style=\"text-align: right;\">\n",
       "      <th></th>\n",
       "      <th>Danceability</th>\n",
       "      <th>Energy</th>\n",
       "      <th>Key</th>\n",
       "      <th>Loudness</th>\n",
       "      <th>Speechiness</th>\n",
       "      <th>Acousticness</th>\n",
       "      <th>Instrumentalness</th>\n",
       "      <th>Liveness</th>\n",
       "      <th>Valence</th>\n",
       "      <th>Tempo</th>\n",
       "      <th>...</th>\n",
       "      <th>Album</th>\n",
       "      <th>Uri</th>\n",
       "      <th>Url_spotify</th>\n",
       "      <th>Url_youtube</th>\n",
       "      <th>Comments</th>\n",
       "      <th>Description</th>\n",
       "      <th>Title</th>\n",
       "      <th>Channel</th>\n",
       "      <th>Composer</th>\n",
       "      <th>Artist</th>\n",
       "    </tr>\n",
       "  </thead>\n",
       "  <tbody>\n",
       "    <tr>\n",
       "      <th>0</th>\n",
       "      <td>0.0</td>\n",
       "      <td>0.000273</td>\n",
       "      <td>3.0</td>\n",
       "      <td>-25.176</td>\n",
       "      <td>0.0443</td>\n",
       "      <td>0.724151</td>\n",
       "      <td>0.000062</td>\n",
       "      <td>0.000807</td>\n",
       "      <td>0.340</td>\n",
       "      <td>83.398</td>\n",
       "      <td>...</td>\n",
       "      <td>Sinkovsky Plays and Sings Vivaldi</td>\n",
       "      <td>spotify:track:7njAZhca4o80qQdCgyEWya</td>\n",
       "      <td>https://open.spotify.com/artist/2QOIawHpSlOwXD...</td>\n",
       "      <td>https://www.youtube.com/watch?v=NzCL9uLkQSI</td>\n",
       "      <td>3070.0</td>\n",
       "      <td>Antonio Vivaldi's 4th Concerto - From his Most...</td>\n",
       "      <td>Antonio Vivaldi - Concerto No.4 in F minor, Op...</td>\n",
       "      <td>Mozafunkula</td>\n",
       "      <td>NaN</td>\n",
       "      <td>Marshmello</td>\n",
       "    </tr>\n",
       "    <tr>\n",
       "      <th>1</th>\n",
       "      <td>0.0</td>\n",
       "      <td>0.184220</td>\n",
       "      <td>7.0</td>\n",
       "      <td>NaN</td>\n",
       "      <td>NaN</td>\n",
       "      <td>0.672221</td>\n",
       "      <td>0.910000</td>\n",
       "      <td>0.034966</td>\n",
       "      <td>0.746</td>\n",
       "      <td>148.692</td>\n",
       "      <td>...</td>\n",
       "      <td>NaN</td>\n",
       "      <td>spotify:track:2nnXe7n3Vivs7OfQKRsfWD</td>\n",
       "      <td>https://open.spotify.com/artist/2QOIawHpSlOwXD...</td>\n",
       "      <td>https://www.youtube.com/watch?v=jAnzlpPuIDU</td>\n",
       "      <td>122.0</td>\n",
       "      <td>A. Vivaldi Concerto No. 2 in G minor, RV 315, ...</td>\n",
       "      <td>A. Vivaldi Concerto No. 2 in G minor, RV 315, ...</td>\n",
       "      <td>Anton Paisov</td>\n",
       "      <td>Finneas O'Connell</td>\n",
       "      <td>Bon Iver</td>\n",
       "    </tr>\n",
       "    <tr>\n",
       "      <th>2</th>\n",
       "      <td>0.0</td>\n",
       "      <td>NaN</td>\n",
       "      <td>6.0</td>\n",
       "      <td>-15.596</td>\n",
       "      <td>NaN</td>\n",
       "      <td>0.667628</td>\n",
       "      <td>0.867000</td>\n",
       "      <td>0.001772</td>\n",
       "      <td>0.380</td>\n",
       "      <td>84.899</td>\n",
       "      <td>...</td>\n",
       "      <td>Vivaldi: The Four Seasons</td>\n",
       "      <td>spotify:track:0VQMAup2VdeQWLCvM14Uz2</td>\n",
       "      <td>https://open.spotify.com/artist/2QOIawHpSlOwXD...</td>\n",
       "      <td>https://www.youtube.com/watch?v=jAnzlpPuIDU</td>\n",
       "      <td>122.0</td>\n",
       "      <td>A. Vivaldi Concerto No. 2 in G minor, RV 315, ...</td>\n",
       "      <td>NaN</td>\n",
       "      <td>Anton Paisov</td>\n",
       "      <td>Finneas O'Connell</td>\n",
       "      <td>Kamasi Washington</td>\n",
       "    </tr>\n",
       "    <tr>\n",
       "      <th>3</th>\n",
       "      <td>1.0</td>\n",
       "      <td>0.209585</td>\n",
       "      <td>NaN</td>\n",
       "      <td>-6.251</td>\n",
       "      <td>0.0277</td>\n",
       "      <td>0.003796</td>\n",
       "      <td>NaN</td>\n",
       "      <td>0.001000</td>\n",
       "      <td>NaN</td>\n",
       "      <td>150.220</td>\n",
       "      <td>...</td>\n",
       "      <td>Life Thru A Lens</td>\n",
       "      <td>spotify:track:1M2nd8jNUkkwrc1dgBPTJz</td>\n",
       "      <td>https://open.spotify.com/artist/2HcwFjNelS49kF...</td>\n",
       "      <td>https://www.youtube.com/watch?v=luwAMFcc2f8</td>\n",
       "      <td>24350.0</td>\n",
       "      <td>25 years of Life Thru A Lens. Pre-order the br...</td>\n",
       "      <td>Robbie Williams - Angels</td>\n",
       "      <td>robbiewilliamsvevo</td>\n",
       "      <td>Louis Bell</td>\n",
       "      <td>Drake</td>\n",
       "    </tr>\n",
       "    <tr>\n",
       "      <th>4</th>\n",
       "      <td>4.0</td>\n",
       "      <td>NaN</td>\n",
       "      <td>5.0</td>\n",
       "      <td>NaN</td>\n",
       "      <td>0.0260</td>\n",
       "      <td>0.000003</td>\n",
       "      <td>0.000467</td>\n",
       "      <td>0.002924</td>\n",
       "      <td>0.295</td>\n",
       "      <td>97.997</td>\n",
       "      <td>...</td>\n",
       "      <td>Escapology</td>\n",
       "      <td>spotify:track:2Ms33RTRCT6gArrpcrPxmo</td>\n",
       "      <td>https://open.spotify.com/artist/2HcwFjNelS49kF...</td>\n",
       "      <td>https://www.youtube.com/watch?v=iy4mXZN1Zzk</td>\n",
       "      <td>31150.0</td>\n",
       "      <td>25 years of Life Thru A Lens. Pre-order the br...</td>\n",
       "      <td>Robbie Williams - Feel</td>\n",
       "      <td>robbiewilliamsvevo</td>\n",
       "      <td>Juicy J</td>\n",
       "      <td>Alicia Keys</td>\n",
       "    </tr>\n",
       "  </tbody>\n",
       "</table>\n",
       "<p>5 rows × 29 columns</p>\n",
       "</div>"
      ],
      "text/plain": [
       "   Danceability    Energy  Key  Loudness  Speechiness  Acousticness  \\\n",
       "0           0.0  0.000273  3.0   -25.176       0.0443      0.724151   \n",
       "1           0.0  0.184220  7.0       NaN          NaN      0.672221   \n",
       "2           0.0       NaN  6.0   -15.596          NaN      0.667628   \n",
       "3           1.0  0.209585  NaN    -6.251       0.0277      0.003796   \n",
       "4           4.0       NaN  5.0       NaN       0.0260      0.000003   \n",
       "\n",
       "   Instrumentalness  Liveness  Valence    Tempo  ...  \\\n",
       "0          0.000062  0.000807    0.340   83.398  ...   \n",
       "1          0.910000  0.034966    0.746  148.692  ...   \n",
       "2          0.867000  0.001772    0.380   84.899  ...   \n",
       "3               NaN  0.001000      NaN  150.220  ...   \n",
       "4          0.000467  0.002924    0.295   97.997  ...   \n",
       "\n",
       "                               Album                                   Uri  \\\n",
       "0  Sinkovsky Plays and Sings Vivaldi  spotify:track:7njAZhca4o80qQdCgyEWya   \n",
       "1                                NaN  spotify:track:2nnXe7n3Vivs7OfQKRsfWD   \n",
       "2          Vivaldi: The Four Seasons  spotify:track:0VQMAup2VdeQWLCvM14Uz2   \n",
       "3                   Life Thru A Lens  spotify:track:1M2nd8jNUkkwrc1dgBPTJz   \n",
       "4                         Escapology  spotify:track:2Ms33RTRCT6gArrpcrPxmo   \n",
       "\n",
       "                                         Url_spotify  \\\n",
       "0  https://open.spotify.com/artist/2QOIawHpSlOwXD...   \n",
       "1  https://open.spotify.com/artist/2QOIawHpSlOwXD...   \n",
       "2  https://open.spotify.com/artist/2QOIawHpSlOwXD...   \n",
       "3  https://open.spotify.com/artist/2HcwFjNelS49kF...   \n",
       "4  https://open.spotify.com/artist/2HcwFjNelS49kF...   \n",
       "\n",
       "                                   Url_youtube Comments  \\\n",
       "0  https://www.youtube.com/watch?v=NzCL9uLkQSI   3070.0   \n",
       "1  https://www.youtube.com/watch?v=jAnzlpPuIDU    122.0   \n",
       "2  https://www.youtube.com/watch?v=jAnzlpPuIDU    122.0   \n",
       "3  https://www.youtube.com/watch?v=luwAMFcc2f8  24350.0   \n",
       "4  https://www.youtube.com/watch?v=iy4mXZN1Zzk  31150.0   \n",
       "\n",
       "                                         Description  \\\n",
       "0  Antonio Vivaldi's 4th Concerto - From his Most...   \n",
       "1  A. Vivaldi Concerto No. 2 in G minor, RV 315, ...   \n",
       "2  A. Vivaldi Concerto No. 2 in G minor, RV 315, ...   \n",
       "3  25 years of Life Thru A Lens. Pre-order the br...   \n",
       "4  25 years of Life Thru A Lens. Pre-order the br...   \n",
       "\n",
       "                                               Title             Channel  \\\n",
       "0  Antonio Vivaldi - Concerto No.4 in F minor, Op...         Mozafunkula   \n",
       "1  A. Vivaldi Concerto No. 2 in G minor, RV 315, ...        Anton Paisov   \n",
       "2                                                NaN        Anton Paisov   \n",
       "3                           Robbie Williams - Angels  robbiewilliamsvevo   \n",
       "4                             Robbie Williams - Feel  robbiewilliamsvevo   \n",
       "\n",
       "            Composer             Artist  \n",
       "0                NaN         Marshmello  \n",
       "1  Finneas O'Connell           Bon Iver  \n",
       "2  Finneas O'Connell  Kamasi Washington  \n",
       "3         Louis Bell              Drake  \n",
       "4            Juicy J        Alicia Keys  \n",
       "\n",
       "[5 rows x 29 columns]"
      ]
     },
     "execution_count": 4,
     "metadata": {},
     "output_type": "execute_result"
    }
   ],
   "source": [
    "train.head()"
   ]
  },
  {
   "cell_type": "code",
   "execution_count": 5,
   "metadata": {},
   "outputs": [
    {
     "data": {
      "text/plain": [
       "Index(['Energy', 'Key', 'Loudness', 'Speechiness', 'Acousticness',\n",
       "       'Instrumentalness', 'Liveness', 'Valence', 'Tempo', 'Duration_ms',\n",
       "       'Views', 'Likes', 'Stream', 'Album_type', 'Licensed', 'official_video',\n",
       "       'id', 'Track', 'Album', 'Uri', 'Url_spotify', 'Url_youtube', 'Comments',\n",
       "       'Description', 'Title', 'Channel', 'Composer', 'Artist'],\n",
       "      dtype='object')"
      ]
     },
     "execution_count": 5,
     "metadata": {},
     "output_type": "execute_result"
    }
   ],
   "source": [
    "test.columns"
   ]
  },
  {
   "cell_type": "code",
   "execution_count": 6,
   "metadata": {},
   "outputs": [],
   "source": [
    "\n",
    "x_train = train.drop(columns=['Danceability'])\n",
    "y_train = train['Danceability']\n",
    "x_test = test #doesn't have the target column\n"
   ]
  },
  {
   "cell_type": "code",
   "execution_count": 7,
   "metadata": {},
   "outputs": [
    {
     "name": "stdout",
     "output_type": "stream",
     "text": [
      "(17170, 29)\n"
     ]
    }
   ],
   "source": [
    "#data exploration\n",
    "\n",
    "print(train.shape)"
   ]
  },
  {
   "cell_type": "code",
   "execution_count": 8,
   "metadata": {},
   "outputs": [
    {
     "data": {
      "text/plain": [
       "Danceability           0\n",
       "Energy              2555\n",
       "Key                 2602\n",
       "Loudness            2569\n",
       "Speechiness         2515\n",
       "Acousticness        2577\n",
       "Instrumentalness    2601\n",
       "Liveness            2535\n",
       "Valence             2574\n",
       "Tempo               2562\n",
       "Duration_ms         2603\n",
       "Views               2596\n",
       "Likes               2579\n",
       "Stream              2568\n",
       "Album_type          2560\n",
       "Licensed            2593\n",
       "official_video      2615\n",
       "id                     0\n",
       "Track               2562\n",
       "Album               2585\n",
       "Uri                 2564\n",
       "Url_spotify         2591\n",
       "Url_youtube         2529\n",
       "Comments            2581\n",
       "Description         2604\n",
       "Title               2623\n",
       "Channel             2558\n",
       "Composer            2558\n",
       "Artist              2566\n",
       "dtype: int64"
      ]
     },
     "execution_count": 8,
     "metadata": {},
     "output_type": "execute_result"
    }
   ],
   "source": [
    "# check missing values\n",
    "train.isnull().sum()"
   ]
  },
  {
   "cell_type": "code",
   "execution_count": 9,
   "metadata": {},
   "outputs": [
    {
     "data": {
      "text/plain": [
       "Index(['Energy', 'Key', 'Loudness', 'Speechiness', 'Acousticness',\n",
       "       'Instrumentalness', 'Liveness', 'Valence', 'Tempo', 'Duration_ms',\n",
       "       'Views', 'Likes', 'Stream', 'id', 'Comments'],\n",
       "      dtype='object')"
      ]
     },
     "execution_count": 9,
     "metadata": {},
     "output_type": "execute_result"
    }
   ],
   "source": [
    "# grab numeric columns\n",
    "numeric_cols = x_train.select_dtypes(include=[np.number])\n",
    "numeric_cols.columns"
   ]
  },
  {
   "cell_type": "code",
   "execution_count": 10,
   "metadata": {},
   "outputs": [
    {
     "data": {
      "text/html": [
       "<div>\n",
       "<style scoped>\n",
       "    .dataframe tbody tr th:only-of-type {\n",
       "        vertical-align: middle;\n",
       "    }\n",
       "\n",
       "    .dataframe tbody tr th {\n",
       "        vertical-align: top;\n",
       "    }\n",
       "\n",
       "    .dataframe thead th {\n",
       "        text-align: right;\n",
       "    }\n",
       "</style>\n",
       "<table border=\"1\" class=\"dataframe\">\n",
       "  <thead>\n",
       "    <tr style=\"text-align: right;\">\n",
       "      <th></th>\n",
       "      <th>Energy</th>\n",
       "      <th>Key</th>\n",
       "      <th>Loudness</th>\n",
       "      <th>Speechiness</th>\n",
       "      <th>Acousticness</th>\n",
       "      <th>Instrumentalness</th>\n",
       "      <th>Liveness</th>\n",
       "      <th>Valence</th>\n",
       "      <th>Tempo</th>\n",
       "      <th>Duration_ms</th>\n",
       "      <th>Views</th>\n",
       "      <th>Likes</th>\n",
       "      <th>Stream</th>\n",
       "      <th>id</th>\n",
       "      <th>Comments</th>\n",
       "    </tr>\n",
       "  </thead>\n",
       "  <tbody>\n",
       "    <tr>\n",
       "      <th>count</th>\n",
       "      <td>1.461500e+04</td>\n",
       "      <td>14568.000000</td>\n",
       "      <td>14601.000000</td>\n",
       "      <td>14655.000000</td>\n",
       "      <td>1.459300e+04</td>\n",
       "      <td>14569.000000</td>\n",
       "      <td>14635.000000</td>\n",
       "      <td>14596.000000</td>\n",
       "      <td>14608.000000</td>\n",
       "      <td>1.456700e+04</td>\n",
       "      <td>1.457400e+04</td>\n",
       "      <td>1.459100e+04</td>\n",
       "      <td>1.460200e+04</td>\n",
       "      <td>17170.000000</td>\n",
       "      <td>1.458900e+04</td>\n",
       "    </tr>\n",
       "    <tr>\n",
       "      <th>mean</th>\n",
       "      <td>3.358392e-01</td>\n",
       "      <td>5.231604</td>\n",
       "      <td>-7.561370</td>\n",
       "      <td>0.095462</td>\n",
       "      <td>1.148404e-01</td>\n",
       "      <td>0.054934</td>\n",
       "      <td>0.033745</td>\n",
       "      <td>0.525842</td>\n",
       "      <td>120.937819</td>\n",
       "      <td>2.228307e+05</td>\n",
       "      <td>8.791096e+07</td>\n",
       "      <td>6.485064e+05</td>\n",
       "      <td>1.290426e+08</td>\n",
       "      <td>8584.500000</td>\n",
       "      <td>2.810321e+04</td>\n",
       "    </tr>\n",
       "    <tr>\n",
       "      <th>std</th>\n",
       "      <td>2.426825e-01</td>\n",
       "      <td>3.456986</td>\n",
       "      <td>4.540944</td>\n",
       "      <td>0.103068</td>\n",
       "      <td>2.215160e-01</td>\n",
       "      <td>0.191392</td>\n",
       "      <td>0.114862</td>\n",
       "      <td>0.244912</td>\n",
       "      <td>29.665225</td>\n",
       "      <td>1.211659e+05</td>\n",
       "      <td>2.523918e+08</td>\n",
       "      <td>1.726157e+06</td>\n",
       "      <td>2.417681e+08</td>\n",
       "      <td>4956.696396</td>\n",
       "      <td>2.142922e+05</td>\n",
       "    </tr>\n",
       "    <tr>\n",
       "      <th>min</th>\n",
       "      <td>8.365427e-15</td>\n",
       "      <td>0.000000</td>\n",
       "      <td>-46.251000</td>\n",
       "      <td>0.000000</td>\n",
       "      <td>1.367631e-18</td>\n",
       "      <td>0.000000</td>\n",
       "      <td>0.000003</td>\n",
       "      <td>0.000000</td>\n",
       "      <td>0.000000</td>\n",
       "      <td>3.098500e+04</td>\n",
       "      <td>2.600000e+01</td>\n",
       "      <td>0.000000e+00</td>\n",
       "      <td>6.574000e+03</td>\n",
       "      <td>0.000000</td>\n",
       "      <td>0.000000e+00</td>\n",
       "    </tr>\n",
       "    <tr>\n",
       "      <th>25%</th>\n",
       "      <td>1.342177e-01</td>\n",
       "      <td>2.000000</td>\n",
       "      <td>-8.655000</td>\n",
       "      <td>0.036100</td>\n",
       "      <td>9.797218e-05</td>\n",
       "      <td>0.000000</td>\n",
       "      <td>0.000836</td>\n",
       "      <td>0.336000</td>\n",
       "      <td>97.041000</td>\n",
       "      <td>1.793055e+05</td>\n",
       "      <td>1.971684e+06</td>\n",
       "      <td>2.251600e+04</td>\n",
       "      <td>1.628195e+07</td>\n",
       "      <td>4292.250000</td>\n",
       "      <td>5.340000e+02</td>\n",
       "    </tr>\n",
       "    <tr>\n",
       "      <th>50%</th>\n",
       "      <td>2.954083e-01</td>\n",
       "      <td>5.000000</td>\n",
       "      <td>-6.472000</td>\n",
       "      <td>0.051400</td>\n",
       "      <td>6.967871e-03</td>\n",
       "      <td>0.000002</td>\n",
       "      <td>0.001907</td>\n",
       "      <td>0.531000</td>\n",
       "      <td>119.995500</td>\n",
       "      <td>2.120300e+05</td>\n",
       "      <td>1.427208e+07</td>\n",
       "      <td>1.239210e+05</td>\n",
       "      <td>4.550224e+07</td>\n",
       "      <td>8584.500000</td>\n",
       "      <td>3.171000e+03</td>\n",
       "    </tr>\n",
       "    <tr>\n",
       "      <th>75%</th>\n",
       "      <td>5.062616e-01</td>\n",
       "      <td>8.000000</td>\n",
       "      <td>-4.920000</td>\n",
       "      <td>0.106000</td>\n",
       "      <td>1.025032e-01</td>\n",
       "      <td>0.000392</td>\n",
       "      <td>0.012487</td>\n",
       "      <td>0.722000</td>\n",
       "      <td>139.990250</td>\n",
       "      <td>2.495115e+05</td>\n",
       "      <td>6.603988e+07</td>\n",
       "      <td>5.077155e+05</td>\n",
       "      <td>1.256493e+08</td>\n",
       "      <td>12876.750000</td>\n",
       "      <td>1.361900e+04</td>\n",
       "    </tr>\n",
       "    <tr>\n",
       "      <th>max</th>\n",
       "      <td>1.000000e+00</td>\n",
       "      <td>10.000000</td>\n",
       "      <td>0.829000</td>\n",
       "      <td>0.964000</td>\n",
       "      <td>9.880479e-01</td>\n",
       "      <td>1.000000</td>\n",
       "      <td>1.000000</td>\n",
       "      <td>0.993000</td>\n",
       "      <td>243.372000</td>\n",
       "      <td>4.581483e+06</td>\n",
       "      <td>5.773798e+09</td>\n",
       "      <td>4.014762e+07</td>\n",
       "      <td>3.386520e+09</td>\n",
       "      <td>17169.000000</td>\n",
       "      <td>1.608314e+07</td>\n",
       "    </tr>\n",
       "  </tbody>\n",
       "</table>\n",
       "</div>"
      ],
      "text/plain": [
       "             Energy           Key      Loudness   Speechiness  Acousticness  \\\n",
       "count  1.461500e+04  14568.000000  14601.000000  14655.000000  1.459300e+04   \n",
       "mean   3.358392e-01      5.231604     -7.561370      0.095462  1.148404e-01   \n",
       "std    2.426825e-01      3.456986      4.540944      0.103068  2.215160e-01   \n",
       "min    8.365427e-15      0.000000    -46.251000      0.000000  1.367631e-18   \n",
       "25%    1.342177e-01      2.000000     -8.655000      0.036100  9.797218e-05   \n",
       "50%    2.954083e-01      5.000000     -6.472000      0.051400  6.967871e-03   \n",
       "75%    5.062616e-01      8.000000     -4.920000      0.106000  1.025032e-01   \n",
       "max    1.000000e+00     10.000000      0.829000      0.964000  9.880479e-01   \n",
       "\n",
       "       Instrumentalness      Liveness       Valence         Tempo  \\\n",
       "count      14569.000000  14635.000000  14596.000000  14608.000000   \n",
       "mean           0.054934      0.033745      0.525842    120.937819   \n",
       "std            0.191392      0.114862      0.244912     29.665225   \n",
       "min            0.000000      0.000003      0.000000      0.000000   \n",
       "25%            0.000000      0.000836      0.336000     97.041000   \n",
       "50%            0.000002      0.001907      0.531000    119.995500   \n",
       "75%            0.000392      0.012487      0.722000    139.990250   \n",
       "max            1.000000      1.000000      0.993000    243.372000   \n",
       "\n",
       "        Duration_ms         Views         Likes        Stream            id  \\\n",
       "count  1.456700e+04  1.457400e+04  1.459100e+04  1.460200e+04  17170.000000   \n",
       "mean   2.228307e+05  8.791096e+07  6.485064e+05  1.290426e+08   8584.500000   \n",
       "std    1.211659e+05  2.523918e+08  1.726157e+06  2.417681e+08   4956.696396   \n",
       "min    3.098500e+04  2.600000e+01  0.000000e+00  6.574000e+03      0.000000   \n",
       "25%    1.793055e+05  1.971684e+06  2.251600e+04  1.628195e+07   4292.250000   \n",
       "50%    2.120300e+05  1.427208e+07  1.239210e+05  4.550224e+07   8584.500000   \n",
       "75%    2.495115e+05  6.603988e+07  5.077155e+05  1.256493e+08  12876.750000   \n",
       "max    4.581483e+06  5.773798e+09  4.014762e+07  3.386520e+09  17169.000000   \n",
       "\n",
       "           Comments  \n",
       "count  1.458900e+04  \n",
       "mean   2.810321e+04  \n",
       "std    2.142922e+05  \n",
       "min    0.000000e+00  \n",
       "25%    5.340000e+02  \n",
       "50%    3.171000e+03  \n",
       "75%    1.361900e+04  \n",
       "max    1.608314e+07  "
      ]
     },
     "execution_count": 10,
     "metadata": {},
     "output_type": "execute_result"
    }
   ],
   "source": [
    "x_train.describe()"
   ]
  },
  {
   "cell_type": "code",
   "execution_count": 11,
   "metadata": {},
   "outputs": [],
   "source": [
    "from sklearn.preprocessing import StandardScaler, MinMaxScaler\n",
    "# scale numeric columns\n",
    "# numeric_cols_norm = (numeric_cols - numeric_cols.mean()) / numeric_cols.std()\n",
    "# numeric_cols_norm.describe()\n",
    "scaler = StandardScaler()\n",
    "\n",
    "numeric_cols_norm = scaler.fit_transform(numeric_cols)\n",
    "numeric_cols_norm = pd.DataFrame(numeric_cols_norm, columns=numeric_cols.columns)\n",
    "\n",
    "# do the same for test data\n",
    "numeric_cols_test_norm = scaler.transform(numeric_cols)\n",
    "numeric_cols_test_norm = pd.DataFrame(numeric_cols_test_norm, columns=numeric_cols.columns)\n"
   ]
  },
  {
   "cell_type": "code",
   "execution_count": 12,
   "metadata": {},
   "outputs": [
    {
     "data": {
      "text/plain": [
       "<Axes: >"
      ]
     },
     "execution_count": 12,
     "metadata": {},
     "output_type": "execute_result"
    },
    {
     "data": {
      "image/png": "[encoded data removed]",
      "text/plain": [
       "<Figure size 864x720 with 2 Axes>"
      ]
     },
     "metadata": {
      "needs_background": "light"
     },
     "output_type": "display_data"
    }
   ],
   "source": [
    "# check correlation\n",
    "corr = numeric_cols_norm.corr()\n",
    "\n",
    "# plot correlation\n",
    "plt.figure(figsize=(12,10))\n",
    "sns.heatmap(corr, vmax=0.8, square=True)\n",
    "\n"
   ]
  },
  {
   "cell_type": "code",
   "execution_count": 13,
   "metadata": {},
   "outputs": [],
   "source": [
    "#replace normalized numeric columns\n",
    "x_train[numeric_cols_norm.columns] = numeric_cols_norm\n",
    "x_test[numeric_cols_norm.columns] = numeric_cols_test_norm\n",
    "\n"
   ]
  },
  {
   "cell_type": "code",
   "execution_count": 14,
   "metadata": {},
   "outputs": [],
   "source": [
    "# transform danceability to categorical\n",
    "from pandas.api.types import CategoricalDtype\n",
    "y_train = y_train.astype(CategoricalDtype(ordered=True))\n"
   ]
  },
  {
   "cell_type": "code",
   "execution_count": 15,
   "metadata": {},
   "outputs": [
    {
     "data": {
      "text/plain": [
       "8.0    1860\n",
       "6.0    1856\n",
       "7.0    1826\n",
       "5.0    1702\n",
       "3.0    1675\n",
       "2.0    1664\n",
       "0.0    1655\n",
       "9.0    1654\n",
       "1.0    1639\n",
       "4.0    1639\n",
       "Name: Danceability, dtype: int64"
      ]
     },
     "execution_count": 15,
     "metadata": {},
     "output_type": "execute_result"
    }
   ],
   "source": [
    "# count how many unique values in each danceability category\n",
    "y_train.value_counts()\n",
    "\n"
   ]
  },
  {
   "cell_type": "code",
   "execution_count": 16,
   "metadata": {},
   "outputs": [],
   "source": [
    "from sklearn.impute import SimpleImputer\n",
    "num_x_train = x_train[numeric_cols_norm.columns].copy()\n",
    "num_x_test = x_test[numeric_cols_norm.columns].copy()\n",
    "\n",
    "# check if there is any missing values\n",
    "impute = SimpleImputer(strategy='median')\n",
    "impute.fit(num_x_train)\n",
    "num_x_train = impute.transform(num_x_train)\n",
    "num_x_test = impute.transform(num_x_test)"
   ]
  },
  {
   "cell_type": "code",
   "execution_count": 17,
   "metadata": {},
   "outputs": [],
   "source": [
    "# predict using multi-class aproach\n",
    "from sklearn.tree import DecisionTreeClassifier\n",
    "from sklearn.model_selection import cross_val_score, GridSearchCV\n",
    "from sklearn.model_selection import KFold\n",
    "from sklearn.metrics import accuracy_score\n",
    "\n",
    "\n",
    "# create model\n",
    "# param_grid = {\n",
    "#     'criterion': ['gini', 'entropy'],\n",
    "#     'max_depth': [None, 10, 20, 30, 40, 50],\n",
    "#     'min_samples_split': [2, 5, 10, 20],\n",
    "#     'min_samples_leaf': [1, 2, 4, 8],\n",
    "#     'max_features': ['auto', 'sqrt', 'log2', None]\n",
    "# }\n",
    "\n",
    "# model = DecisionTreeClassifier(random_state=1)\n",
    "\n",
    "\n",
    "# #train model\n",
    "# model.fit(num_x_train, y_train)\n",
    "\n",
    "# # define cross validation\n",
    "cv = KFold(n_splits=5, random_state=1, shuffle=True)\n",
    "\n",
    "# grid_search = GridSearchCV(estimator=model, param_grid=param_grid, scoring='neg_mean_absolute_error', cv=cv, n_jobs=-1, verbose=1)\n",
    "# grid_search.fit(num_x_train, y_train)\n",
    "\n",
    "# # evaluate model\n",
    "# scores = cross_val_score(model, num_x_train, y_train, scoring='neg_mean_absolute_error', cv=cv, n_jobs=-1)\n"
   ]
  },
  {
   "cell_type": "code",
   "execution_count": 18,
   "metadata": {},
   "outputs": [
    {
     "name": "stdout",
     "output_type": "stream",
     "text": [
      "Best hyperparameters: {'criterion': 'gini', 'max_depth': 10, 'max_features': None, 'min_samples_leaf': 4, 'min_samples_split': 20}\n"
     ]
    }
   ],
   "source": [
    "#best_params = grid_search.best_params_\n",
    "best_params = {'criterion': 'gini', 'max_depth': 10, 'max_features': None, 'min_samples_leaf': 4, 'min_samples_split': 20}\n",
    "print(f\"Best hyperparameters: {best_params}\")\n",
    "#Best hyperparameters: {'criterion': 'gini', 'max_depth': 10, 'max_features': None, 'min_samples_leaf': 4, 'min_samples_split': 20}"
   ]
  },
  {
   "cell_type": "code",
   "execution_count": 19,
   "metadata": {},
   "outputs": [
    {
     "name": "stdout",
     "output_type": "stream",
     "text": [
      "Best MAE: 2.097029702970297\n"
     ]
    }
   ],
   "source": [
    "best_model = DecisionTreeClassifier(**best_params, random_state=1)\n",
    "best_model.fit(num_x_train, y_train)\n",
    "best_scores = cross_val_score(best_model, num_x_train, y_train, scoring='neg_mean_absolute_error', cv=cv, n_jobs=-1)\n",
    "best_mae = -best_scores.mean()\n",
    "print(f\"Best MAE: {best_mae}\")\n",
    "\n"
   ]
  },
  {
   "attachments": {},
   "cell_type": "markdown",
   "metadata": {},
   "source": [
    "## "
   ]
  },
  {
   "cell_type": "code",
   "execution_count": 20,
   "metadata": {},
   "outputs": [],
   "source": [
    "# get preds for test set\n",
    "preds = best_model.predict(num_x_test)"
   ]
  },
  {
   "cell_type": "code",
   "execution_count": 21,
   "metadata": {},
   "outputs": [],
   "source": [
    "#transform preds to int and save to csv\n",
    "preds = preds.astype(int)"
   ]
  },
  {
   "cell_type": "code",
   "execution_count": 22,
   "metadata": {},
   "outputs": [],
   "source": [
    "# make preds into the model output format in the sample_submission.csv\n",
    "preds = pd.DataFrame(preds, columns=['Danceability'])\n",
    "preds['id'] = preds.index + 17170\n",
    "preds = preds[['id', 'Danceability']]\n",
    "preds.to_csv('submission.csv', index=False)\n",
    "\n"
   ]
  },
  {
   "attachments": {},
   "cell_type": "markdown",
   "metadata": {},
   "source": [
    "# XGBOOST"
   ]
  },
  {
   "cell_type": "code",
   "execution_count": 23,
   "metadata": {},
   "outputs": [],
   "source": [
    "# try the same prediction as above but using XGBClassifier\n",
    "import xgboost as xgb\n",
    "from xgboost import XGBClassifier\n"
   ]
  },
  {
   "cell_type": "code",
   "execution_count": 24,
   "metadata": {},
   "outputs": [],
   "source": [
    "from sklearn.model_selection import train_test_split\n",
    "x_train_v2, x_val, y_train_v2, y_val = train_test_split(num_x_train, y_train, test_size=0.25, shuffle=True, stratify=y_train, random_state=1)"
   ]
  },
  {
   "cell_type": "code",
   "execution_count": 38,
   "metadata": {},
   "outputs": [
    {
     "name": "stdout",
     "output_type": "stream",
     "text": [
      "Fitting 5 folds for each of 10 candidates, totalling 50 fits\n"
     ]
    },
    {
     "data": {
      "text/html": [
       "<style>#sk-container-id-1 {color: black;background-color: white;}#sk-container-id-1 pre{padding: 0;}#sk-container-id-1 div.sk-toggleable {background-color: white;}#sk-container-id-1 label.sk-toggleable__label {cursor: pointer;display: block;width: 100%;margin-bottom: 0;padding: 0.3em;box-sizing: border-box;text-align: center;}#sk-container-id-1 label.sk-toggleable__label-arrow:before {content: \"▸\";float: left;margin-right: 0.25em;color: #696969;}#sk-container-id-1 label.sk-toggleable__label-arrow:hover:before {color: black;}#sk-container-id-1 div.sk-estimator:hover label.sk-toggleable__label-arrow:before {color: black;}#sk-container-id-1 div.sk-toggleable__content {max-height: 0;max-width: 0;overflow: hidden;text-align: left;background-color: #f0f8ff;}#sk-container-id-1 div.sk-toggleable__content pre {margin: 0.2em;color: black;border-radius: 0.25em;background-color: #f0f8ff;}#sk-container-id-1 input.sk-toggleable__control:checked~div.sk-toggleable__content {max-height: 200px;max-width: 100%;overflow: auto;}#sk-container-id-1 input.sk-toggleable__control:checked~label.sk-toggleable__label-arrow:before {content: \"▾\";}#sk-container-id-1 div.sk-estimator input.sk-toggleable__control:checked~label.sk-toggleable__label {background-color: #d4ebff;}#sk-container-id-1 div.sk-label input.sk-toggleable__control:checked~label.sk-toggleable__label {background-color: #d4ebff;}#sk-container-id-1 input.sk-hidden--visually {border: 0;clip: rect(1px 1px 1px 1px);clip: rect(1px, 1px, 1px, 1px);height: 1px;margin: -1px;overflow: hidden;padding: 0;position: absolute;width: 1px;}#sk-container-id-1 div.sk-estimator {font-family: monospace;background-color: #f0f8ff;border: 1px dotted black;border-radius: 0.25em;box-sizing: border-box;margin-bottom: 0.5em;}#sk-container-id-1 div.sk-estimator:hover {background-color: #d4ebff;}#sk-container-id-1 div.sk-parallel-item::after {content: \"\";width: 100%;border-bottom: 1px solid gray;flex-grow: 1;}#sk-container-id-1 div.sk-label:hover label.sk-toggleable__label {background-color: #d4ebff;}#sk-container-id-1 div.sk-serial::before {content: \"\";position: absolute;border-left: 1px solid gray;box-sizing: border-box;top: 0;bottom: 0;left: 50%;z-index: 0;}#sk-container-id-1 div.sk-serial {display: flex;flex-direction: column;align-items: center;background-color: white;padding-right: 0.2em;padding-left: 0.2em;position: relative;}#sk-container-id-1 div.sk-item {position: relative;z-index: 1;}#sk-container-id-1 div.sk-parallel {display: flex;align-items: stretch;justify-content: center;background-color: white;position: relative;}#sk-container-id-1 div.sk-item::before, #sk-container-id-1 div.sk-parallel-item::before {content: \"\";position: absolute;border-left: 1px solid gray;box-sizing: border-box;top: 0;bottom: 0;left: 50%;z-index: -1;}#sk-container-id-1 div.sk-parallel-item {display: flex;flex-direction: column;z-index: 1;position: relative;background-color: white;}#sk-container-id-1 div.sk-parallel-item:first-child::after {align-self: flex-end;width: 50%;}#sk-container-id-1 div.sk-parallel-item:last-child::after {align-self: flex-start;width: 50%;}#sk-container-id-1 div.sk-parallel-item:only-child::after {width: 0;}#sk-container-id-1 div.sk-dashed-wrapped {border: 1px dashed gray;margin: 0 0.4em 0.5em 0.4em;box-sizing: border-box;padding-bottom: 0.4em;background-color: white;}#sk-container-id-1 div.sk-label label {font-family: monospace;font-weight: bold;display: inline-block;line-height: 1.2em;}#sk-container-id-1 div.sk-label-container {text-align: center;}#sk-container-id-1 div.sk-container {/* jupyter's `normalize.less` sets `[hidden] { display: none; }` but bootstrap.min.css set `[hidden] { display: none !important; }` so we also need the `!important` here to be able to override the default hidden behavior on the sphinx rendered scikit-learn.org. See: https://github.com/scikit-learn/scikit-learn/issues/21755 */display: inline-block !important;position: relative;}#sk-container-id-1 div.sk-text-repr-fallback {display: none;}</style><div id=\"sk-container-id-1\" class=\"sk-top-container\"><div class=\"sk-text-repr-fallback\"><pre>RandomizedSearchCV(cv=KFold(n_splits=5, random_state=1, shuffle=True),\n",
       "                   estimator=XGBClassifier(base_score=None, booster=None,\n",
       "                                           callbacks=None,\n",
       "                                           colsample_bylevel=None,\n",
       "                                           colsample_bynode=None,\n",
       "                                           colsample_bytree=None,\n",
       "                                           early_stopping_rounds=None,\n",
       "                                           enable_categorical=False,\n",
       "                                           eval_metric=None, feature_types=None,\n",
       "                                           gamma=None, gpu_id=None,\n",
       "                                           grow_policy=None,\n",
       "                                           importance_type=Non...\n",
       "                                        &#x27;colsample_bytree&#x27;: [0.5, 0.6, 0.7, 0.8,\n",
       "                                                             0.9],\n",
       "                                        &#x27;gamma&#x27;: [0, 0.1, 0.2, 0.3, 0.4],\n",
       "                                        &#x27;learning_rate&#x27;: [0.01, 0.05, 0.1, 0.2,\n",
       "                                                          0.3],\n",
       "                                        &#x27;max_depth&#x27;: [None, 10, 20, 30, 40, 50],\n",
       "                                        &#x27;min_child_weight&#x27;: [1, 2, 4, 8],\n",
       "                                        &#x27;n_estimators&#x27;: [100, 200, 300, 400,\n",
       "                                                         500],\n",
       "                                        &#x27;reg_alpha&#x27;: [0, 0.1, 0.2, 0.3, 0.4],\n",
       "                                        &#x27;reg_lambda&#x27;: [0, 0.1, 0.2, 0.3, 0.4],\n",
       "                                        &#x27;subsample&#x27;: [0.5, 0.6, 0.7, 0.8, 0.9]},\n",
       "                   scoring=&#x27;neg_mean_absolute_error&#x27;, verbose=1)</pre><b>In a Jupyter environment, please rerun this cell to show the HTML representation or trust the notebook. <br />On GitHub, the HTML representation is unable to render, please try loading this page with nbviewer.org.</b></div><div class=\"sk-container\" hidden><div class=\"sk-item sk-dashed-wrapped\"><div class=\"sk-label-container\"><div class=\"sk-label sk-toggleable\"><input class=\"sk-toggleable__control sk-hidden--visually\" id=\"sk-estimator-id-1\" type=\"checkbox\" ><label for=\"sk-estimator-id-1\" class=\"sk-toggleable__label sk-toggleable__label-arrow\">RandomizedSearchCV</label><div class=\"sk-toggleable__content\"><pre>RandomizedSearchCV(cv=KFold(n_splits=5, random_state=1, shuffle=True),\n",
       "                   estimator=XGBClassifier(base_score=None, booster=None,\n",
       "                                           callbacks=None,\n",
       "                                           colsample_bylevel=None,\n",
       "                                           colsample_bynode=None,\n",
       "                                           colsample_bytree=None,\n",
       "                                           early_stopping_rounds=None,\n",
       "                                           enable_categorical=False,\n",
       "                                           eval_metric=None, feature_types=None,\n",
       "                                           gamma=None, gpu_id=None,\n",
       "                                           grow_policy=None,\n",
       "                                           importance_type=Non...\n",
       "                                        &#x27;colsample_bytree&#x27;: [0.5, 0.6, 0.7, 0.8,\n",
       "                                                             0.9],\n",
       "                                        &#x27;gamma&#x27;: [0, 0.1, 0.2, 0.3, 0.4],\n",
       "                                        &#x27;learning_rate&#x27;: [0.01, 0.05, 0.1, 0.2,\n",
       "                                                          0.3],\n",
       "                                        &#x27;max_depth&#x27;: [None, 10, 20, 30, 40, 50],\n",
       "                                        &#x27;min_child_weight&#x27;: [1, 2, 4, 8],\n",
       "                                        &#x27;n_estimators&#x27;: [100, 200, 300, 400,\n",
       "                                                         500],\n",
       "                                        &#x27;reg_alpha&#x27;: [0, 0.1, 0.2, 0.3, 0.4],\n",
       "                                        &#x27;reg_lambda&#x27;: [0, 0.1, 0.2, 0.3, 0.4],\n",
       "                                        &#x27;subsample&#x27;: [0.5, 0.6, 0.7, 0.8, 0.9]},\n",
       "                   scoring=&#x27;neg_mean_absolute_error&#x27;, verbose=1)</pre></div></div></div><div class=\"sk-parallel\"><div class=\"sk-parallel-item\"><div class=\"sk-item\"><div class=\"sk-label-container\"><div class=\"sk-label sk-toggleable\"><input class=\"sk-toggleable__control sk-hidden--visually\" id=\"sk-estimator-id-2\" type=\"checkbox\" ><label for=\"sk-estimator-id-2\" class=\"sk-toggleable__label sk-toggleable__label-arrow\">estimator: XGBClassifier</label><div class=\"sk-toggleable__content\"><pre>XGBClassifier(base_score=None, booster=None, callbacks=None,\n",
       "              colsample_bylevel=None, colsample_bynode=None,\n",
       "              colsample_bytree=None, early_stopping_rounds=None,\n",
       "              enable_categorical=False, eval_metric=None, feature_types=None,\n",
       "              gamma=None, gpu_id=None, grow_policy=None, importance_type=None,\n",
       "              interaction_constraints=None, learning_rate=None, max_bin=None,\n",
       "              max_cat_threshold=None, max_cat_to_onehot=None,\n",
       "              max_delta_step=None, max_depth=None, max_leaves=None,\n",
       "              min_child_weight=None, missing=nan, monotone_constraints=None,\n",
       "              n_estimators=100, n_jobs=1, num_parallel_tree=None,\n",
       "              predictor=None, random_state=1, ...)</pre></div></div></div><div class=\"sk-serial\"><div class=\"sk-item\"><div class=\"sk-estimator sk-toggleable\"><input class=\"sk-toggleable__control sk-hidden--visually\" id=\"sk-estimator-id-3\" type=\"checkbox\" ><label for=\"sk-estimator-id-3\" class=\"sk-toggleable__label sk-toggleable__label-arrow\">XGBClassifier</label><div class=\"sk-toggleable__content\"><pre>XGBClassifier(base_score=None, booster=None, callbacks=None,\n",
       "              colsample_bylevel=None, colsample_bynode=None,\n",
       "              colsample_bytree=None, early_stopping_rounds=None,\n",
       "              enable_categorical=False, eval_metric=None, feature_types=None,\n",
       "              gamma=None, gpu_id=None, grow_policy=None, importance_type=None,\n",
       "              interaction_constraints=None, learning_rate=None, max_bin=None,\n",
       "              max_cat_threshold=None, max_cat_to_onehot=None,\n",
       "              max_delta_step=None, max_depth=None, max_leaves=None,\n",
       "              min_child_weight=None, missing=nan, monotone_constraints=None,\n",
       "              n_estimators=100, n_jobs=1, num_parallel_tree=None,\n",
       "              predictor=None, random_state=1, ...)</pre></div></div></div></div></div></div></div></div></div></div>"
      ],
      "text/plain": [
       "RandomizedSearchCV(cv=KFold(n_splits=5, random_state=1, shuffle=True),\n",
       "                   estimator=XGBClassifier(base_score=None, booster=None,\n",
       "                                           callbacks=None,\n",
       "                                           colsample_bylevel=None,\n",
       "                                           colsample_bynode=None,\n",
       "                                           colsample_bytree=None,\n",
       "                                           early_stopping_rounds=None,\n",
       "                                           enable_categorical=False,\n",
       "                                           eval_metric=None, feature_types=None,\n",
       "                                           gamma=None, gpu_id=None,\n",
       "                                           grow_policy=None,\n",
       "                                           importance_type=Non...\n",
       "                                        'colsample_bytree': [0.5, 0.6, 0.7, 0.8,\n",
       "                                                             0.9],\n",
       "                                        'gamma': [0, 0.1, 0.2, 0.3, 0.4],\n",
       "                                        'learning_rate': [0.01, 0.05, 0.1, 0.2,\n",
       "                                                          0.3],\n",
       "                                        'max_depth': [None, 10, 20, 30, 40, 50],\n",
       "                                        'min_child_weight': [1, 2, 4, 8],\n",
       "                                        'n_estimators': [100, 200, 300, 400,\n",
       "                                                         500],\n",
       "                                        'reg_alpha': [0, 0.1, 0.2, 0.3, 0.4],\n",
       "                                        'reg_lambda': [0, 0.1, 0.2, 0.3, 0.4],\n",
       "                                        'subsample': [0.5, 0.6, 0.7, 0.8, 0.9]},\n",
       "                   scoring='neg_mean_absolute_error', verbose=1)"
      ]
     },
     "execution_count": 38,
     "metadata": {},
     "output_type": "execute_result"
    }
   ],
   "source": [
    "from sklearn.model_selection import RandomizedSearchCV\n",
    "# create model\n",
    "param_grid = {\n",
    "    'n_estimators': [100, 200, 300, 400, 500],\n",
    "    'max_depth': [None, 10, 20, 30, 40, 50],\n",
    "    'learning_rate': [0.01, 0.05, 0.1, 0.2, 0.3],\n",
    "    'min_child_weight': [1, 2, 4, 8],\n",
    "    'gamma': [0, 0.1, 0.2, 0.3, 0.4],\n",
    "    'subsample': [0.5, 0.6, 0.7, 0.8, 0.9],\n",
    "    'colsample_bytree': [0.5, 0.6, 0.7, 0.8, 0.9],\n",
    "    'colsample_bylevel': [0.5, 0.6, 0.7, 0.8, 0.9],\n",
    "    'colsample_bynode': [0.5, 0.6, 0.7, 0.8, 0.9],\n",
    "    'reg_alpha': [0, 0.1, 0.2, 0.3, 0.4],\n",
    "    'reg_lambda': [0, 0.1, 0.2, 0.3, 0.4]\n",
    "}\n",
    "\n",
    "# model = XGBClassifier(random_state=1, n_jobs=1)\n",
    "\n",
    "# # train model\n",
    "# grid_search = RandomizedSearchCV(estimator=model, param_distributions=param_grid, scoring='neg_mean_absolute_error', cv=cv, verbose=1)\n",
    "\n",
    "# #grid_search.fit(num_x_train, y_train)\n",
    "# grid_search.fit(x_train_v2, y_train_v2)\n",
    "\n"
   ]
  },
  {
   "cell_type": "code",
   "execution_count": 40,
   "metadata": {},
   "outputs": [
    {
     "name": "stdout",
     "output_type": "stream",
     "text": [
      "Best hyperparameters: {'subsample': 0.7, 'reg_lambda': 0.3, 'reg_alpha': 0.4, 'n_estimators': 400, 'min_child_weight': 4, 'max_depth': 20, 'learning_rate': 0.1, 'gamma': 0, 'colsample_bytree': 0.6, 'colsample_bynode': 0.9, 'colsample_bylevel': 0.9}\n"
     ]
    }
   ],
   "source": [
    "# best_params = grid_search.best_params_\n",
    "# took 27 minutes to run\n",
    "best_params = {'subsample': 0.7, 'reg_lambda': 0.3, 'reg_alpha': 0.4, 'n_estimators': 400, 'min_child_weight': 4, 'max_depth': 20, 'learning_rate': 0.1, 'gamma': 0, 'colsample_bytree': 0.6, 'colsample_bynode': 0.9, 'colsample_bylevel': 0.9}\n",
    "\n",
    "print(f\"Best hyperparameters: {best_params}\")"
   ]
  },
  {
   "cell_type": "code",
   "execution_count": 27,
   "metadata": {},
   "outputs": [
    {
     "name": "stdout",
     "output_type": "stream",
     "text": [
      "Best MAE: 1.8652300524170067\n"
     ]
    }
   ],
   "source": [
    "#prediction with CV\n",
    "\n",
    "baseline_params = {'n_estimators': 100, 'max_depth': 10, 'learning_rate': 0.1, 'min_child_weight': 1, 'gamma': 0, 'subsample': 0.5, 'colsample_bytree': 0.5, 'colsample_bylevel': 0.5, 'colsample_bynode': 0.5, 'reg_alpha': 0, 'reg_lambda': 0}\n",
    "best_model = XGBClassifier(**baseline_params, random_state=1)\n",
    "best_model = XGBClassifier(**best_params, random_state=1)\n",
    "best_model.fit(num_x_train, y_train)\n",
    "\n",
    "best_scores = cross_val_score(best_model, num_x_train, y_train, scoring='neg_mean_absolute_error', cv=cv, n_jobs=-1)\n",
    "\n",
    "best_mae = -best_scores.mean()\n",
    "print(f\"Best MAE: {best_mae}\")"
   ]
  },
  {
   "cell_type": "code",
   "execution_count": 28,
   "metadata": {},
   "outputs": [
    {
     "name": "stdout",
     "output_type": "stream",
     "text": [
      "MAE without CV: 1.8732820871185651\n"
     ]
    }
   ],
   "source": [
    "# Non CV evaluation\n",
    "\n",
    "from sklearn.metrics import mean_absolute_error\n",
    "baseline_params = {'n_estimators': 100, 'max_depth': 10, 'learning_rate': 0.1, 'min_child_weight': 1, 'gamma': 0, 'subsample': 0.5, 'colsample_bytree': 0.5, 'colsample_bylevel': 0.5, 'colsample_bynode': 0.5, 'reg_alpha': 0, 'reg_lambda': 0}\n",
    "best_model = XGBClassifier(**baseline_params, random_state=1)\n",
    "best_model.fit(x_train_v2, y_train_v2)\n",
    "#get MAE without CV\n",
    "preds = best_model.predict(x_val)\n",
    "mae = mean_absolute_error(y_val, preds)\n",
    "print(f\"MAE without CV: {mae}\")\n"
   ]
  },
  {
   "cell_type": "code",
   "execution_count": 29,
   "metadata": {},
   "outputs": [],
   "source": [
    "# get preds for test set\n",
    "preds = best_model.predict(num_x_test)\n",
    "#transform preds to int and save to csv\n",
    "preds = preds.astype(int)\n",
    "# make preds into the model output format in the sample_submission.csv\n",
    "preds = pd.DataFrame(preds, columns=['Danceability'])\n",
    "preds['id'] = preds.index + 17170\n",
    "preds = preds[['id', 'Danceability']]\n",
    "preds.to_csv('submission.csv', index=False)\n"
   ]
  },
  {
   "attachments": {},
   "cell_type": "markdown",
   "metadata": {},
   "source": [
    "# Adaboost "
   ]
  },
  {
   "cell_type": "code",
   "execution_count": 36,
   "metadata": {},
   "outputs": [],
   "source": [
    "# import\n",
    "from sklearn.ensemble import AdaBoostClassifier\n",
    "from sklearn.model_selection import RandomizedSearchCV\n",
    "\n",
    "# create model\n",
    "param_grid = {\n",
    "    'n_estimators': [100, 200, 300, 400, 500],\n",
    "    'learning_rate': [0.01, 0.05, 0.1, 0.2, 0.3],\n",
    "    'algorithm': ['SAMME', 'SAMME.R']\n",
    "}\n",
    "param_dist = {\n",
    "    'n_estimators': [100, 200, 300, 400, 500],\n",
    "    'learning_rate': [0.01, 0.05, 0.1, 0.2, 0.3],\n",
    "    'algorithm': ['SAMME', 'SAMME.R']\n",
    "}\n",
    "model = AdaBoostClassifier(random_state=1)\n",
    "\n",
    "# train model\n",
    "\n",
    "#grid_search = RandomizedSearchCV(estimator=model, param_distributions=param_dist, scoring='neg_mean_absolute_error', cv=cv, verbose=1)\n",
    "\n",
    "#grid_search.fit(num_x_train, y_train)\n",
    "\n",
    "#best_params = grid_search.best_params_\n",
    "\n",
    "#print(f\"Best hyperparameters: {best_params}\")\n",
    "\n",
    "#prediction with CV\n",
    "\n",
    "baseline_params = {'n_estimators': 200, 'learning_rate': 0.2, 'algorithm': 'SAMME.R'}\n",
    "\n",
    "best_model = AdaBoostClassifier(**baseline_params, random_state=1)\n",
    "\n",
    "best_model.fit(num_x_train, y_train)\n",
    "\n",
    "best_scores = cross_val_score(best_model, num_x_train, y_train, scoring='neg_mean_absolute_error', cv=cv, n_jobs=-1)\n",
    "\n",
    "best_mae = -best_scores.mean()"
   ]
  },
  {
   "cell_type": "code",
   "execution_count": 37,
   "metadata": {},
   "outputs": [
    {
     "name": "stdout",
     "output_type": "stream",
     "text": [
      "Best MAE: 1.9548631333721604\n"
     ]
    }
   ],
   "source": [
    "print(f\"Best MAE: {best_mae}\")"
   ]
  },
  {
   "attachments": {},
   "cell_type": "markdown",
   "metadata": {},
   "source": [
    "# AdaBoost Regressor"
   ]
  },
  {
   "cell_type": "code",
   "execution_count": null,
   "metadata": {},
   "outputs": [],
   "source": [
    "from sklearn.ensemble import AdaBoostRegressor\n",
    "from sklearn.model_selection import RandomizedSearchCV\n",
    "\n",
    "# create model\n",
    "param_grid = {\n",
    "    'n_estimators': [100, 200, 300, 400, 500],\n",
    "    'learning_rate': [0.01, 0.05, 0.1, 0.2, 0.3],\n",
    "    'algorithm': ['SAMME', 'SAMME.R']\n",
    "}\n",
    "param_dist = {\n",
    "    'n_estimators': [100, 200, 300, 400, 500],\n",
    "    'learning_rate': [0.01, 0.05, 0.1, 0.2, 0.3],\n",
    "    'algorithm': ['SAMME', 'SAMME.R']\n",
    "}\n",
    "model = AdaBoostRegressor(random_state=1)\n",
    "\n",
    "# train model\n",
    "\n",
    "grid_search = RandomizedSearchCV(estimator=model, param_distributions=param_dist, scoring='neg_mean_absolute_error', cv=cv, verbose=1)\n",
    "\n",
    "grid_search.fit(num_x_train, y_train)\n",
    "\n",
    "best_params = grid_search.best_params_\n",
    "\n",
    "print(f\"Best hyperparameters: {best_params}\")\n",
    "\n",
    "#prediction with CV\n",
    "\n",
    "baseline_params = {'n_estimators': 200, 'learning_rate': 0.2, 'algorithm': 'SAMME.R'}\n",
    "\n",
    "best_model = AdaBoostRegressor(**baseline_params, random_state=1)\n",
    "\n",
    "best_model.fit(num_x_train, y_train)\n",
    "\n",
    "best_scores = cross_val_score(best_model, num_x_train, y_train, scoring='neg_mean_absolute_error', cv=cv, n_jobs=-1)\n",
    "\n",
    "best_mae = -best_scores.mean()"
   ]
  },
  {
   "attachments": {},
   "cell_type": "markdown",
   "metadata": {},
   "source": [
    "# Ordinal model"
   ]
  },
  {
   "cell_type": "code",
   "execution_count": 31,
   "metadata": {},
   "outputs": [
    {
     "ename": "ValueError",
     "evalue": "Boolean array expected for the condition, not object",
     "output_type": "error",
     "traceback": [
      "\u001b[0;31m---------------------------------------------------------------------------\u001b[0m",
      "\u001b[0;31mValueError\u001b[0m                                Traceback (most recent call last)",
      "\u001b[1;32m/home/zow/Konfusion/explo.ipynb Cell 35\u001b[0m in \u001b[0;36m<cell line: 2>\u001b[0;34m()\u001b[0m\n\u001b[1;32m      <a href='vscode-notebook-cell:/home/zow/Konfusion/explo.ipynb#Y111sZmlsZQ%3D%3D?line=0'>1</a>\u001b[0m \u001b[39mfrom\u001b[39;00m \u001b[39mstatsmodels\u001b[39;00m\u001b[39m.\u001b[39;00m\u001b[39mmiscmodels\u001b[39;00m\u001b[39m.\u001b[39;00m\u001b[39mordinal_model\u001b[39;00m \u001b[39mimport\u001b[39;00m OrderedModel\n\u001b[0;32m----> <a href='vscode-notebook-cell:/home/zow/Konfusion/explo.ipynb#Y111sZmlsZQ%3D%3D?line=1'>2</a>\u001b[0m mod_prob \u001b[39m=\u001b[39m OrderedModel(y_train, x_train[numeric_cols], distr\u001b[39m=\u001b[39m\u001b[39m'\u001b[39m\u001b[39mlogit\u001b[39m\u001b[39m'\u001b[39m)\n",
      "File \u001b[0;32m~/anaconda3/envs/fintech/lib/python3.8/site-packages/pandas/core/frame.py:3792\u001b[0m, in \u001b[0;36mDataFrame.__getitem__\u001b[0;34m(self, key)\u001b[0m\n\u001b[1;32m   3790\u001b[0m \u001b[39m# Do we have a (boolean) DataFrame?\u001b[39;00m\n\u001b[1;32m   3791\u001b[0m \u001b[39mif\u001b[39;00m \u001b[39misinstance\u001b[39m(key, DataFrame):\n\u001b[0;32m-> 3792\u001b[0m     \u001b[39mreturn\u001b[39;00m \u001b[39mself\u001b[39;49m\u001b[39m.\u001b[39;49mwhere(key)\n\u001b[1;32m   3794\u001b[0m \u001b[39m# Do we have a (boolean) 1d indexer?\u001b[39;00m\n\u001b[1;32m   3795\u001b[0m \u001b[39mif\u001b[39;00m com\u001b[39m.\u001b[39mis_bool_indexer(key):\n",
      "File \u001b[0;32m~/anaconda3/envs/fintech/lib/python3.8/site-packages/pandas/util/_decorators.py:211\u001b[0m, in \u001b[0;36mdeprecate_kwarg.<locals>._deprecate_kwarg.<locals>.wrapper\u001b[0;34m(*args, **kwargs)\u001b[0m\n\u001b[1;32m    209\u001b[0m     \u001b[39melse\u001b[39;00m:\n\u001b[1;32m    210\u001b[0m         kwargs[new_arg_name] \u001b[39m=\u001b[39m new_arg_value\n\u001b[0;32m--> 211\u001b[0m \u001b[39mreturn\u001b[39;00m func(\u001b[39m*\u001b[39;49margs, \u001b[39m*\u001b[39;49m\u001b[39m*\u001b[39;49mkwargs)\n",
      "File \u001b[0;32m~/anaconda3/envs/fintech/lib/python3.8/site-packages/pandas/util/_decorators.py:331\u001b[0m, in \u001b[0;36mdeprecate_nonkeyword_arguments.<locals>.decorate.<locals>.wrapper\u001b[0;34m(*args, **kwargs)\u001b[0m\n\u001b[1;32m    325\u001b[0m \u001b[39mif\u001b[39;00m \u001b[39mlen\u001b[39m(args) \u001b[39m>\u001b[39m num_allow_args:\n\u001b[1;32m    326\u001b[0m     warnings\u001b[39m.\u001b[39mwarn(\n\u001b[1;32m    327\u001b[0m         msg\u001b[39m.\u001b[39mformat(arguments\u001b[39m=\u001b[39m_format_argument_list(allow_args)),\n\u001b[1;32m    328\u001b[0m         \u001b[39mFutureWarning\u001b[39;00m,\n\u001b[1;32m    329\u001b[0m         stacklevel\u001b[39m=\u001b[39mfind_stack_level(),\n\u001b[1;32m    330\u001b[0m     )\n\u001b[0;32m--> 331\u001b[0m \u001b[39mreturn\u001b[39;00m func(\u001b[39m*\u001b[39;49margs, \u001b[39m*\u001b[39;49m\u001b[39m*\u001b[39;49mkwargs)\n",
      "File \u001b[0;32m~/anaconda3/envs/fintech/lib/python3.8/site-packages/pandas/core/frame.py:11920\u001b[0m, in \u001b[0;36mDataFrame.where\u001b[0;34m(self, cond, other, inplace, axis, level, errors, try_cast)\u001b[0m\n\u001b[1;32m  11906\u001b[0m \u001b[39m@deprecate_kwarg\u001b[39m(old_arg_name\u001b[39m=\u001b[39m\u001b[39m\"\u001b[39m\u001b[39merrors\u001b[39m\u001b[39m\"\u001b[39m, new_arg_name\u001b[39m=\u001b[39m\u001b[39mNone\u001b[39;00m)\n\u001b[1;32m  11907\u001b[0m \u001b[39m@deprecate_nonkeyword_arguments\u001b[39m(\n\u001b[1;32m  11908\u001b[0m     version\u001b[39m=\u001b[39m\u001b[39mNone\u001b[39;00m, allowed_args\u001b[39m=\u001b[39m[\u001b[39m\"\u001b[39m\u001b[39mself\u001b[39m\u001b[39m\"\u001b[39m, \u001b[39m\"\u001b[39m\u001b[39mcond\u001b[39m\u001b[39m\"\u001b[39m, \u001b[39m\"\u001b[39m\u001b[39mother\u001b[39m\u001b[39m\"\u001b[39m]\n\u001b[0;32m   (...)\u001b[0m\n\u001b[1;32m  11918\u001b[0m     try_cast: \u001b[39mbool\u001b[39m \u001b[39m|\u001b[39m lib\u001b[39m.\u001b[39mNoDefault \u001b[39m=\u001b[39m lib\u001b[39m.\u001b[39mno_default,\n\u001b[1;32m  11919\u001b[0m ) \u001b[39m-\u001b[39m\u001b[39m>\u001b[39m DataFrame \u001b[39m|\u001b[39m \u001b[39mNone\u001b[39;00m:\n\u001b[0;32m> 11920\u001b[0m     \u001b[39mreturn\u001b[39;00m \u001b[39msuper\u001b[39;49m()\u001b[39m.\u001b[39;49mwhere(\n\u001b[1;32m  11921\u001b[0m         cond,\n\u001b[1;32m  11922\u001b[0m         other,\n\u001b[1;32m  11923\u001b[0m         inplace\u001b[39m=\u001b[39;49minplace,\n\u001b[1;32m  11924\u001b[0m         axis\u001b[39m=\u001b[39;49maxis,\n\u001b[1;32m  11925\u001b[0m         level\u001b[39m=\u001b[39;49mlevel,\n\u001b[1;32m  11926\u001b[0m         try_cast\u001b[39m=\u001b[39;49mtry_cast,\n\u001b[1;32m  11927\u001b[0m     )\n",
      "File \u001b[0;32m~/anaconda3/envs/fintech/lib/python3.8/site-packages/pandas/util/_decorators.py:211\u001b[0m, in \u001b[0;36mdeprecate_kwarg.<locals>._deprecate_kwarg.<locals>.wrapper\u001b[0;34m(*args, **kwargs)\u001b[0m\n\u001b[1;32m    209\u001b[0m     \u001b[39melse\u001b[39;00m:\n\u001b[1;32m    210\u001b[0m         kwargs[new_arg_name] \u001b[39m=\u001b[39m new_arg_value\n\u001b[0;32m--> 211\u001b[0m \u001b[39mreturn\u001b[39;00m func(\u001b[39m*\u001b[39;49margs, \u001b[39m*\u001b[39;49m\u001b[39m*\u001b[39;49mkwargs)\n",
      "File \u001b[0;32m~/anaconda3/envs/fintech/lib/python3.8/site-packages/pandas/util/_decorators.py:331\u001b[0m, in \u001b[0;36mdeprecate_nonkeyword_arguments.<locals>.decorate.<locals>.wrapper\u001b[0;34m(*args, **kwargs)\u001b[0m\n\u001b[1;32m    325\u001b[0m \u001b[39mif\u001b[39;00m \u001b[39mlen\u001b[39m(args) \u001b[39m>\u001b[39m num_allow_args:\n\u001b[1;32m    326\u001b[0m     warnings\u001b[39m.\u001b[39mwarn(\n\u001b[1;32m    327\u001b[0m         msg\u001b[39m.\u001b[39mformat(arguments\u001b[39m=\u001b[39m_format_argument_list(allow_args)),\n\u001b[1;32m    328\u001b[0m         \u001b[39mFutureWarning\u001b[39;00m,\n\u001b[1;32m    329\u001b[0m         stacklevel\u001b[39m=\u001b[39mfind_stack_level(),\n\u001b[1;32m    330\u001b[0m     )\n\u001b[0;32m--> 331\u001b[0m \u001b[39mreturn\u001b[39;00m func(\u001b[39m*\u001b[39;49margs, \u001b[39m*\u001b[39;49m\u001b[39m*\u001b[39;49mkwargs)\n",
      "File \u001b[0;32m~/anaconda3/envs/fintech/lib/python3.8/site-packages/pandas/core/generic.py:9968\u001b[0m, in \u001b[0;36mNDFrame.where\u001b[0;34m(self, cond, other, inplace, axis, level, errors, try_cast)\u001b[0m\n\u001b[1;32m   9960\u001b[0m \u001b[39mif\u001b[39;00m try_cast \u001b[39mis\u001b[39;00m \u001b[39mnot\u001b[39;00m lib\u001b[39m.\u001b[39mno_default:\n\u001b[1;32m   9961\u001b[0m     warnings\u001b[39m.\u001b[39mwarn(\n\u001b[1;32m   9962\u001b[0m         \u001b[39m\"\u001b[39m\u001b[39mtry_cast keyword is deprecated and will be removed in a \u001b[39m\u001b[39m\"\u001b[39m\n\u001b[1;32m   9963\u001b[0m         \u001b[39m\"\u001b[39m\u001b[39mfuture version.\u001b[39m\u001b[39m\"\u001b[39m,\n\u001b[1;32m   9964\u001b[0m         \u001b[39mFutureWarning\u001b[39;00m,\n\u001b[1;32m   9965\u001b[0m         stacklevel\u001b[39m=\u001b[39mfind_stack_level(),\n\u001b[1;32m   9966\u001b[0m     )\n\u001b[0;32m-> 9968\u001b[0m \u001b[39mreturn\u001b[39;00m \u001b[39mself\u001b[39;49m\u001b[39m.\u001b[39;49m_where(cond, other, inplace, axis, level)\n",
      "File \u001b[0;32m~/anaconda3/envs/fintech/lib/python3.8/site-packages/pandas/core/generic.py:9657\u001b[0m, in \u001b[0;36mNDFrame._where\u001b[0;34m(self, cond, other, inplace, axis, level)\u001b[0m\n\u001b[1;32m   9655\u001b[0m         \u001b[39mfor\u001b[39;00m dt \u001b[39min\u001b[39;00m cond\u001b[39m.\u001b[39mdtypes:\n\u001b[1;32m   9656\u001b[0m             \u001b[39mif\u001b[39;00m \u001b[39mnot\u001b[39;00m is_bool_dtype(dt):\n\u001b[0;32m-> 9657\u001b[0m                 \u001b[39mraise\u001b[39;00m \u001b[39mValueError\u001b[39;00m(msg\u001b[39m.\u001b[39mformat(dtype\u001b[39m=\u001b[39mdt))\n\u001b[1;32m   9658\u001b[0m \u001b[39melse\u001b[39;00m:\n\u001b[1;32m   9659\u001b[0m     \u001b[39m# GH#21947 we have an empty DataFrame/Series, could be object-dtype\u001b[39;00m\n\u001b[1;32m   9660\u001b[0m     cond \u001b[39m=\u001b[39m cond\u001b[39m.\u001b[39mastype(\u001b[39mbool\u001b[39m)\n",
      "\u001b[0;31mValueError\u001b[0m: Boolean array expected for the condition, not object"
     ]
    }
   ],
   "source": [
    "from statsmodels.miscmodels.ordinal_model import OrderedModel\n",
    "mod_prob = OrderedModel(y_train, x_train[numeric_cols], distr='logit')"
   ]
  },
  {
   "cell_type": "code",
   "execution_count": null,
   "metadata": {},
   "outputs": [],
   "source": [
    "res_prob = mod_prob.fit(method='bfgs')\n",
    "res_prob.summary()"
   ]
  }
 ],
 "metadata": {
  "kernelspec": {
   "display_name": "fintech2",
   "language": "python",
   "name": "python3"
  },
  "language_info": {
   "codemirror_mode": {
    "name": "ipython",
    "version": 3
   },
   "file_extension": ".py",
   "mimetype": "text/x-python",
   "name": "python",
   "nbconvert_exporter": "python",
   "pygments_lexer": "ipython3",
   "version": "3.8.15"
  },
  "orig_nbformat": 4
 },
 "nbformat": 4,
 "nbformat_minor": 2
}

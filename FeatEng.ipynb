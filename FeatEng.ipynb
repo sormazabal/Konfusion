{
 "cells": [
  {
   "cell_type": "code",
   "execution_count": 1,
   "id": "83e65d92",
   "metadata": {
    "tags": []
   },
   "outputs": [],
   "source": [
    "import pandas as pd \n",
    "import numpy as np\n",
    "import matplotlib.pyplot as plt\n",
    "import seaborn as sns\n",
    "import os\n",
    "from sklearn.preprocessing import PolynomialFeatures\n",
    "from sklearn.preprocessing import LabelEncoder"
   ]
  },
  {
   "cell_type": "code",
   "execution_count": 2,
   "id": "28141a6f",
   "metadata": {
    "tags": []
   },
   "outputs": [],
   "source": [
    "# load data\n",
    "df_train = pd.read_csv('train.csv')\n",
    "df_test = pd.read_csv('test.csv')\n"
   ]
  },
  {
   "cell_type": "code",
   "execution_count": 3,
   "id": "d5bf3449",
   "metadata": {
    "tags": []
   },
   "outputs": [
    {
     "data": {
      "text/plain": [
       "Index(['Danceability', 'Energy', 'Key', 'Loudness', 'Speechiness',\n",
       "       'Acousticness', 'Instrumentalness', 'Liveness', 'Valence', 'Tempo',\n",
       "       'Duration_ms', 'Views', 'Likes', 'Stream', 'Album_type', 'Licensed',\n",
       "       'official_video', 'id', 'Track', 'Album', 'Uri', 'Url_spotify',\n",
       "       'Url_youtube', 'Comments', 'Description', 'Title', 'Channel',\n",
       "       'Composer', 'Artist'],\n",
       "      dtype='object')"
      ]
     },
     "execution_count": 3,
     "metadata": {},
     "output_type": "execute_result"
    }
   ],
   "source": [
    "df_train.columns"
   ]
  },
  {
   "cell_type": "code",
   "execution_count": 4,
   "id": "3148140d",
   "metadata": {
    "tags": []
   },
   "outputs": [
    {
     "data": {
      "text/plain": [
       "Danceability        float64\n",
       "Energy              float64\n",
       "Key                 float64\n",
       "Loudness            float64\n",
       "Speechiness         float64\n",
       "Acousticness        float64\n",
       "Instrumentalness    float64\n",
       "Liveness            float64\n",
       "Valence             float64\n",
       "Tempo               float64\n",
       "Duration_ms         float64\n",
       "Views               float64\n",
       "Likes               float64\n",
       "Stream              float64\n",
       "Album_type           object\n",
       "Licensed             object\n",
       "official_video       object\n",
       "id                    int64\n",
       "Track                object\n",
       "Album                object\n",
       "Uri                  object\n",
       "Url_spotify          object\n",
       "Url_youtube          object\n",
       "Comments            float64\n",
       "Description          object\n",
       "Title                object\n",
       "Channel              object\n",
       "Composer             object\n",
       "Artist               object\n",
       "dtype: object"
      ]
     },
     "execution_count": 4,
     "metadata": {},
     "output_type": "execute_result"
    }
   ],
   "source": [
    "df_train.dtypes"
   ]
  },
  {
   "cell_type": "code",
   "execution_count": 5,
   "id": "70bb905c",
   "metadata": {
    "tags": []
   },
   "outputs": [],
   "source": [
    "def create_dictionary(keys):\n",
    "    dictionary = {}\n",
    "    for key in keys:\n",
    "        dictionary[key] = None  \n",
    "    return dictionary\n",
    "\n",
    "\n",
    "def data_process_keep_only_numerical(input_data):\n",
    "    numeric_columns = input_data.select_dtypes(include=['int64', 'float64'])\n",
    "    return numeric_columns\n",
    "\n",
    "def word_dictionary(arr_columns, input_train, input_test):\n",
    "    # Append the two DataFrames\n",
    "    appended_df = pd.concat([input_train, input_test])\n",
    "    appended_df.reset_index(drop=True, inplace=True)\n",
    "    arr_word_dict = {}\n",
    "    for col in arr_columns:\n",
    "        uniq_tmp = appended_df[col].unique()\n",
    "        arr_dict = {value: value if isinstance(value, (int, float)) and np.isnan(value) else index for index, value in enumerate(uniq_tmp)}\n",
    "        arr_word_dict[col] = arr_dict\n",
    "    return arr_word_dict\n",
    "\n",
    "word_dict = word_dictionary([\n",
    "    'Album_type', 'Licensed', 'official_video', 'Track', 'Album', 'Uri', 'Url_spotify', 'Url_youtube', \n",
    "    'Description', 'Title', 'Channel', 'Composer', 'Artist'], df_train, df_test)\n",
    "\n",
    "# Using Dictionary:\n",
    "#   Album_type, Licensed, official_video, Composer, Channel, Artist\n",
    "# Can be removed:\n",
    "#   Uri, Url_spotify, Url_youtube\n",
    "# Cannot use word_dict:\n",
    "#   Track, Album, Description, Title\n",
    "# ret_train.head()\n",
    "# ret_test.head()"
   ]
  },
  {
   "cell_type": "code",
   "execution_count": 6,
   "id": "bd381552-ad3f-44df-9580-f8d185b43f70",
   "metadata": {
    "tags": []
   },
   "outputs": [
    {
     "data": {
      "text/plain": [
       "{'album': 0, nan: nan, 'single': 2, 'compilation': 3}"
      ]
     },
     "execution_count": 6,
     "metadata": {},
     "output_type": "execute_result"
    }
   ],
   "source": [
    "word_dict['Album_type']"
   ]
  },
  {
   "cell_type": "code",
   "execution_count": 7,
   "id": "647f8f8e-f242-4e52-815e-23a206331759",
   "metadata": {
    "tags": []
   },
   "outputs": [
    {
     "data": {
      "text/html": [
       "<div>\n",
       "<style scoped>\n",
       "    .dataframe tbody tr th:only-of-type {\n",
       "        vertical-align: middle;\n",
       "    }\n",
       "\n",
       "    .dataframe tbody tr th {\n",
       "        vertical-align: top;\n",
       "    }\n",
       "\n",
       "    .dataframe thead th {\n",
       "        text-align: right;\n",
       "    }\n",
       "</style>\n",
       "<table border=\"1\" class=\"dataframe\">\n",
       "  <thead>\n",
       "    <tr style=\"text-align: right;\">\n",
       "      <th></th>\n",
       "      <th>Danceability</th>\n",
       "      <th>Energy</th>\n",
       "      <th>Key</th>\n",
       "      <th>Loudness</th>\n",
       "      <th>Speechiness</th>\n",
       "      <th>Acousticness</th>\n",
       "      <th>Instrumentalness</th>\n",
       "      <th>Liveness</th>\n",
       "      <th>Valence</th>\n",
       "      <th>Tempo</th>\n",
       "      <th>...</th>\n",
       "      <th>Album</th>\n",
       "      <th>Uri</th>\n",
       "      <th>Url_spotify</th>\n",
       "      <th>Url_youtube</th>\n",
       "      <th>Comments</th>\n",
       "      <th>Description</th>\n",
       "      <th>Title</th>\n",
       "      <th>Channel</th>\n",
       "      <th>Composer</th>\n",
       "      <th>Artist</th>\n",
       "    </tr>\n",
       "  </thead>\n",
       "  <tbody>\n",
       "    <tr>\n",
       "      <th>0</th>\n",
       "      <td>0.0</td>\n",
       "      <td>0.000273</td>\n",
       "      <td>3.0</td>\n",
       "      <td>-25.176</td>\n",
       "      <td>0.0443</td>\n",
       "      <td>0.724151</td>\n",
       "      <td>0.000062</td>\n",
       "      <td>0.000807</td>\n",
       "      <td>0.340</td>\n",
       "      <td>83.398</td>\n",
       "      <td>...</td>\n",
       "      <td>Sinkovsky Plays and Sings Vivaldi</td>\n",
       "      <td>spotify:track:7njAZhca4o80qQdCgyEWya</td>\n",
       "      <td>https://open.spotify.com/artist/2QOIawHpSlOwXD...</td>\n",
       "      <td>https://www.youtube.com/watch?v=NzCL9uLkQSI</td>\n",
       "      <td>3070.0</td>\n",
       "      <td>Antonio Vivaldi's 4th Concerto - From his Most...</td>\n",
       "      <td>Antonio Vivaldi - Concerto No.4 in F minor, Op...</td>\n",
       "      <td>Mozafunkula</td>\n",
       "      <td>NaN</td>\n",
       "      <td>Marshmello</td>\n",
       "    </tr>\n",
       "    <tr>\n",
       "      <th>1</th>\n",
       "      <td>0.0</td>\n",
       "      <td>0.184220</td>\n",
       "      <td>7.0</td>\n",
       "      <td>NaN</td>\n",
       "      <td>NaN</td>\n",
       "      <td>0.672221</td>\n",
       "      <td>0.910000</td>\n",
       "      <td>0.034966</td>\n",
       "      <td>0.746</td>\n",
       "      <td>148.692</td>\n",
       "      <td>...</td>\n",
       "      <td>NaN</td>\n",
       "      <td>spotify:track:2nnXe7n3Vivs7OfQKRsfWD</td>\n",
       "      <td>https://open.spotify.com/artist/2QOIawHpSlOwXD...</td>\n",
       "      <td>https://www.youtube.com/watch?v=jAnzlpPuIDU</td>\n",
       "      <td>122.0</td>\n",
       "      <td>A. Vivaldi Concerto No. 2 in G minor, RV 315, ...</td>\n",
       "      <td>A. Vivaldi Concerto No. 2 in G minor, RV 315, ...</td>\n",
       "      <td>Anton Paisov</td>\n",
       "      <td>Finneas O'Connell</td>\n",
       "      <td>Bon Iver</td>\n",
       "    </tr>\n",
       "    <tr>\n",
       "      <th>2</th>\n",
       "      <td>0.0</td>\n",
       "      <td>NaN</td>\n",
       "      <td>6.0</td>\n",
       "      <td>-15.596</td>\n",
       "      <td>NaN</td>\n",
       "      <td>0.667628</td>\n",
       "      <td>0.867000</td>\n",
       "      <td>0.001772</td>\n",
       "      <td>0.380</td>\n",
       "      <td>84.899</td>\n",
       "      <td>...</td>\n",
       "      <td>Vivaldi: The Four Seasons</td>\n",
       "      <td>spotify:track:0VQMAup2VdeQWLCvM14Uz2</td>\n",
       "      <td>https://open.spotify.com/artist/2QOIawHpSlOwXD...</td>\n",
       "      <td>https://www.youtube.com/watch?v=jAnzlpPuIDU</td>\n",
       "      <td>122.0</td>\n",
       "      <td>A. Vivaldi Concerto No. 2 in G minor, RV 315, ...</td>\n",
       "      <td>NaN</td>\n",
       "      <td>Anton Paisov</td>\n",
       "      <td>Finneas O'Connell</td>\n",
       "      <td>Kamasi Washington</td>\n",
       "    </tr>\n",
       "    <tr>\n",
       "      <th>3</th>\n",
       "      <td>1.0</td>\n",
       "      <td>0.209585</td>\n",
       "      <td>NaN</td>\n",
       "      <td>-6.251</td>\n",
       "      <td>0.0277</td>\n",
       "      <td>0.003796</td>\n",
       "      <td>NaN</td>\n",
       "      <td>0.001000</td>\n",
       "      <td>NaN</td>\n",
       "      <td>150.220</td>\n",
       "      <td>...</td>\n",
       "      <td>Life Thru A Lens</td>\n",
       "      <td>spotify:track:1M2nd8jNUkkwrc1dgBPTJz</td>\n",
       "      <td>https://open.spotify.com/artist/2HcwFjNelS49kF...</td>\n",
       "      <td>https://www.youtube.com/watch?v=luwAMFcc2f8</td>\n",
       "      <td>24350.0</td>\n",
       "      <td>25 years of Life Thru A Lens. Pre-order the br...</td>\n",
       "      <td>Robbie Williams - Angels</td>\n",
       "      <td>robbiewilliamsvevo</td>\n",
       "      <td>Louis Bell</td>\n",
       "      <td>Drake</td>\n",
       "    </tr>\n",
       "  </tbody>\n",
       "</table>\n",
       "<p>4 rows × 29 columns</p>\n",
       "</div>"
      ],
      "text/plain": [
       "   Danceability    Energy  Key  Loudness  Speechiness  Acousticness  \\\n",
       "0           0.0  0.000273  3.0   -25.176       0.0443      0.724151   \n",
       "1           0.0  0.184220  7.0       NaN          NaN      0.672221   \n",
       "2           0.0       NaN  6.0   -15.596          NaN      0.667628   \n",
       "3           1.0  0.209585  NaN    -6.251       0.0277      0.003796   \n",
       "\n",
       "   Instrumentalness  Liveness  Valence    Tempo  ...  \\\n",
       "0          0.000062  0.000807    0.340   83.398  ...   \n",
       "1          0.910000  0.034966    0.746  148.692  ...   \n",
       "2          0.867000  0.001772    0.380   84.899  ...   \n",
       "3               NaN  0.001000      NaN  150.220  ...   \n",
       "\n",
       "                               Album                                   Uri  \\\n",
       "0  Sinkovsky Plays and Sings Vivaldi  spotify:track:7njAZhca4o80qQdCgyEWya   \n",
       "1                                NaN  spotify:track:2nnXe7n3Vivs7OfQKRsfWD   \n",
       "2          Vivaldi: The Four Seasons  spotify:track:0VQMAup2VdeQWLCvM14Uz2   \n",
       "3                   Life Thru A Lens  spotify:track:1M2nd8jNUkkwrc1dgBPTJz   \n",
       "\n",
       "                                         Url_spotify  \\\n",
       "0  https://open.spotify.com/artist/2QOIawHpSlOwXD...   \n",
       "1  https://open.spotify.com/artist/2QOIawHpSlOwXD...   \n",
       "2  https://open.spotify.com/artist/2QOIawHpSlOwXD...   \n",
       "3  https://open.spotify.com/artist/2HcwFjNelS49kF...   \n",
       "\n",
       "                                   Url_youtube Comments  \\\n",
       "0  https://www.youtube.com/watch?v=NzCL9uLkQSI   3070.0   \n",
       "1  https://www.youtube.com/watch?v=jAnzlpPuIDU    122.0   \n",
       "2  https://www.youtube.com/watch?v=jAnzlpPuIDU    122.0   \n",
       "3  https://www.youtube.com/watch?v=luwAMFcc2f8  24350.0   \n",
       "\n",
       "                                         Description  \\\n",
       "0  Antonio Vivaldi's 4th Concerto - From his Most...   \n",
       "1  A. Vivaldi Concerto No. 2 in G minor, RV 315, ...   \n",
       "2  A. Vivaldi Concerto No. 2 in G minor, RV 315, ...   \n",
       "3  25 years of Life Thru A Lens. Pre-order the br...   \n",
       "\n",
       "                                               Title             Channel  \\\n",
       "0  Antonio Vivaldi - Concerto No.4 in F minor, Op...         Mozafunkula   \n",
       "1  A. Vivaldi Concerto No. 2 in G minor, RV 315, ...        Anton Paisov   \n",
       "2                                                NaN        Anton Paisov   \n",
       "3                           Robbie Williams - Angels  robbiewilliamsvevo   \n",
       "\n",
       "            Composer             Artist  \n",
       "0                NaN         Marshmello  \n",
       "1  Finneas O'Connell           Bon Iver  \n",
       "2  Finneas O'Connell  Kamasi Washington  \n",
       "3         Louis Bell              Drake  \n",
       "\n",
       "[4 rows x 29 columns]"
      ]
     },
     "execution_count": 7,
     "metadata": {},
     "output_type": "execute_result"
    }
   ],
   "source": [
    "df_train.head(4)"
   ]
  },
  {
   "cell_type": "code",
   "execution_count": 8,
   "id": "e9d16366-eed7-4232-8e33-e9541476b506",
   "metadata": {
    "tags": []
   },
   "outputs": [],
   "source": [
    "def data_convert(df, word_dict):\n",
    "    df_ret = df.copy()\n",
    "    for dic in word_dict:\n",
    "        #print(dic)\n",
    "        for key_dic in word_dict[dic]:\n",
    "            df_ret.loc[df_ret[dic] == key_dic, dic] = word_dict[dic][key_dic]\n",
    "    return df_ret     "
   ]
  },
  {
   "cell_type": "code",
   "execution_count": 9,
   "id": "4abe16ae-38ba-4133-ab52-d2eb4101a7b8",
   "metadata": {
    "tags": []
   },
   "outputs": [],
   "source": [
    "df_train_embedding = data_convert(df_train, word_dict)"
   ]
  },
  {
   "cell_type": "code",
   "execution_count": 10,
   "id": "3f3cb9e1-2246-493f-be2e-6e87442729a5",
   "metadata": {
    "tags": []
   },
   "outputs": [],
   "source": [
    "df_test_embedding = data_convert(df_test, word_dict)"
   ]
  },
  {
   "cell_type": "code",
   "execution_count": 11,
   "id": "ba2b583f",
   "metadata": {
    "scrolled": true
   },
   "outputs": [
    {
     "name": "stderr",
     "output_type": "stream",
     "text": [
      "/tmp/ipykernel_22169/2578188673.py:4: DeprecationWarning: `np.float` is a deprecated alias for the builtin `float`. To silence this warning, use `float` by itself. Doing this will not modify any behavior and is safe. If you specifically wanted the numpy scalar type, use `np.float64` here.\n",
      "Deprecated in NumPy 1.20; for more details and guidance: https://numpy.org/devdocs/release/1.20.0-notes.html#deprecations\n",
      "  df_train_embedding[obj_columns] = df_train_embedding[obj_columns].astype(np.float)\n"
     ]
    }
   ],
   "source": [
    "obj_columns = df_train_embedding.select_dtypes(include=['object']).columns\n",
    "# print(int_columns)\n",
    "# convert integer columns to float\n",
    "df_train_embedding[obj_columns] = df_train_embedding[obj_columns].astype(np.float)"
   ]
  },
  {
   "cell_type": "code",
   "execution_count": 12,
   "id": "84caaea9",
   "metadata": {},
   "outputs": [],
   "source": [
    "def corr_matrix_with_threshold(df, threshold, title_str = \"Filtered Correlation Matrix (Half Square)\"):\n",
    "    # Add target column to the DataFrame\n",
    "    corr_matrix = df.corr()\n",
    "    # Filter the correlation matrix based on the threshold\n",
    "    filtered_matrix = corr_matrix[corr_matrix.abs() > threshold]\n",
    "    mask = np.triu(np.ones_like(filtered_matrix, dtype=bool))\n",
    "    \n",
    "    plt.figure(figsize=(8, 6))\n",
    "    sns.heatmap(filtered_matrix, annot=True, fmt=\".2f\", mask=mask, cmap=\"coolwarm\")\n",
    "    plt.title(title_str)\n",
    "    plt.show()\n"
   ]
  },
  {
   "cell_type": "code",
   "execution_count": 13,
   "id": "cee9355c",
   "metadata": {},
   "outputs": [
    {
     "data": {
      "image/png": "[encoded data removed]",
      "text/plain": [
       "<Figure size 800x600 with 2 Axes>"
      ]
     },
     "metadata": {},
     "output_type": "display_data"
    }
   ],
   "source": [
    "corr_matrix_with_threshold(df_train_embedding, 0.2)"
   ]
  },
  {
   "cell_type": "code",
   "execution_count": 14,
   "id": "1aa91e04-d858-4627-917c-0ac7af72156d",
   "metadata": {
    "tags": []
   },
   "outputs": [],
   "source": [
    "def remove_unimportant_column(df, arr_column):\n",
    "    df_dropped = df.drop(arr_column, axis=1)\n",
    "    return df_dropped"
   ]
  },
  {
   "cell_type": "code",
   "execution_count": 15,
   "id": "27d8e819-acb1-44fa-93a9-00600c6dc63d",
   "metadata": {
    "tags": []
   },
   "outputs": [],
   "source": [
    "arr_NOT_important_column = ['Uri',  'Url_youtube', 'Description', 'id', 'Licensed', 'official_video', 'Title', 'Album'] #'Url_spotify',\n",
    "df_train_embedding_important = remove_unimportant_column(df_train_embedding, arr_NOT_important_column)\n",
    "df_test_embedding_important = remove_unimportant_column(df_test_embedding, arr_NOT_important_column)"
   ]
  },
  {
   "cell_type": "markdown",
   "id": "cd386171",
   "metadata": {},
   "source": [
    "* Danceability ==> Valence: 0.424102 | Composer: 0.295219| Loudness: 0.275222 | Speechiness:0.228473|  Acousticness:-0.309605| Instrumentalness: -0.231177 | Likes: 0.103480| \n",
    "* Valence      ==> Loudness: 0.319542  |  Energy: 0.305514  |  Acousticness: -0.288254  | Instrumentalness: -0.258984  | Composer: 0.143226\n",
    "* Composer     ==> Valence: 0.143226 | \n",
    "* Loudness     ==> Energy: 0.559834 | Valence: 0.319542 |Tempo: 0.146088\t| Acousticness: -0.651000 |Instrumentalness: -0.563593 |  Views: 0.110302 | Likes: 0.123328 | Stream: 0.112378\n",
    "* Speechiness  ==> Acousticness: -0.141015 |Instrumentalness: -0.113436\n",
    "* Acousticness ==> Energy: -0.471571 | Loudness: -0.651000 |Instrumentalness: 0.416931| Energy: -0.471571 | Tempo: -0.127284\n",
    "* Instrumentalness ==> Energy: -0.135264 | Loudness: -0.563593| Acousticness: 0.416931| Valence: -0.258984\n",
    "* Likes ==> Views: 0.871248 |Stream: 0.664720 |Comments: 0.609587| Loudness:0.123328"
   ]
  },
  {
   "cell_type": "code",
   "execution_count": 17,
   "id": "1a6cc3fb",
   "metadata": {},
   "outputs": [],
   "source": [
    "arr_NOT_important_column = [ 'Tempo', 'Likes', 'Stream', 'Energy', 'Views', 'Track', 'Key', 'Liveness', 'Duration_ms',  'Album_type', 'Comments','Channel','Artist'  ]\n",
    "#arr_NOT_important_column = [  ]\n",
    "df_train_embedding_important_simple = remove_unimportant_column(df_train_embedding_important, arr_NOT_important_column)\n",
    "df_test_embedding_important_simple = remove_unimportant_column(df_test_embedding_important, arr_NOT_important_column)"
   ]
  },
  {
   "cell_type": "code",
   "execution_count": 18,
   "id": "9eb5718d",
   "metadata": {},
   "outputs": [
    {
     "name": "stdout",
     "output_type": "stream",
     "text": [
      "Index(['Danceability', 'Loudness', 'Speechiness', 'Acousticness',\n",
      "       'Instrumentalness', 'Valence', 'Url_spotify', 'Composer'],\n",
      "      dtype='object')\n"
     ]
    }
   ],
   "source": [
    "important_cols = df_train_embedding_important_simple.columns\n",
    "print(important_cols)"
   ]
  },
  {
   "cell_type": "code",
   "execution_count": 20,
   "id": "758c0fa3",
   "metadata": {},
   "outputs": [],
   "source": [
    "import matplotlib.pyplot as plt\n",
    "def plot_hist(df, column):\n",
    "    df[column].plot.hist(title=f'Histogram of {column}', xlabel='Value', ylabel='Frequency')\n",
    "    plt.show()\n",
    "# plot_hist(df_train_embedding_important_simple, 'Danceability')\n",
    "# plot_hist(df_train_embedding_important_simple, 'Loudness')\n",
    "# plot_hist(df_train_embedding_important_simple, 'Speechiness')\n",
    "\n",
    "# plot_hist(df_train_embedding_important_simple, 'Acousticness')\n",
    "# plot_hist(df_train_embedding_important_simple, 'Instrumentalness')\n",
    "# plot_hist(df_train_embedding_important_simple, 'Valence')\n",
    "\n",
    "# # plot_hist(df_train_embedding_important_simple, 'Likes')\n",
    "# # plot_hist(df_train_embedding_important_simple, 'Stream')\n",
    "# plot_hist(df_train_embedding_important_simple, 'Composer')"
   ]
  },
  {
   "cell_type": "code",
   "execution_count": 32,
   "id": "a1dfef9c",
   "metadata": {},
   "outputs": [
    {
     "name": "stdout",
     "output_type": "stream",
     "text": [
      "Clean Data without NaN: 5576\n",
      "Data with NaN: 11594\n",
      "After merging Clean data with distorted data: 50626\n"
     ]
    }
   ],
   "source": [
    "# we got around 5500 clean data without N/A\n",
    "# it means that it got around 12000 non-clean data\n",
    "\n",
    "df_with_clean_data = df_train_embedding_important_simple.dropna()\n",
    "print(\"Clean Data without NaN:\", len(df_with_clean_data))\n",
    "print(\"Data with NaN:\", len(df_train_embedding_important_simple) - len(df_with_clean_data))\n",
    "\n",
    "# Make the clean data to give strength to the dataset\n",
    "# duplicate 2x to the data training\n",
    "# so it should dominate the dataset\n",
    "\n",
    "df_train_embedding_important_simple_added = pd.concat([\n",
    "    df_train_embedding_important_simple, \n",
    "    df_with_clean_data,\n",
    "    df_with_clean_data,\n",
    "    df_with_clean_data,\n",
    "    df_with_clean_data,\n",
    "    df_with_clean_data,\n",
    "    df_with_clean_data,\n",
    "]).sample(frac=1).reset_index(drop=True)\n",
    "\n",
    "print(\"After merging Clean data with distorted data:\", len(df_train_embedding_important_simple_added))"
   ]
  },
  {
   "cell_type": "code",
   "execution_count": 33,
   "id": "2c64d69d",
   "metadata": {},
   "outputs": [],
   "source": [
    "def conditioning(df):\n",
    "    df_ret = df.copy()\n",
    "    df_ret['Stream'] = np.log(df_ret['Stream'])\n",
    "    df_ret[df_ret['Stream'] == -np.inf] = 0\n",
    "\n",
    "    df_ret['Likes'] = np.log(df_ret['Likes'])\n",
    "    df_ret[df_ret['Likes'] == -np.inf] = 0\n",
    "\n",
    "    df_ret['Instrumentalness'] = np.log(np.abs(df_ret['Instrumentalness']))\n",
    "    df_ret[df_ret['Instrumentalness'] == -np.inf] = 0\n",
    "\n",
    "    df_ret['Loudness'] = np.log(np.abs(df_ret['Loudness']))\n",
    "    df_ret[df_ret['Loudness'] == -np.inf] = 0\n",
    "    \n",
    "    df_ret['Acousticness'] = np.log(np.abs(df_ret['Acousticness']))\n",
    "    df_ret[df_ret['Acousticness'] == -np.inf] = 0\n",
    "    \n",
    "    return df_ret\n",
    "\n",
    "# df_train_embedding_important_simple_added_conditioning = conditioning(df_train_embedding_important_simple_added)\n",
    "# df_test_embedding_important_simple_added_conditioning = conditioning(df_test_embedding_important_simple)\n",
    "\n",
    "df_train_embedding_important_simple_added_conditioning = df_train_embedding_important_simple_added\n",
    "df_test_embedding_important_simple_added_conditioning = df_test_embedding_important_simple"
   ]
  },
  {
   "cell_type": "code",
   "execution_count": 62,
   "id": "0c079c73-fb5f-44fd-81fa-13730db37715",
   "metadata": {
    "tags": []
   },
   "outputs": [],
   "source": [
    "def imputer(df):\n",
    "    df_ret = df.copy()\n",
    "    mean_values =  df['Valence'].mean()\n",
    "    df_ret['Valence'] = df['Valence'].fillna(mean_values)\n",
    "\n",
    "    mean_values = df['Loudness'].mean()\n",
    "    df_ret['Loudness'] = df['Loudness'].fillna(mean_values)\n",
    "    \n",
    "    mean_values = df['Speechiness'].mean()\n",
    "    df_ret['Speechiness'] = df['Speechiness'].fillna(mean_values)\n",
    "    \n",
    "    mean_values = df['Acousticness'].mean()\n",
    "    df_ret['Acousticness'] = df['Acousticness'].fillna(mean_values) #0.000000000001)\n",
    "    \n",
    "    mean_values = df['Instrumentalness'].mean()\n",
    "    df_ret['Instrumentalness'] = df['Instrumentalness'].fillna(mean_values)\n",
    "\n",
    "    df_ret['Composer'] = df['Composer'].fillna(0)\n",
    "\n",
    "    #spotify URL\n",
    "    df_ret['Url_spotify'] = df['Url_spotify'].fillna(0)\n",
    "    \n",
    "\n",
    "    \n",
    "\n",
    "    return df_ret\n",
    "\n",
    "\n",
    "df_train_embedding_important_simple_imputer_before_scaler = imputer(df_train_embedding_important_simple_added_conditioning)    \n",
    "df_test_embedding_important_simple_imputer_before_scaler = imputer(df_test_embedding_important_simple_added_conditioning)    \n"
   ]
  },
  {
   "cell_type": "code",
   "execution_count": 63,
   "id": "7d57e9da",
   "metadata": {},
   "outputs": [],
   "source": [
    "def composite_feature(df):\n",
    "    df_ret = df.copy()\n",
    "    \n",
    "    # Create a new column for the product of two columns\n",
    "    #df_ret['duration_ms_square'] = df_ret['Duration_ms'] ** 2\n",
    "    df_ret['S_URL_Valence'] = df_ret['Url_spotify'] * df_ret['Valence']\n",
    "    df_ret['Speechiness_Valence'] = df_ret['Speechiness'] * df_ret['Valence']\n",
    "    df_ret['Acousticness_Instrumentalness'] = df_ret['Acousticness'] * df_ret['Instrumentalness']\n",
    "    \n",
    "    return df_ret\n",
    "\n",
    "df_train_embedding_important = composite_feature(df_train_embedding_important_simple_imputer_before_scaler)\n",
    "df_test_embedding_important = composite_feature(df_test_embedding_important_simple_imputer_before_scaler)"
   ]
  },
  {
   "cell_type": "code",
   "execution_count": 64,
   "id": "f1a12344",
   "metadata": {},
   "outputs": [],
   "source": [
    "df_train_composite = df_train_embedding_important\n",
    "df_test_composite = df_test_embedding_important\n",
    "\n",
    "#drop URL spotify\n",
    "arr_NOT_important_column = [ 'Url_spotify' ]\n",
    "df_train_embedding_important_simple_composite = remove_unimportant_column(df_train_composite, arr_NOT_important_column)\n",
    "df_test_embedding_important_simple_composite = remove_unimportant_column(df_test_composite, arr_NOT_important_column)"
   ]
  },
  {
   "cell_type": "code",
   "execution_count": 65,
   "id": "0da96ca9",
   "metadata": {},
   "outputs": [],
   "source": [
    "#change sign of loudness\n",
    "#df_train_embedding_important_simple_composite['Loudness'] = df_train_embedding_important_simple_composite['Loudness'] * -1\n",
    "#df_test_embedding_important_simple_composite['Loudness'] = df_test_embedding_important_simple_composite['Loudness'] * -1"
   ]
  },
  {
   "cell_type": "code",
   "execution_count": 66,
   "id": "445b0b62",
   "metadata": {},
   "outputs": [],
   "source": [
    "df_train_embedding_important_simple_imputer_before_scaler = df_train_embedding_important_simple_composite\n",
    "df_test_embedding_important_simple_imputer_before_scaler = df_test_embedding_important_simple_composite"
   ]
  },
  {
   "cell_type": "code",
   "execution_count": 67,
   "id": "1902803f",
   "metadata": {},
   "outputs": [
    {
     "name": "stdout",
     "output_type": "stream",
     "text": [
      "50626\n"
     ]
    }
   ],
   "source": [
    "from sklearn.preprocessing import StandardScaler\n",
    "\n",
    "def scaler(df_train, df_test):\n",
    "    df_train_non_y = df_train.iloc[:, 1:]\n",
    "    df_train_y = df_train.iloc[:, :1]\n",
    "    len_train = len(df_train_non_y)\n",
    "    print(len_train)\n",
    "    df_concatenated = pd.concat([\n",
    "        df_train_non_y, df_test\n",
    "    ]).reset_index(drop=True)\n",
    "    scaler = StandardScaler()\n",
    "    X_scaled = scaler.fit_transform(df_concatenated)\n",
    "    df_train_scaled_non_y = pd.DataFrame(X_scaled[:len_train,:], columns=df_concatenated.columns)\n",
    "    df_train_scaled_with_y = pd.concat([df_train_y, df_train_scaled_non_y], axis=1)\n",
    "    df_test_scaled = pd.DataFrame(X_scaled[len_train:,:], columns=df_concatenated.columns)\n",
    "    return df_train_scaled_with_y, df_test_scaled\n",
    "    \n",
    "df_train_embedding_important_simple_imputer, df_test_embedding_important_simple_imputer = scaler(df_train_embedding_important_simple_imputer_before_scaler, df_test_embedding_important_simple_imputer_before_scaler)"
   ]
  },
  {
   "cell_type": "code",
   "execution_count": 68,
   "id": "3db12693",
   "metadata": {},
   "outputs": [],
   "source": [
    "# drop Composer \n",
    "arr_NOT_important_column = [ 'Composer' ]\n",
    "df_train_embedding_important_simple_imputer = remove_unimportant_column(df_train_embedding_important_simple_imputer, arr_NOT_important_column)\n",
    "df_test_embedding_important_simple_imputer = remove_unimportant_column(df_test_embedding_important_simple_imputer, arr_NOT_important_column)\n",
    "\n",
    "#before scaler too\n",
    "df_train_embedding_important_simple_imputer_before_scaler = remove_unimportant_column(df_train_embedding_important_simple_imputer_before_scaler, arr_NOT_important_column)\n",
    "df_test_embedding_important_simple_imputer_before_scaler = remove_unimportant_column(df_test_embedding_important_simple_imputer_before_scaler, arr_NOT_important_column)"
   ]
  },
  {
   "cell_type": "code",
   "execution_count": 69,
   "id": "d45c6b04",
   "metadata": {},
   "outputs": [
    {
     "data": {
      "image/png": "[encoded data removed]",
      "text/plain": [
       "<Figure size 800x600 with 2 Axes>"
      ]
     },
     "metadata": {},
     "output_type": "display_data"
    },
    {
     "data": {
      "image/png": "[encoded data removed]",
      "text/plain": [
       "<Figure size 800x600 with 2 Axes>"
      ]
     },
     "metadata": {},
     "output_type": "display_data"
    }
   ],
   "source": [
    "corr_matrix_with_threshold(df_train_embedding_important_simple_imputer_before_scaler, 0.01, 'Before normalization')\n",
    "corr_matrix_with_threshold(df_train_embedding_important_simple_imputer, 0.01, 'After normalization')"
   ]
  },
  {
   "cell_type": "code",
   "execution_count": 70,
   "id": "0466adee",
   "metadata": {},
   "outputs": [],
   "source": [
    "from sklearn.model_selection import train_test_split\n",
    "# train_features, val_features, train_labels, val_labels = train_test_split(df_train_embedding_important_simple_imputer.iloc[:, 1:], df_train_embedding_important_simple_imputer.iloc[:, :1], test_size = 0.20, random_state = 42)\n",
    "\n",
    "train_features, val_features, train_labels, val_labels = train_test_split(df_train_embedding_important_simple_imputer.iloc[:, 1:], df_train_embedding_important_simple_imputer.iloc[:, :1], test_size = 0.20, random_state = 42)"
   ]
  },
  {
   "cell_type": "code",
   "execution_count": 71,
   "id": "3c982768",
   "metadata": {},
   "outputs": [
    {
     "data": {
      "text/html": [
       "<div>\n",
       "<style scoped>\n",
       "    .dataframe tbody tr th:only-of-type {\n",
       "        vertical-align: middle;\n",
       "    }\n",
       "\n",
       "    .dataframe tbody tr th {\n",
       "        vertical-align: top;\n",
       "    }\n",
       "\n",
       "    .dataframe thead th {\n",
       "        text-align: right;\n",
       "    }\n",
       "</style>\n",
       "<table border=\"1\" class=\"dataframe\">\n",
       "  <thead>\n",
       "    <tr style=\"text-align: right;\">\n",
       "      <th></th>\n",
       "      <th>Loudness</th>\n",
       "      <th>Speechiness</th>\n",
       "      <th>Acousticness</th>\n",
       "      <th>Instrumentalness</th>\n",
       "      <th>Valence</th>\n",
       "      <th>S_URL_Valence</th>\n",
       "      <th>Speechiness_Valence</th>\n",
       "      <th>Acousticness_Instrumentalness</th>\n",
       "    </tr>\n",
       "  </thead>\n",
       "  <tbody>\n",
       "    <tr>\n",
       "      <th>6463</th>\n",
       "      <td>0.021456</td>\n",
       "      <td>2.701242</td>\n",
       "      <td>-0.547527</td>\n",
       "      <td>-0.323586</td>\n",
       "      <td>0.227924</td>\n",
       "      <td>0.910979</td>\n",
       "      <td>2.609129</td>\n",
       "      <td>-0.195070</td>\n",
       "    </tr>\n",
       "    <tr>\n",
       "      <th>19662</th>\n",
       "      <td>0.986396</td>\n",
       "      <td>0.186147</td>\n",
       "      <td>-0.547819</td>\n",
       "      <td>-0.323501</td>\n",
       "      <td>-0.614266</td>\n",
       "      <td>-0.905999</td>\n",
       "      <td>-0.135905</td>\n",
       "      <td>-0.195070</td>\n",
       "    </tr>\n",
       "    <tr>\n",
       "      <th>20686</th>\n",
       "      <td>0.297052</td>\n",
       "      <td>-0.161943</td>\n",
       "      <td>-0.517629</td>\n",
       "      <td>-0.314682</td>\n",
       "      <td>0.058639</td>\n",
       "      <td>1.224625</td>\n",
       "      <td>-0.142254</td>\n",
       "      <td>-0.194979</td>\n",
       "    </tr>\n",
       "    <tr>\n",
       "      <th>14861</th>\n",
       "      <td>0.507398</td>\n",
       "      <td>-0.388301</td>\n",
       "      <td>-0.547815</td>\n",
       "      <td>-0.323586</td>\n",
       "      <td>1.087042</td>\n",
       "      <td>-0.895953</td>\n",
       "      <td>-0.112745</td>\n",
       "      <td>-0.195070</td>\n",
       "    </tr>\n",
       "    <tr>\n",
       "      <th>20663</th>\n",
       "      <td>1.015100</td>\n",
       "      <td>-0.362144</td>\n",
       "      <td>-0.547810</td>\n",
       "      <td>-0.323577</td>\n",
       "      <td>-1.295636</td>\n",
       "      <td>-0.267297</td>\n",
       "      <td>-0.631875</td>\n",
       "      <td>-0.195070</td>\n",
       "    </tr>\n",
       "    <tr>\n",
       "      <th>...</th>\n",
       "      <td>...</td>\n",
       "      <td>...</td>\n",
       "      <td>...</td>\n",
       "      <td>...</td>\n",
       "      <td>...</td>\n",
       "      <td>...</td>\n",
       "      <td>...</td>\n",
       "      <td>...</td>\n",
       "    </tr>\n",
       "    <tr>\n",
       "      <th>11284</th>\n",
       "      <td>0.590595</td>\n",
       "      <td>-0.217275</td>\n",
       "      <td>-0.547618</td>\n",
       "      <td>-0.323586</td>\n",
       "      <td>-0.542320</td>\n",
       "      <td>0.383595</td>\n",
       "      <td>-0.363860</td>\n",
       "      <td>-0.195070</td>\n",
       "    </tr>\n",
       "    <tr>\n",
       "      <th>44732</th>\n",
       "      <td>0.486767</td>\n",
       "      <td>1.715325</td>\n",
       "      <td>-0.544792</td>\n",
       "      <td>-0.323586</td>\n",
       "      <td>0.909293</td>\n",
       "      <td>-0.806019</td>\n",
       "      <td>2.386077</td>\n",
       "      <td>-0.195070</td>\n",
       "    </tr>\n",
       "    <tr>\n",
       "      <th>38158</th>\n",
       "      <td>0.134247</td>\n",
       "      <td>-0.059327</td>\n",
       "      <td>-0.547833</td>\n",
       "      <td>-0.323301</td>\n",
       "      <td>0.871204</td>\n",
       "      <td>0.273411</td>\n",
       "      <td>0.231481</td>\n",
       "      <td>-0.195070</td>\n",
       "    </tr>\n",
       "    <tr>\n",
       "      <th>860</th>\n",
       "      <td>-0.514284</td>\n",
       "      <td>-0.421500</td>\n",
       "      <td>-0.437497</td>\n",
       "      <td>-0.323586</td>\n",
       "      <td>-1.240619</td>\n",
       "      <td>-0.855339</td>\n",
       "      <td>-0.641304</td>\n",
       "      <td>-0.195070</td>\n",
       "    </tr>\n",
       "    <tr>\n",
       "      <th>15795</th>\n",
       "      <td>-1.754161</td>\n",
       "      <td>-0.107616</td>\n",
       "      <td>-0.495919</td>\n",
       "      <td>4.310360</td>\n",
       "      <td>-1.769632</td>\n",
       "      <td>-1.037626</td>\n",
       "      <td>-0.698805</td>\n",
       "      <td>-0.113147</td>\n",
       "    </tr>\n",
       "  </tbody>\n",
       "</table>\n",
       "<p>40500 rows × 8 columns</p>\n",
       "</div>"
      ],
      "text/plain": [
       "       Loudness  Speechiness  Acousticness  Instrumentalness   Valence  \\\n",
       "6463   0.021456     2.701242     -0.547527         -0.323586  0.227924   \n",
       "19662  0.986396     0.186147     -0.547819         -0.323501 -0.614266   \n",
       "20686  0.297052    -0.161943     -0.517629         -0.314682  0.058639   \n",
       "14861  0.507398    -0.388301     -0.547815         -0.323586  1.087042   \n",
       "20663  1.015100    -0.362144     -0.547810         -0.323577 -1.295636   \n",
       "...         ...          ...           ...               ...       ...   \n",
       "11284  0.590595    -0.217275     -0.547618         -0.323586 -0.542320   \n",
       "44732  0.486767     1.715325     -0.544792         -0.323586  0.909293   \n",
       "38158  0.134247    -0.059327     -0.547833         -0.323301  0.871204   \n",
       "860   -0.514284    -0.421500     -0.437497         -0.323586 -1.240619   \n",
       "15795 -1.754161    -0.107616     -0.495919          4.310360 -1.769632   \n",
       "\n",
       "       S_URL_Valence  Speechiness_Valence  Acousticness_Instrumentalness  \n",
       "6463        0.910979             2.609129                      -0.195070  \n",
       "19662      -0.905999            -0.135905                      -0.195070  \n",
       "20686       1.224625            -0.142254                      -0.194979  \n",
       "14861      -0.895953            -0.112745                      -0.195070  \n",
       "20663      -0.267297            -0.631875                      -0.195070  \n",
       "...              ...                  ...                            ...  \n",
       "11284       0.383595            -0.363860                      -0.195070  \n",
       "44732      -0.806019             2.386077                      -0.195070  \n",
       "38158       0.273411             0.231481                      -0.195070  \n",
       "860        -0.855339            -0.641304                      -0.195070  \n",
       "15795      -1.037626            -0.698805                      -0.113147  \n",
       "\n",
       "[40500 rows x 8 columns]"
      ]
     },
     "execution_count": 71,
     "metadata": {},
     "output_type": "execute_result"
    }
   ],
   "source": [
    "train_features"
   ]
  },
  {
   "cell_type": "code",
   "execution_count": 72,
   "id": "308cb2b3",
   "metadata": {},
   "outputs": [
    {
     "data": {
      "text/html": [
       "<div>\n",
       "<style scoped>\n",
       "    .dataframe tbody tr th:only-of-type {\n",
       "        vertical-align: middle;\n",
       "    }\n",
       "\n",
       "    .dataframe tbody tr th {\n",
       "        vertical-align: top;\n",
       "    }\n",
       "\n",
       "    .dataframe thead th {\n",
       "        text-align: right;\n",
       "    }\n",
       "</style>\n",
       "<table border=\"1\" class=\"dataframe\">\n",
       "  <thead>\n",
       "    <tr style=\"text-align: right;\">\n",
       "      <th></th>\n",
       "      <th>Loudness</th>\n",
       "      <th>Speechiness</th>\n",
       "      <th>Acousticness</th>\n",
       "      <th>Instrumentalness</th>\n",
       "      <th>Valence</th>\n",
       "      <th>S_URL_Valence</th>\n",
       "      <th>Speechiness_Valence</th>\n",
       "      <th>Acousticness_Instrumentalness</th>\n",
       "    </tr>\n",
       "  </thead>\n",
       "  <tbody>\n",
       "    <tr>\n",
       "      <th>5026</th>\n",
       "      <td>1.151444</td>\n",
       "      <td>1.383332</td>\n",
       "      <td>-0.547834</td>\n",
       "      <td>2.123554</td>\n",
       "      <td>1.611823</td>\n",
       "      <td>0.329868</td>\n",
       "      <td>2.623412</td>\n",
       "      <td>-0.195070</td>\n",
       "    </tr>\n",
       "    <tr>\n",
       "      <th>46777</th>\n",
       "      <td>-1.119310</td>\n",
       "      <td>-0.358120</td>\n",
       "      <td>-0.518588</td>\n",
       "      <td>-0.322258</td>\n",
       "      <td>-1.067102</td>\n",
       "      <td>0.040924</td>\n",
       "      <td>-0.577108</td>\n",
       "      <td>-0.195057</td>\n",
       "    </tr>\n",
       "    <tr>\n",
       "      <th>16380</th>\n",
       "      <td>0.399983</td>\n",
       "      <td>-0.369186</td>\n",
       "      <td>-0.284247</td>\n",
       "      <td>-0.323586</td>\n",
       "      <td>0.435297</td>\n",
       "      <td>0.290166</td>\n",
       "      <td>-0.237713</td>\n",
       "      <td>-0.195070</td>\n",
       "    </tr>\n",
       "    <tr>\n",
       "      <th>17016</th>\n",
       "      <td>-0.447682</td>\n",
       "      <td>-0.657919</td>\n",
       "      <td>2.189821</td>\n",
       "      <td>4.726895</td>\n",
       "      <td>0.553796</td>\n",
       "      <td>-1.100816</td>\n",
       "      <td>-0.519183</td>\n",
       "      <td>4.513439</td>\n",
       "    </tr>\n",
       "    <tr>\n",
       "      <th>38825</th>\n",
       "      <td>0.732321</td>\n",
       "      <td>-0.305806</td>\n",
       "      <td>-0.530298</td>\n",
       "      <td>-0.323586</td>\n",
       "      <td>0.371815</td>\n",
       "      <td>1.005794</td>\n",
       "      <td>-0.188981</td>\n",
       "      <td>-0.195070</td>\n",
       "    </tr>\n",
       "    <tr>\n",
       "      <th>...</th>\n",
       "      <td>...</td>\n",
       "      <td>...</td>\n",
       "      <td>...</td>\n",
       "      <td>...</td>\n",
       "      <td>...</td>\n",
       "      <td>...</td>\n",
       "      <td>...</td>\n",
       "      <td>...</td>\n",
       "    </tr>\n",
       "    <tr>\n",
       "      <th>39413</th>\n",
       "      <td>0.372176</td>\n",
       "      <td>3.767643</td>\n",
       "      <td>-0.542932</td>\n",
       "      <td>-0.323586</td>\n",
       "      <td>0.769634</td>\n",
       "      <td>0.538141</td>\n",
       "      <td>4.606599</td>\n",
       "      <td>-0.195070</td>\n",
       "    </tr>\n",
       "    <tr>\n",
       "      <th>37473</th>\n",
       "      <td>0.021456</td>\n",
       "      <td>0.125784</td>\n",
       "      <td>-0.535429</td>\n",
       "      <td>-0.033939</td>\n",
       "      <td>-0.927442</td>\n",
       "      <td>0.058939</td>\n",
       "      <td>-0.304925</td>\n",
       "      <td>-0.193847</td>\n",
       "    </tr>\n",
       "    <tr>\n",
       "      <th>49215</th>\n",
       "      <td>-7.232361</td>\n",
       "      <td>-0.638805</td>\n",
       "      <td>3.920336</td>\n",
       "      <td>4.398874</td>\n",
       "      <td>-1.164441</td>\n",
       "      <td>-0.501451</td>\n",
       "      <td>-0.713029</td>\n",
       "      <td>6.990644</td>\n",
       "    </tr>\n",
       "    <tr>\n",
       "      <th>19291</th>\n",
       "      <td>0.021456</td>\n",
       "      <td>2.982933</td>\n",
       "      <td>-0.483180</td>\n",
       "      <td>-0.323586</td>\n",
       "      <td>-0.555017</td>\n",
       "      <td>-1.196540</td>\n",
       "      <td>1.678592</td>\n",
       "      <td>-0.195070</td>\n",
       "    </tr>\n",
       "    <tr>\n",
       "      <th>8932</th>\n",
       "      <td>0.403346</td>\n",
       "      <td>0.226388</td>\n",
       "      <td>-0.547834</td>\n",
       "      <td>-0.315255</td>\n",
       "      <td>-0.097949</td>\n",
       "      <td>-0.889973</td>\n",
       "      <td>0.126334</td>\n",
       "      <td>-0.195070</td>\n",
       "    </tr>\n",
       "  </tbody>\n",
       "</table>\n",
       "<p>10126 rows × 8 columns</p>\n",
       "</div>"
      ],
      "text/plain": [
       "       Loudness  Speechiness  Acousticness  Instrumentalness   Valence  \\\n",
       "5026   1.151444     1.383332     -0.547834          2.123554  1.611823   \n",
       "46777 -1.119310    -0.358120     -0.518588         -0.322258 -1.067102   \n",
       "16380  0.399983    -0.369186     -0.284247         -0.323586  0.435297   \n",
       "17016 -0.447682    -0.657919      2.189821          4.726895  0.553796   \n",
       "38825  0.732321    -0.305806     -0.530298         -0.323586  0.371815   \n",
       "...         ...          ...           ...               ...       ...   \n",
       "39413  0.372176     3.767643     -0.542932         -0.323586  0.769634   \n",
       "37473  0.021456     0.125784     -0.535429         -0.033939 -0.927442   \n",
       "49215 -7.232361    -0.638805      3.920336          4.398874 -1.164441   \n",
       "19291  0.021456     2.982933     -0.483180         -0.323586 -0.555017   \n",
       "8932   0.403346     0.226388     -0.547834         -0.315255 -0.097949   \n",
       "\n",
       "       S_URL_Valence  Speechiness_Valence  Acousticness_Instrumentalness  \n",
       "5026        0.329868             2.623412                      -0.195070  \n",
       "46777       0.040924            -0.577108                      -0.195057  \n",
       "16380       0.290166            -0.237713                      -0.195070  \n",
       "17016      -1.100816            -0.519183                       4.513439  \n",
       "38825       1.005794            -0.188981                      -0.195070  \n",
       "...              ...                  ...                            ...  \n",
       "39413       0.538141             4.606599                      -0.195070  \n",
       "37473       0.058939            -0.304925                      -0.193847  \n",
       "49215      -0.501451            -0.713029                       6.990644  \n",
       "19291      -1.196540             1.678592                      -0.195070  \n",
       "8932       -0.889973             0.126334                      -0.195070  \n",
       "\n",
       "[10126 rows x 8 columns]"
      ]
     },
     "execution_count": 72,
     "metadata": {},
     "output_type": "execute_result"
    }
   ],
   "source": [
    "val_features"
   ]
  },
  {
   "cell_type": "markdown",
   "id": "80c6def9-0cf6-411b-b256-01d79bd8ebd6",
   "metadata": {},
   "source": [
    "# All Data"
   ]
  },
  {
   "cell_type": "markdown",
   "id": "6750e338",
   "metadata": {},
   "source": [
    "# Try Sofi's Ensemble  (Cascade Level 1)\n",
    "## Main Feature: Loudness, Speechiness, Acousticness, Instrumentalness, Valence, Composer"
   ]
  },
  {
   "cell_type": "code",
   "execution_count": 73,
   "id": "701236fa",
   "metadata": {},
   "outputs": [],
   "source": [
    "class LGBWrapper:\n",
    "    def __init__(self, params=None, num_boost_round=10):\n",
    "        self.params = params\n",
    "        self.num_boost_round = num_boost_round\n",
    "        self.model = None\n",
    "\n",
    "    def fit(self, X, y):\n",
    "        lgb_train = lgb.Dataset(X, y, free_raw_data=False)\n",
    "        self.model = lgb.train(self.params, lgb_train, num_boost_round=self.num_boost_round)\n",
    "\n",
    "    def predict(self, X):\n",
    "        return self.model.predict(X)\n"
   ]
  },
  {
   "cell_type": "code",
   "execution_count": 74,
   "id": "f71dbc72",
   "metadata": {},
   "outputs": [],
   "source": [
    "# Prepare LightGBM parameters\n",
    "params = {\n",
    "    'boosting_type': 'gbdt',\n",
    "    'objective': 'regression',\n",
    "    'metric': 'mae',\n",
    "    'learning_rate': 0.05,\n",
    "    'num_leaves': 31,\n",
    "    'verbose': -1\n",
    "}\n",
    "\n",
    "# For XGBRegressor parameters\n",
    "default_params = {\n",
    "    'objective': 'reg:squarederror',\n",
    "    'booster': 'gbtree',\n",
    "    'n_estimators': 100,\n",
    "    'learning_rate': 0.1,\n",
    "    'max_depth': 3,\n",
    "    'min_child_weight': 1,\n",
    "    'subsample': 1,\n",
    "    'colsample_bytree': 1,\n",
    "    'gamma': 0,\n",
    "    'reg_alpha': 0,\n",
    "    'reg_lambda': 1,\n",
    "    'random_state': 0,\n",
    "    'n_jobs': -1\n",
    "}\n"
   ]
  },
  {
   "cell_type": "code",
   "execution_count": 90,
   "id": "1b9abae3",
   "metadata": {},
   "outputs": [
    {
     "name": "stdout",
     "output_type": "stream",
     "text": [
      "Processing Regressor: DecisionTreeClassifier\n",
      "Processing Regressor: ExtraTreesClassifier\n",
      "Processing Regressor: RandomForestRegressor\n",
      "Processing Regressor: RandomForestRegressor\n"
     ]
    },
    {
     "data": {
      "text/html": [
       "<div>\n",
       "<style scoped>\n",
       "    .dataframe tbody tr th:only-of-type {\n",
       "        vertical-align: middle;\n",
       "    }\n",
       "\n",
       "    .dataframe tbody tr th {\n",
       "        vertical-align: top;\n",
       "    }\n",
       "\n",
       "    .dataframe thead th {\n",
       "        text-align: right;\n",
       "    }\n",
       "</style>\n",
       "<table border=\"1\" class=\"dataframe\">\n",
       "  <thead>\n",
       "    <tr style=\"text-align: right;\">\n",
       "      <th></th>\n",
       "      <th>mae</th>\n",
       "      <th>accuracy</th>\n",
       "    </tr>\n",
       "    <tr>\n",
       "      <th>regressors</th>\n",
       "      <th></th>\n",
       "      <th></th>\n",
       "    </tr>\n",
       "  </thead>\n",
       "  <tbody>\n",
       "    <tr>\n",
       "      <th>DecisionTreeClassifier</th>\n",
       "      <td>0.599052</td>\n",
       "      <td>0.811080</td>\n",
       "    </tr>\n",
       "    <tr>\n",
       "      <th>ExtraTreesClassifier</th>\n",
       "      <td>0.554019</td>\n",
       "      <td>0.816117</td>\n",
       "    </tr>\n",
       "    <tr>\n",
       "      <th>RandomForestRegressor</th>\n",
       "      <td>0.453782</td>\n",
       "      <td>0.803772</td>\n",
       "    </tr>\n",
       "    <tr>\n",
       "      <th>RandomForestRegressor</th>\n",
       "      <td>0.454967</td>\n",
       "      <td>0.802982</td>\n",
       "    </tr>\n",
       "  </tbody>\n",
       "</table>\n",
       "</div>"
      ],
      "text/plain": [
       "                             mae  accuracy\n",
       "regressors                                \n",
       "DecisionTreeClassifier  0.599052  0.811080\n",
       "ExtraTreesClassifier    0.554019  0.816117\n",
       "RandomForestRegressor   0.453782  0.803772\n",
       "RandomForestRegressor   0.454967  0.802982"
      ]
     },
     "execution_count": 90,
     "metadata": {},
     "output_type": "execute_result"
    }
   ],
   "source": [
    "from sklearn.ensemble import VotingRegressor\n",
    "from sklearn.ensemble import RandomForestRegressor\n",
    "from xgboost import XGBRegressor\n",
    "from sklearn.ensemble import AdaBoostClassifier\n",
    "from sklearn.multiclass import OneVsOneClassifier\n",
    "import lightgbm as lgb\n",
    "from sklearn.metrics import mean_absolute_error\n",
    "from sklearn.metrics import accuracy_score\n",
    "from sklearn.preprocessing import MinMaxScaler\n",
    "from sklearn.model_selection import train_test_split\n",
    "from sklearn.preprocessing import StandardScaler\n",
    "from sklearn.pipeline import make_pipeline\n",
    "from sklearn.datasets import make_moons, make_circles, make_classification\n",
    "from sklearn.neural_network import MLPClassifier\n",
    "from sklearn.neighbors import KNeighborsClassifier\n",
    "from sklearn.svm import SVC\n",
    "from sklearn.gaussian_process import GaussianProcessClassifier\n",
    "from sklearn.gaussian_process.kernels import RBF\n",
    "from sklearn.tree import DecisionTreeClassifier\n",
    "from sklearn.ensemble import RandomForestClassifier, AdaBoostClassifier, ExtraTreesClassifier\n",
    "from sklearn.naive_bayes import GaussianNB\n",
    "from sklearn.discriminant_analysis import QuadraticDiscriminantAnalysis\n",
    "#from sklearn.inspection import DecisionBoundaryDisplay\n",
    "\n",
    "\n",
    "import pickle\n",
    "# scaler = MinMaxScaler(feature_range=(0, 9))\n",
    "# Instantiate the classfiers and make a list\n",
    "regressors = [\n",
    "    DecisionTreeClassifier(max_depth=None),\n",
    "    ExtraTreesClassifier(),\n",
    "#     LGBWrapper(params, num_boost_round=200),\n",
    "    RandomForestRegressor(n_estimators=1000, random_state=42),\n",
    "    RandomForestRegressor(n_estimators=2000, random_state=42),\n",
    "    #XGBRegressor(**default_params),\n",
    "    #OneVsOneClassifier(AdaBoostClassifier(random_state=42), n_jobs=6),\n",
    "]\n",
    "# Define a result table as a DataFrame\n",
    "result_table = pd.DataFrame(columns=['regressors', 'mae', 'accuracy'])\n",
    "\n",
    "# Train and evaluate each classifier\n",
    "for reg in regressors:\n",
    "    print(\"Processing Regressor:\", reg.__class__.__name__)\n",
    "    reg.fit(train_features, np.ravel(train_labels))\n",
    "    pred = reg.predict(val_features)\n",
    "    accuracy = accuracy_score(np.ravel(val_labels), np.rint(pred))\n",
    "    mae = mean_absolute_error(np.ravel(val_labels), np.rint(pred))\n",
    "    pd_tmp = pd.DataFrame({'regressors':[reg.__class__.__name__], 'mae': [mae], 'accuracy': [accuracy]})\n",
    "    result_table = pd.concat([result_table, pd_tmp])\n",
    "\n",
    "result_table.set_index('regressors', inplace=True)\n",
    "result_table.sort_values(by=['mae'], ascending=True)\n",
    "\n",
    "result_table\n"
   ]
  },
  {
   "cell_type": "code",
   "execution_count": 91,
   "id": "e23f2d20",
   "metadata": {},
   "outputs": [
    {
     "data": {
      "text/html": [
       "<div>\n",
       "<style scoped>\n",
       "    .dataframe tbody tr th:only-of-type {\n",
       "        vertical-align: middle;\n",
       "    }\n",
       "\n",
       "    .dataframe tbody tr th {\n",
       "        vertical-align: top;\n",
       "    }\n",
       "\n",
       "    .dataframe thead th {\n",
       "        text-align: right;\n",
       "    }\n",
       "</style>\n",
       "<table border=\"1\" class=\"dataframe\">\n",
       "  <thead>\n",
       "    <tr style=\"text-align: right;\">\n",
       "      <th></th>\n",
       "      <th>mae</th>\n",
       "      <th>accuracy</th>\n",
       "    </tr>\n",
       "    <tr>\n",
       "      <th>regressors</th>\n",
       "      <th></th>\n",
       "      <th></th>\n",
       "    </tr>\n",
       "  </thead>\n",
       "  <tbody>\n",
       "    <tr>\n",
       "      <th>DecisionTreeClassifier</th>\n",
       "      <td>0.599052</td>\n",
       "      <td>0.811080</td>\n",
       "    </tr>\n",
       "    <tr>\n",
       "      <th>ExtraTreesClassifier</th>\n",
       "      <td>0.554019</td>\n",
       "      <td>0.816117</td>\n",
       "    </tr>\n",
       "    <tr>\n",
       "      <th>RandomForestRegressor</th>\n",
       "      <td>0.453782</td>\n",
       "      <td>0.803772</td>\n",
       "    </tr>\n",
       "    <tr>\n",
       "      <th>RandomForestRegressor</th>\n",
       "      <td>0.454967</td>\n",
       "      <td>0.802982</td>\n",
       "    </tr>\n",
       "  </tbody>\n",
       "</table>\n",
       "</div>"
      ],
      "text/plain": [
       "                             mae  accuracy\n",
       "regressors                                \n",
       "DecisionTreeClassifier  0.599052  0.811080\n",
       "ExtraTreesClassifier    0.554019  0.816117\n",
       "RandomForestRegressor   0.453782  0.803772\n",
       "RandomForestRegressor   0.454967  0.802982"
      ]
     },
     "execution_count": 91,
     "metadata": {},
     "output_type": "execute_result"
    }
   ],
   "source": [
    "result_table\n"
   ]
  },
  {
   "cell_type": "code",
   "execution_count": 93,
   "id": "9eb05b17",
   "metadata": {},
   "outputs": [
    {
     "name": "stdout",
     "output_type": "stream",
     "text": [
      "Mean Accuracy 0.8084880505629074\n"
     ]
    }
   ],
   "source": [
    "print(\"Mean Accuracy\", np.mean(result_table['accuracy']))"
   ]
  },
  {
   "cell_type": "code",
   "execution_count": 95,
   "id": "293866e3",
   "metadata": {},
   "outputs": [
    {
     "name": "stdout",
     "output_type": "stream",
     "text": [
      "Processing Regressor: DecisionTreeClassifier\n",
      "Processing Regressor: ExtraTreesClassifier\n",
      "Processing Regressor: RandomForestRegressor\n",
      "Processing Regressor: RandomForestRegressor\n"
     ]
    }
   ],
   "source": [
    "# train on the full training set\n",
    "for reg in regressors:\n",
    "    print(\"Processing Regressor:\", reg.__class__.__name__)\n",
    "    reg.fit(\n",
    "        df_train_embedding_important_simple_imputer.iloc[:, 1:],                # Full X data\n",
    "        np.ravel(df_train_embedding_important_simple_imputer.iloc[:, :1])       # Full Y label\n",
    "    )"
   ]
  },
  {
   "cell_type": "code",
   "execution_count": 98,
   "id": "d375a33a",
   "metadata": {},
   "outputs": [],
   "source": [
    "def ensemble_predict(regressors, X):\n",
    "    # Initialize an empty array of predictions\n",
    "    predictions = np.zeros((X.shape[0], len(regressors)))\n",
    "\n",
    "    # Generate predictions for each regressor\n",
    "    for i, reg in enumerate(regressors):\n",
    "        predictions[:, i] = reg.predict(X)\n",
    "\n",
    "    # Average the predictions\n",
    "    avg_predictions = predictions.mean(axis=1)\n",
    "\n",
    "    return avg_predictions, predictions\n",
    "\n",
    "# Make ensemble predictions\n",
    "ensemble_predictions_l1, all_predictions = ensemble_predict(regressors, df_test_embedding_important_simple_imputer)\n"
   ]
  },
  {
   "cell_type": "code",
   "execution_count": 99,
   "id": "1bce52da",
   "metadata": {},
   "outputs": [],
   "source": [
    "import datetime\n",
    "\n",
    "current_datetime = datetime.datetime.now()\n",
    "datetime_string = current_datetime.strftime(\"%Y%m%d_%H%M\")\n",
    "\n",
    "predictionsTest = ensemble_predictions_l1\n",
    "preds = np.rint(predictionsTest)\n",
    "preds = preds.astype(int)\n",
    "preds = pd.DataFrame(preds, columns=['Danceability'])\n",
    "preds['id'] = preds.index + 17170\n",
    "preds = preds[['id', 'Danceability']]\n",
    "preds.to_csv('Combined_features_' + datetime_string + '.csv', index=False)"
   ]
  },
  {
   "cell_type": "code",
   "execution_count": 100,
   "id": "5a25bd88",
   "metadata": {},
   "outputs": [
    {
     "data": {
      "text/plain": [
       "array([7., 5., 5., ..., 2., 5., 6.])"
      ]
     },
     "execution_count": 100,
     "metadata": {},
     "output_type": "execute_result"
    }
   ],
   "source": [
    "np.rint(predictionsTest)"
   ]
  },
  {
   "cell_type": "markdown",
   "id": "d08e3737",
   "metadata": {},
   "source": [
    "# Start Cascade Level 1.5\n",
    "## => Do \"reinforcement\" using last 7 submission (with high MAE)"
   ]
  },
  {
   "cell_type": "code",
   "execution_count": null,
   "id": "7571e04d-ef23-4192-a6f3-3d363dc48c4c",
   "metadata": {},
   "outputs": [],
   "source": [
    "df_hasil = pd.DataFrame()\n",
    "\n",
    "tmp = pd.read_csv('old1.csv')\n",
    "tmp = tmp.drop('id', axis=1)\n",
    "df_hasil = pd.concat([df_hasil, tmp], axis=1)\n",
    "df_hasil = pd.concat([df_hasil, tmp], axis=1)\n",
    "df_hasil = pd.concat([df_hasil, tmp], axis=1)\n",
    "df_hasil = pd.concat([df_hasil, tmp], axis=1)\n"
   ]
  },
  {
   "cell_type": "code",
   "execution_count": null,
   "id": "23ad9329",
   "metadata": {},
   "outputs": [],
   "source": [
    "\n",
    "for t in range(2,8):\n",
    "    tmp = pd.read_csv('old'+ str(t) +'.csv')\n",
    "    tmp = tmp.drop('id', axis=1)\n",
    "    df_hasil = pd.concat([df_hasil, tmp], axis=1)\n",
    "\n",
    "# print(df_hasil)\n",
    "label_test = df_hasil.mean(axis=1)\n",
    "\n",
    "tmp_danceability = pd.DataFrame(np.rint(label_test), columns=['Danceability'])\n",
    "concat_cheat = pd.concat([tmp_danceability, df_test_embedding_important_simple_imputer ], axis=1)\n",
    "\n"
   ]
  },
  {
   "cell_type": "code",
   "execution_count": null,
   "id": "59e99eca",
   "metadata": {},
   "outputs": [
    {
     "data": {
      "text/html": [
       "<div>\n",
       "<style scoped>\n",
       "    .dataframe tbody tr th:only-of-type {\n",
       "        vertical-align: middle;\n",
       "    }\n",
       "\n",
       "    .dataframe tbody tr th {\n",
       "        vertical-align: top;\n",
       "    }\n",
       "\n",
       "    .dataframe thead th {\n",
       "        text-align: right;\n",
       "    }\n",
       "</style>\n",
       "<table border=\"1\" class=\"dataframe\">\n",
       "  <thead>\n",
       "    <tr style=\"text-align: right;\">\n",
       "      <th></th>\n",
       "      <th>Danceability</th>\n",
       "      <th>Loudness</th>\n",
       "      <th>Speechiness</th>\n",
       "      <th>Acousticness</th>\n",
       "      <th>Instrumentalness</th>\n",
       "      <th>Valence</th>\n",
       "      <th>Composer</th>\n",
       "    </tr>\n",
       "  </thead>\n",
       "  <tbody>\n",
       "    <tr>\n",
       "      <th>0</th>\n",
       "      <td>2.0</td>\n",
       "      <td>-1.430562</td>\n",
       "      <td>4.099304</td>\n",
       "      <td>-0.014376</td>\n",
       "      <td>-0.322026</td>\n",
       "      <td>-1.321465</td>\n",
       "      <td>1.156312</td>\n",
       "    </tr>\n",
       "    <tr>\n",
       "      <th>1</th>\n",
       "      <td>8.0</td>\n",
       "      <td>-0.237712</td>\n",
       "      <td>1.963186</td>\n",
       "      <td>-0.518589</td>\n",
       "      <td>-0.322073</td>\n",
       "      <td>-0.589824</td>\n",
       "      <td>-1.120826</td>\n",
       "    </tr>\n",
       "    <tr>\n",
       "      <th>2</th>\n",
       "      <td>7.0</td>\n",
       "      <td>0.544698</td>\n",
       "      <td>-0.542722</td>\n",
       "      <td>-0.545875</td>\n",
       "      <td>-0.322073</td>\n",
       "      <td>-0.631873</td>\n",
       "      <td>0.776789</td>\n",
       "    </tr>\n",
       "    <tr>\n",
       "      <th>3</th>\n",
       "      <td>7.0</td>\n",
       "      <td>-0.326734</td>\n",
       "      <td>0.139425</td>\n",
       "      <td>-0.545875</td>\n",
       "      <td>1.199160</td>\n",
       "      <td>-0.514137</td>\n",
       "      <td>-1.120826</td>\n",
       "    </tr>\n",
       "    <tr>\n",
       "      <th>4</th>\n",
       "      <td>5.0</td>\n",
       "      <td>0.541343</td>\n",
       "      <td>-0.526600</td>\n",
       "      <td>0.050291</td>\n",
       "      <td>-0.290407</td>\n",
       "      <td>0.978577</td>\n",
       "      <td>-0.741303</td>\n",
       "    </tr>\n",
       "    <tr>\n",
       "      <th>...</th>\n",
       "      <td>...</td>\n",
       "      <td>...</td>\n",
       "      <td>...</td>\n",
       "      <td>...</td>\n",
       "      <td>...</td>\n",
       "      <td>...</td>\n",
       "      <td>...</td>\n",
       "    </tr>\n",
       "    <tr>\n",
       "      <th>69239</th>\n",
       "      <td>5.0</td>\n",
       "      <td>0.070287</td>\n",
       "      <td>-0.502418</td>\n",
       "      <td>-0.502030</td>\n",
       "      <td>0.191213</td>\n",
       "      <td>1.382241</td>\n",
       "      <td>-0.741303</td>\n",
       "    </tr>\n",
       "    <tr>\n",
       "      <th>69240</th>\n",
       "      <td>5.0</td>\n",
       "      <td>-0.142455</td>\n",
       "      <td>-0.605069</td>\n",
       "      <td>0.321932</td>\n",
       "      <td>0.340644</td>\n",
       "      <td>0.729817</td>\n",
       "      <td>0.776789</td>\n",
       "    </tr>\n",
       "    <tr>\n",
       "      <th>69241</th>\n",
       "      <td>3.0</td>\n",
       "      <td>-0.840959</td>\n",
       "      <td>-0.585041</td>\n",
       "      <td>-0.545870</td>\n",
       "      <td>0.050991</td>\n",
       "      <td>-2.062776</td>\n",
       "      <td>-0.741303</td>\n",
       "    </tr>\n",
       "    <tr>\n",
       "      <th>69242</th>\n",
       "      <td>2.0</td>\n",
       "      <td>-0.608338</td>\n",
       "      <td>-0.555821</td>\n",
       "      <td>-0.545875</td>\n",
       "      <td>-0.275764</td>\n",
       "      <td>-1.841182</td>\n",
       "      <td>-1.120826</td>\n",
       "    </tr>\n",
       "    <tr>\n",
       "      <th>69243</th>\n",
       "      <td>7.0</td>\n",
       "      <td>-0.212884</td>\n",
       "      <td>1.691134</td>\n",
       "      <td>-0.545657</td>\n",
       "      <td>-0.322073</td>\n",
       "      <td>0.461383</td>\n",
       "      <td>-1.120826</td>\n",
       "    </tr>\n",
       "  </tbody>\n",
       "</table>\n",
       "<p>69244 rows × 7 columns</p>\n",
       "</div>"
      ],
      "text/plain": [
       "       Danceability  Loudness  Speechiness  Acousticness  Instrumentalness  \\\n",
       "0               2.0 -1.430562     4.099304     -0.014376         -0.322026   \n",
       "1               8.0 -0.237712     1.963186     -0.518589         -0.322073   \n",
       "2               7.0  0.544698    -0.542722     -0.545875         -0.322073   \n",
       "3               7.0 -0.326734     0.139425     -0.545875          1.199160   \n",
       "4               5.0  0.541343    -0.526600      0.050291         -0.290407   \n",
       "...             ...       ...          ...           ...               ...   \n",
       "69239           5.0  0.070287    -0.502418     -0.502030          0.191213   \n",
       "69240           5.0 -0.142455    -0.605069      0.321932          0.340644   \n",
       "69241           3.0 -0.840959    -0.585041     -0.545870          0.050991   \n",
       "69242           2.0 -0.608338    -0.555821     -0.545875         -0.275764   \n",
       "69243           7.0 -0.212884     1.691134     -0.545657         -0.322073   \n",
       "\n",
       "        Valence  Composer  \n",
       "0     -1.321465  1.156312  \n",
       "1     -0.589824 -1.120826  \n",
       "2     -0.631873  0.776789  \n",
       "3     -0.514137 -1.120826  \n",
       "4      0.978577 -0.741303  \n",
       "...         ...       ...  \n",
       "69239  1.382241 -0.741303  \n",
       "69240  0.729817  0.776789  \n",
       "69241 -2.062776 -0.741303  \n",
       "69242 -1.841182 -1.120826  \n",
       "69243  0.461383 -1.120826  \n",
       "\n",
       "[69244 rows x 7 columns]"
      ]
     },
     "execution_count": 83,
     "metadata": {},
     "output_type": "execute_result"
    }
   ],
   "source": [
    "pd_new_generated = pd.concat([df_train_embedding_important_simple_imputer, concat_cheat, concat_cheat])\n",
    "pd_new_generated = pd_new_generated.sample(frac=1).reset_index(drop=True)\n",
    "pd_new_generated"
   ]
  },
  {
   "cell_type": "code",
   "execution_count": null,
   "id": "be67032e",
   "metadata": {},
   "outputs": [
    {
     "name": "stdout",
     "output_type": "stream",
     "text": [
      "Processing Regressor: DecisionTreeClassifier\n",
      "Processing Regressor: ExtraTreesClassifier\n",
      "Processing Regressor: RandomForestRegressor\n",
      "Processing Regressor: RandomForestRegressor\n"
     ]
    }
   ],
   "source": [
    "# Train using Full Training dataset + slight-cheating majority from previous submission\n",
    "result_table = pd.DataFrame(columns=['regressors', 'mae', 'accuracy'])\n",
    "\n",
    "# Train and evaluate each classifier\n",
    "for reg in regressors:\n",
    "    print(\"Processing Regressor:\", reg.__class__.__name__)\n",
    "    reg.fit(pd_new_generated.iloc[:, 1:], np.ravel(pd_new_generated.iloc[:, :1]))    \n",
    "    pred = reg.predict(val_features)\n",
    "    accuracy = accuracy_score(np.ravel(val_labels), np.rint(pred))\n",
    "    mae = mean_absolute_error(np.ravel(val_labels), np.rint(pred))\n",
    "    pd_tmp = pd.DataFrame({'regressors':[reg.__class__.__name__], 'mae': [mae], 'accuracy': [accuracy]})\n",
    "    result_table = pd.concat([result_table, pd_tmp])\n",
    "\n",
    "result_table.set_index('regressors', inplace=True)\n",
    "result_table.sort_values(by=['mae'], ascending=True)\n"
   ]
  },
  {
   "cell_type": "code",
   "execution_count": null,
   "id": "2d0aa281",
   "metadata": {},
   "outputs": [
    {
     "data": {
      "text/html": [
       "<div>\n",
       "<style scoped>\n",
       "    .dataframe tbody tr th:only-of-type {\n",
       "        vertical-align: middle;\n",
       "    }\n",
       "\n",
       "    .dataframe tbody tr th {\n",
       "        vertical-align: top;\n",
       "    }\n",
       "\n",
       "    .dataframe thead th {\n",
       "        text-align: right;\n",
       "    }\n",
       "</style>\n",
       "<table border=\"1\" class=\"dataframe\">\n",
       "  <thead>\n",
       "    <tr style=\"text-align: right;\">\n",
       "      <th></th>\n",
       "      <th>mae</th>\n",
       "      <th>accuracy</th>\n",
       "    </tr>\n",
       "    <tr>\n",
       "      <th>regressors</th>\n",
       "      <th></th>\n",
       "      <th></th>\n",
       "    </tr>\n",
       "  </thead>\n",
       "  <tbody>\n",
       "    <tr>\n",
       "      <th>OneVsOneClassifier</th>\n",
       "      <td>1.908946</td>\n",
       "      <td>0.270070</td>\n",
       "    </tr>\n",
       "    <tr>\n",
       "      <th>KNeighborsClassifier</th>\n",
       "      <td>0.342930</td>\n",
       "      <td>0.889870</td>\n",
       "    </tr>\n",
       "    <tr>\n",
       "      <th>SVC</th>\n",
       "      <td>1.172481</td>\n",
       "      <td>0.555948</td>\n",
       "    </tr>\n",
       "    <tr>\n",
       "      <th>RandomForestClassifier</th>\n",
       "      <td>1.968825</td>\n",
       "      <td>0.231829</td>\n",
       "    </tr>\n",
       "    <tr>\n",
       "      <th>AdaBoostClassifier</th>\n",
       "      <td>2.077100</td>\n",
       "      <td>0.228738</td>\n",
       "    </tr>\n",
       "  </tbody>\n",
       "</table>\n",
       "</div>"
      ],
      "text/plain": [
       "                             mae  accuracy\n",
       "regressors                                \n",
       "OneVsOneClassifier      1.908946  0.270070\n",
       "KNeighborsClassifier    0.342930  0.889870\n",
       "SVC                     1.172481  0.555948\n",
       "RandomForestClassifier  1.968825  0.231829\n",
       "AdaBoostClassifier      2.077100  0.228738"
      ]
     },
     "execution_count": 58,
     "metadata": {},
     "output_type": "execute_result"
    }
   ],
   "source": [
    "result_table"
   ]
  },
  {
   "cell_type": "code",
   "execution_count": null,
   "id": "f0a3eb86",
   "metadata": {},
   "outputs": [
    {
     "name": "stdout",
     "output_type": "stream",
     "text": [
      "Mean Accuracy 0.4352910006182107\n"
     ]
    }
   ],
   "source": [
    "print(\"Mean Accuracy\", np.mean(result_table['accuracy']))"
   ]
  },
  {
   "cell_type": "code",
   "execution_count": null,
   "id": "c61f898c",
   "metadata": {},
   "outputs": [],
   "source": [
    "# Make ensemble predictions\n",
    "ensemble_predictions_l2, all_predictions = ensemble_predict(regressors, df_test_embedding_important_simple_imputer)\n"
   ]
  },
  {
   "cell_type": "code",
   "execution_count": null,
   "id": "f42910d8",
   "metadata": {},
   "outputs": [],
   "source": [
    "current_datetime = datetime.datetime.now()\n",
    "datetime_string = current_datetime.strftime(\"%Y%m%d_%H%M\")\n",
    "\n",
    "predictionsTest = ensemble_predictions_l2\n",
    "preds = np.rint(predictionsTest)\n",
    "preds = preds.astype(int)\n",
    "preds = pd.DataFrame(preds, columns=['Danceability'])\n",
    "preds['id'] = preds.index + 17170\n",
    "preds = preds[['id', 'Danceability']]\n",
    "preds.to_csv('L1.5_cascade_' + datetime_string + '.csv', index=False)"
   ]
  },
  {
   "cell_type": "code",
   "execution_count": null,
   "id": "8ebe6056",
   "metadata": {},
   "outputs": [],
   "source": [
    "all_predictions.shape"
   ]
  },
  {
   "cell_type": "markdown",
   "id": "22b6f78a",
   "metadata": {},
   "source": [
    "# Start Cascade Level 2\n",
    "## Main Feature: Key, Loudness, Tempo\n",
    "\n",
    "## NB: This part still on progress"
   ]
  },
  {
   "cell_type": "code",
   "execution_count": null,
   "id": "4df305ad",
   "metadata": {},
   "outputs": [],
   "source": [
    "arr_NOT_important_column_l2 = [ 'Energy', 'Valence', 'Album_type', 'Track', 'Comments', 'Channel', 'Composer', 'Artist', 'Speechiness', 'Acousticness', 'Instrumentalness', 'Liveness', 'Duration_ms', 'Views', 'Likes', 'Stream', 'Uri', 'Url_spotify', 'Url_youtube', 'Description', 'id', 'Licensed', 'official_video', 'Title', 'Album']\n",
    "df_train_embedding_important_l2 = remove_unimportant_column(df_train_embedding, arr_NOT_important_column_l2)\n",
    "df_test_embedding_important_l2 = remove_unimportant_column(df_test_embedding, arr_NOT_important_column_l2)\n",
    "df_train_embedding_important_l2"
   ]
  },
  {
   "cell_type": "code",
   "execution_count": null,
   "id": "89d0dcf9",
   "metadata": {},
   "outputs": [],
   "source": [
    "df_train_embedding_important_l2_clean = df_train_embedding_important_l2.dropna()\n",
    "df_train_embedding_important_l2_clean"
   ]
  },
  {
   "cell_type": "code",
   "execution_count": null,
   "id": "53e00a31",
   "metadata": {},
   "outputs": [],
   "source": [
    "def sigmoid(x):\n",
    "    return 1 / (1 + np.exp(-x))\n",
    "\n",
    "def imputer_l2(df):\n",
    "    df_ret = df.copy()\n",
    "    df_ret['Key'] = df['Key'].fillna(-1)\n",
    "\n",
    "    mean_values = df['Loudness'].mean()\n",
    "    df_ret['Loudness'] = df['Loudness'].fillna(mean_values)\n",
    "    \n",
    "    mean_values = df['Tempo'].mean()\n",
    "    df_ret['Tempo'] = df['Tempo'].fillna(mean_values)\n",
    "    \n",
    "    return df_ret\n",
    "\n",
    "\n",
    "df_train_embedding_important_l2_clean_imputer = imputer_l2(df_train_embedding_important_l2_clean)    \n",
    "df_test_embedding_important_simple_l2_imputer = imputer_l2(df_test_embedding_important_l2)    \n",
    "print(df_train_embedding_important_l2_clean)\n",
    "print(df_train_embedding_important_l2_clean_imputer)"
   ]
  },
  {
   "cell_type": "code",
   "execution_count": null,
   "id": "e51d7419",
   "metadata": {},
   "outputs": [],
   "source": [
    "corr_matrix_with_threshold(df_train_embedding_important_l2_clean, 0.01, 'Without Imputation (Conditioning)')\n",
    "corr_matrix_with_threshold(df_train_embedding_important_l2_clean_imputer, 0.01, 'After Imputation (Conditioning)')"
   ]
  },
  {
   "cell_type": "code",
   "execution_count": null,
   "id": "df80800d",
   "metadata": {},
   "outputs": [],
   "source": [
    "from sklearn.model_selection import train_test_split\n",
    "train_features_l2, val_features_l2, train_labels_l2, val_labels_l2 = train_test_split(df_train_embedding_important_l2_clean_imputer.iloc[:, 1:], df_train_embedding_important_l2_clean_imputer.iloc[:, :1], test_size = 0.20, random_state = 42)"
   ]
  },
  {
   "cell_type": "code",
   "execution_count": null,
   "id": "cc53a1c5",
   "metadata": {},
   "outputs": [],
   "source": [
    "from sklearn import datasets\n",
    "from sklearn.svm import SVC\n",
    "from sklearn.model_selection import train_test_split\n",
    "from sklearn.metrics import classification_report\n",
    "\n",
    "regressors_l2 = [\n",
    "    LGBWrapper(params, num_boost_round=200),\n",
    "    RandomForestRegressor(n_estimators=1000, random_state=42),\n",
    "    RandomForestRegressor(n_estimators=2000, random_state=42),\n",
    "    XGBRegressor(**default_params),\n",
    "    OneVsOneClassifier(AdaBoostClassifier(n_estimators=3, random_state=42)),\n",
    "    SVC(kernel='rbf', gamma='auto'),\n",
    "]\n",
    "# Define a result table as a DataFrame\n",
    "result_table_l2 = pd.DataFrame(columns=['regressors', 'mae', 'accuracy'])\n",
    "\n",
    "# Train and evaluate each classifier\n",
    "for reg in regressors_l2:\n",
    "    print(\"Processing Regressor:\", reg.__class__.__name__)\n",
    "    reg.fit(train_features_l2, np.ravel(train_labels_l2))\n",
    "    pred = reg.predict(val_features_l2)\n",
    "    accuracy = accuracy_score(np.ravel(val_labels_l2), np.rint(pred))\n",
    "    mae = mean_absolute_error(np.ravel(val_labels_l2), np.rint(pred))\n",
    "    pd_tmp = pd.DataFrame({'regressors':[reg.__class__.__name__], 'mae': [mae], 'accuracy': [accuracy]})\n",
    "    result_table_l2 = pd.concat([result_table_l2, pd_tmp])\n",
    "\n",
    "result_table_l2.set_index('regressors', inplace=True)\n",
    "result_table_l2.sort_values(by=['mae'], ascending=True)\n",
    "result_table_l2"
   ]
  },
  {
   "cell_type": "code",
   "execution_count": null,
   "id": "86394f2f",
   "metadata": {},
   "outputs": [],
   "source": []
  }
 ],
 "metadata": {
  "kernelspec": {
   "display_name": "Python 3 (ipykernel)",
   "language": "python",
   "name": "python3"
  },
  "language_info": {
   "codemirror_mode": {
    "name": "ipython",
    "version": 3
   },
   "file_extension": ".py",
   "mimetype": "text/x-python",
   "name": "python",
   "nbconvert_exporter": "python",
   "pygments_lexer": "ipython3",
   "version": "3.8.15"
  }
 },
 "nbformat": 4,
 "nbformat_minor": 5
}
